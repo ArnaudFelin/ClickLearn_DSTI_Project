{
 "cells": [
  {
   "cell_type": "markdown",
   "metadata": {},
   "source": [
    "# Creating a training database for dolphin clicks by importing Pamguard CSV annotation files\n",
    "(CLICKLEARN DSTI Project)\n",
    "\n",
    "\n",
    "The objective of this notebook is to complete and adapt Ketos *Creating Database (Extended)* notebook (\n",
    "https://docs.meridian.cs.dal.ca/ketos/tutorials/create_database/index.html) for **Pamguard software** users.\n",
    "Pamguard is an open source software which objective is to provide free and easy to handle tools for cetacean passive acoustic monitoring (PAM): https://www.pamguard.org/.\n",
    "\n",
    "All the content of this notebook (Chapters 1 to 8) replaces the original one :\n",
    "\n",
    "* Chapters 1 to 2 complete original chapter 2, by providing methods to load a CSV file exported by **Pamguard software**, and convert it as Ketos annotation table, dealing with datetime and timedelta operations. The original notebook described methods to import CSV files which already match to the Ketos requirements, but not to import and convert other CSV files.\n",
    "* Chapter 3 provides a method to put every WAV file in a unique folder, as required by Ketos before automatically building a database.\n",
    "* Chapter 4 to 8 is specific to ClickLearn project. They follow the same structure as in the original notebook but adapt all the settings for dolphin clicks detection. \n",
    "\n",
    "\n",
    "Two types of CSV file exported by Pamguard can be used with these methods. One section of this notebook will be dedicated to each type :\n",
    "\n",
    "* **Events annotation CSV files**: quoting start and end of time ranges (several seconds long) in which clicks streams have been identified.\n",
    "* **Clicks annotation CSV files**: quoting start time of identified clicks. Click duration is about few milliseconds and has to be set in parameters (see below).\n",
    "\n",
    "The converted annotation tables will then be ready to be directly used by Ketos library (see Chapter 4 and followings). **For a first training, only the Events annotation CSV files will be used to train the model.**\n",
    "\n",
    "Steps 1 to 4 of this notebook are illustrated in the following figure:\n",
    "\n",
    "<br><br>\n",
    "<img src=\"img/building_database_notebook_steps.jpg\" alt=\"building database steps\" style=\"width: 70%;\"/>\n",
    "\n",
    "\n",
    "\n",
    "## Contents:\n",
    "\n",
    "[1. Imports and settings](#section1)  \n",
    "[2a. Building annotation files from Events Annotations CSV files](#section2a)  \n",
    "[2b. Building annotation files from Clicks Annotations CSV files](#section2b)  \n",
    "[3. Grouping all .WAV files in a same folder](#section3)  \n",
    "[4. Standardize Ketos annotation tables](#section4)  \n",
    "[5. Creating segments of uniform length and augmenting the data](#section5)  \n",
    "[6. Including background noise](#section6)  \n",
    "[7. Choosing the spectrogram settings](#section7)  \n",
    "[8. Creating the database](#section8)  \n",
    "\n",
    "\n"
   ]
  },
  {
   "cell_type": "markdown",
   "metadata": {},
   "source": [
    " "
   ]
  },
  {
   "cell_type": "markdown",
   "metadata": {},
   "source": [
    "<a id=\"section1\"></a>\n",
    "## 1. Imports and settings"
   ]
  },
  {
   "cell_type": "markdown",
   "metadata": {},
   "source": [
    "### Importing the packages\n",
    "\n",
    "We will use several modules within ketos and also the pandas package\n",
    "\n"
   ]
  },
  {
   "cell_type": "code",
   "execution_count": 1,
   "metadata": {},
   "outputs": [
    {
     "name": "stderr",
     "output_type": "stream",
     "text": [
      "C:\\Users\\groul\\anaconda3\\envs\\ketos_env\\lib\\site-packages\\tensorflow\\python\\keras\\optimizer_v2\\optimizer_v2.py:375: UserWarning: The `lr` argument is deprecated, use `learning_rate` instead.\n",
      "  \"The `lr` argument is deprecated, use `learning_rate` instead.\")\n"
     ]
    }
   ],
   "source": [
    "import os\n",
    "import numpy as np\n",
    "import pandas as pd\n",
    "from ketos.data_handling import selection_table as sl\n",
    "import ketos.data_handling.database_interface as dbi\n",
    "from ketos.data_handling.parsing import load_audio_representation\n",
    "from ketos.audio.spectrogram import MagSpectrogram\n",
    "from ketos.data_handling.parsing import load_audio_representation\n",
    "\n",
    "from datetime import datetime\n",
    "from typing import Union\n",
    "import math\n",
    "import random\n",
    "\n",
    "# This last package is made by ClickLearn DSTI team to extract informations from a Pamguard CSV export file \n",
    "# and buid a Ketos annotation table (Pandas dataframe)\n",
    "# import ketos_annotation_table as kat"
   ]
  },
  {
   "cell_type": "markdown",
   "metadata": {},
   "source": [
    "### Import functions\n",
    "\n"
   ]
  },
  {
   "cell_type": "markdown",
   "metadata": {},
   "source": [
    "<span style = \"color : red;\">\n",
    "TODO:\n",
    "    \n",
    "* Move following methods in Ketos_annotation_table.py when finished, then delete this chapter\n",
    "</span>\n"
   ]
  },
  {
   "cell_type": "code",
   "execution_count": 2,
   "metadata": {
    "scrolled": true
   },
   "outputs": [],
   "source": [
    "def list_pamguard_wav_files(wav_files_path):\n",
    "    \"\"\"Lists every wav files contained in a directory tree. The structuure of file names is specific to pamguard.\n",
    "        Args:\n",
    "            filename : str\n",
    "                PAMGUARD .wav or audio_file name. \n",
    "                It must end with the following structure before \".wav\": YYYYmmdd_HHMMSS_f\n",
    "                example: 048_20180528_003358_587.wav  \n",
    "        Returns:\n",
    "            Pandas Dataframe\n",
    "                DataFrame with 2 columns:\n",
    "                    filestart: absolute UTC datetime value at which the wav file record starts\n",
    "                    filename: name of the wav file\n",
    "    \"\"\"\n",
    "    file_list = []\n",
    "    for root, directory, files in os.walk(wav_files_path):\n",
    "        for file in files:\n",
    "            if file.endswith('wav'):\n",
    "                file_list.append([datetime.strptime(file[-23:-4], '%Y%m%d_%H%M%S_%f'), file])\n",
    "\n",
    "    file_list.sort()\n",
    "    return pd.DataFrame(file_list, columns = ['filestart', 'filename'])"
   ]
  },
  {
   "cell_type": "code",
   "execution_count": 3,
   "metadata": {},
   "outputs": [],
   "source": [
    "def pamguard_events_annotations_csv_to_df(annotation_csv_path:str, wav_files_dataframe, events_subsampling_option:int = 2):\n",
    "    \"\"\"Convert a Pamguard CSV annotation file into a Ketos annotation table (non standardized). \n",
    "        Args:\n",
    "            annotation_csv_path: str\n",
    "                complete path of the annotation CSV file. CSV separator must be ','\n",
    "            wav_files_dataframe: Pandas DataFrame\n",
    "                DataFrame listing all WAV files that annotation CSV file refer to. \n",
    "                This DataFrame has only 2 columns: \n",
    "                    filename:str\n",
    "                        name of the wav file\n",
    "                    filestart: datetime\n",
    "                        absolute UTC time at which the wav file starts\n",
    "            events_subsampling_option: int\n",
    "                Subsampling is optional but highly recommended to avoid unsure detections. \n",
    "                From the less to the most selective option:\n",
    "                - 0: no subsampling. All detections (sure, unsure...) are kept\n",
    "                - 1: subsample excluding all commented detections in 'comment' column \n",
    "                    (comments always refer to unsure detections), \n",
    "                    then including 'definite' ('DLD') and 'probable' ('DLP') dolphin click detections as well\n",
    "                - 2 (default value): subsample excluding all commented detections in 'comment' column \n",
    "                    (comments always refer to unsure detections), \n",
    "                    then including only 'definite' dolphin click detections ('DLD')\n",
    "               \n",
    "        Returns:\n",
    "            annotations_df: pd.DataFrame\n",
    "                Ketos annotation table (non standardized)\n",
    "    \"\"\"\n",
    "\n",
    "    # import CSV in a dataframe\n",
    "    annotations_df = pd.read_csv(annotation_csv_path, sep=\",\")\n",
    "\n",
    "    # Remove all whitespaces from string typed series of the dataframe \n",
    "    annotations_df = strip_dataframe(annotations_df)\n",
    "\n",
    "    # SUBSAMPLING (SPECIFIC TO EVENT ANNOTATION DF, with option 2 > 1 > 0, check docstring):\n",
    "    if events_subsampling_option == 2:\n",
    "        annotations_df = annotations_df.loc[((annotations_df.comment.isna()) \n",
    "                                             & (annotations_df.eventType == 'DLD') | (annotations_df.eventType == 'other')),]\n",
    "    if events_subsampling_option == 1:\n",
    "        annotations_df = annotations_df.loc[(annotations_df.comment.isna()),]    \n",
    "\n",
    "    # updating pd.Series type from string to datetime\n",
    "    annotations_df = annotations_df.rename(columns = {'UTC':'start', 'EventEnd':'end', 'eventType':'label'})\n",
    "    annotations_df.start = pd.to_datetime(annotations_df.start, format = '%Y-%m-%d %H:%M:%S.%f')\n",
    "    annotations_df.end = pd.to_datetime(annotations_df.end, format = '%Y-%m-%d %H:%M:%S.%f')\n",
    "\n",
    "\n",
    "    # computing start and end time from beginning of the file\n",
    "    # + creating a new column to add .wav filenames\n",
    "    annotations_df['filename']=\"\"\n",
    "    annotations_df = annotations_df.reset_index()\n",
    "    for index, row in annotations_df.iterrows():\n",
    "        try:\n",
    "            #select all the files that starts before or at the same time than \"start\", pick the last of them  \n",
    "            matching_loc = wav_files_dataframe.loc[(wav_files_dataframe.filestart <= row.start)].iloc[-1]\n",
    "            annotations_df.filename[index] = matching_loc['filename']\n",
    "            annotations_df.start[index] = (annotations_df.start[index] - matching_loc['filestart'])\n",
    "            annotations_df.end[index] = (annotations_df.end[index] - matching_loc['filestart'])\n",
    "        except:\n",
    "            pass\n",
    "\n",
    "\n",
    "    #convert 'start' in seconds\n",
    "#     annotations_df['start'] = pd.Series(annotations_df.start).apply(pd.Timedelta.total_seconds)\n",
    "#     annotations_df['end'] = pd.Series(annotations_df.end).apply(pd.Timedelta.total_seconds)\n",
    "    annotations_df['start'] = annotations_df.start.apply(pd.Timedelta.total_seconds)\n",
    "    annotations_df['end'] = annotations_df.end.apply(pd.Timedelta.total_seconds)\n",
    "    \n",
    "    # # select only columns required in Ketos annotation table\n",
    "    annotations_df = annotations_df.loc[:,('Id', 'start', 'end', 'label', 'filename', 'nClicks', 'comment')]\n",
    "\n",
    "\n",
    "    # Check start and end values of events annotation df\n",
    "    check_pamguard_annotation_df(annotations_df)\n",
    "    \n",
    "    return annotations_df"
   ]
  },
  {
   "cell_type": "code",
   "execution_count": 4,
   "metadata": {},
   "outputs": [],
   "source": [
    "def strip_dataframe(df):\n",
    "    \"\"\"Removes any white space before and after value of every cells of a dataframe.\n",
    "        Args:\n",
    "            df: pd.DataFrame\n",
    "        Returns:\n",
    "            df: pd.DataFrame\n",
    "    \"\"\"\n",
    "    for column in df:\n",
    "        if isinstance(df[column][0], str):\n",
    "            df[column] = df[column].str.strip()\n",
    "    return df"
   ]
  },
  {
   "cell_type": "code",
   "execution_count": 5,
   "metadata": {},
   "outputs": [],
   "source": [
    "def check_pamguard_annotation_df(df):\n",
    "    \"\"\"Check Check time validity on annotations from a CSV file extracted from Pamguard software. \n",
    "        Uses check_annotation in a loop.\n",
    "    \n",
    "        Args:\n",
    "            df: Pandas DataFrame\n",
    "                Pamguard annotation DataFrame converted by the pamguard_annotations_csv_to_df() method.\n",
    "        \n",
    "        Returns: \n",
    "            errors: list\n",
    "                List of errors containing each incorrect annotation\n",
    "    \"\"\"\n",
    "    errors = []\n",
    "    for index, row in df.iterrows():\n",
    "#       row.start : start time of the annotation, in seconds from the beginning of the file\n",
    "#       row.end : end time of the annotation, in seconds from the beginning of the file\n",
    "        if row.start > row.end: \n",
    "            errors = errors.append(f'Id {index}: end value ({row.end}) is prior to start value ({row.start})')\n",
    "        # set maximum end time at 3600 seconds, as wav file max duration = 3600 sec \n",
    "        if row.end > 3600:\n",
    "#             next_annot_end = row.end - 3600\n",
    "            df.end[index] = 3600      \n",
    "    if errors:\n",
    "        for error in errors:\n",
    "            print(error)\n",
    "    return errors"
   ]
  },
  {
   "cell_type": "code",
   "execution_count": 6,
   "metadata": {
    "scrolled": true
   },
   "outputs": [],
   "source": [
    "def subsample_dataframe(df_to_subsample, train_proportion:float):\n",
    "    \"\"\"Subsample a Pandas DataFrame into 2 others, based on its indexes.\n",
    "        \n",
    "        Args:\n",
    "            df_to_subsample: pd.DataFrame\n",
    "            train_proportion: float\n",
    "                proportion (]0;1[) of indexes to subsample in the dataset, in order to build the train dataset\n",
    "    \n",
    "        Returns: tuple with 2 dataframes:\n",
    "            [0] train subsample \n",
    "            [1] test subsamples\n",
    "    \"\"\"\n",
    "    length = len(df_to_subsample)\n",
    "    nb_train_rows = math.ceil(train_proportion*length)\n",
    "    #create a sequence corresponding to df indexes to subsample \n",
    "    sequence = set(range(length))\n",
    "    train_indexes = random.sample(sequence, nb_train_rows)\n",
    "    test_indexes = list(sequence - set(train_indexes))\n",
    "    return df_to_subsample.iloc[train_indexes], df_to_subsample.iloc[test_indexes]"
   ]
  },
  {
   "cell_type": "markdown",
   "metadata": {},
   "source": [
    "### Path settings\n",
    "\n",
    "\n",
    "This part contains all required settings to build annotation dataframes:\n",
    "* Audio files path (where all audio files are stored)\n",
    "* File path, where: \n",
    "    + CSV fils are stored and Annotation tables **will be** stored\n",
    "    + Sound files are stored\n",
    "* Click duration in milliseconds (for Click annotation CSV files)\n",
    "* Set of valid labels to be used (all labels from CSV file that are not matching this set will be stored in an error log file)"
   ]
  },
  {
   "cell_type": "code",
   "execution_count": 7,
   "metadata": {},
   "outputs": [],
   "source": [
    "# PATH SETTINGS\n",
    "# Annotation CSV file folder path (MAC)\n",
    "# annotations_folder_path ='/Users/benoitmialet/Ketos/ClickLearn/'\n",
    "# Annotation CSV file folder path (W10)\n",
    "annotations_folder_path = (r'D:\\SYSTEL\\Ketos\\clicklearn')\n",
    "# Annotation CSV file name\n",
    "positive_csv_events_name = 'UBISEA_acoustic_detections_samples_events_positive.csv' \n",
    "negative_csv_events_name = 'annotations_events_negative.csv' \n",
    "# csv_clicks_name = 'UBISEA_acoustic_detections_samples_clicks.csv'\n",
    "\n",
    "# Sound file path (MAC)\n",
    "# sound_files_path = '/Volumes/BENITO/Pelagis - Données acoustiques ASI/Recordings 048 kHz'\n",
    "# Sound file path (W10)\n",
    "sound_files_path = r'F:\\Pelagis - Données acoustiques ASI\\Recordings 048 kHz'\n",
    "\n",
    "# PATH BUILDING\n",
    "csv_folder_path = annotations_folder_path\n",
    "positive_csv_events_path = os.path.join(csv_folder_path,positive_csv_events_name)\n",
    "negative_csv_events_path = os.path.join(csv_folder_path,negative_csv_events_name)\n",
    "# csv_clicks_path = os.path.join(csv_folder_path,csv_clicks_name)\n",
    "\n",
    "# # CLICK ANNOTATION SETTINGS \n",
    "# # set click duration (milliseconds) for the dataframe\n",
    "# clickDuration = pd.Timedelta(2.5, unit = 'milliseconds')\n",
    "# # set label corresponding to a click detection\n",
    "# label = 'DLD'"
   ]
  },
  {
   "cell_type": "markdown",
   "metadata": {},
   "source": [
    "<a id=\"section2a\"></a>\n",
    "## 2a. Building annotation files from **Events Annotations CSV files** \n"
   ]
  },
  {
   "cell_type": "markdown",
   "metadata": {},
   "source": [
    "This section describes methods to create an annotation table from Pamguard CSV files."
   ]
  },
  {
   "cell_type": "markdown",
   "metadata": {},
   "source": [
    "### steps overview:\n",
    "* Building a wav_df DataFrame with name and start time of every .wav file in sound files folder and sub folders\n",
    "* Importing a Pamguard CSV file into a Pandas DataFrame:\n",
    "    + import the CSV file into a dataframe\n",
    "    + strip blank spaces (strings) in all the dataframe\n",
    "    + subsample the dataframe regarding the labels (see function details)\n",
    "    + convert 'start' and 'end' value from string to datetime format\n",
    "    + add and complete 'filename' column, update 'start' column: for each 'start' value:\n",
    "        + select rows in wav_df where 'filestart' value <= 'start' value\n",
    "        + take last index [-1] of this selection \n",
    "        + at this index (wav_df), take 'filename' and 'filestart' values\n",
    "        + copy this 'filename' value in the dataframe, at the right index\n",
    "        + update 'start' column by computing the time delta in seconds between the dataframe 'start' value and wav_df 'filestart' value\n",
    "    + convert 'start' and 'end' columns in seconds.\n"
   ]
  },
  {
   "cell_type": "markdown",
   "metadata": {},
   "source": [
    "### Building a wav_df dataframe with name and start time of every .wav file in sound files folder and sub folders"
   ]
  },
  {
   "cell_type": "markdown",
   "metadata": {},
   "source": [
    "For this we use our custom function ```list_wav_files``` that returns a dataframe. This dataframe will be used to find on which .wav file each annotation should be attributed"
   ]
  },
  {
   "cell_type": "code",
   "execution_count": 9,
   "metadata": {},
   "outputs": [
    {
     "data": {
      "text/html": [
       "<div>\n",
       "<style scoped>\n",
       "    .dataframe tbody tr th:only-of-type {\n",
       "        vertical-align: middle;\n",
       "    }\n",
       "\n",
       "    .dataframe tbody tr th {\n",
       "        vertical-align: top;\n",
       "    }\n",
       "\n",
       "    .dataframe thead th {\n",
       "        text-align: right;\n",
       "    }\n",
       "</style>\n",
       "<table border=\"1\" class=\"dataframe\">\n",
       "  <thead>\n",
       "    <tr style=\"text-align: right;\">\n",
       "      <th></th>\n",
       "      <th>filestart</th>\n",
       "      <th>filename</th>\n",
       "    </tr>\n",
       "  </thead>\n",
       "  <tbody>\n",
       "    <tr>\n",
       "      <th>0</th>\n",
       "      <td>2018-05-28 00:29:02.685</td>\n",
       "      <td>048_20180528_002902_685.wav</td>\n",
       "    </tr>\n",
       "    <tr>\n",
       "      <th>1</th>\n",
       "      <td>2018-05-28 00:31:22.520</td>\n",
       "      <td>048_20180528_003122_520.wav</td>\n",
       "    </tr>\n",
       "    <tr>\n",
       "      <th>2</th>\n",
       "      <td>2018-05-28 00:32:18.970</td>\n",
       "      <td>048_20180528_003218_970.wav</td>\n",
       "    </tr>\n",
       "    <tr>\n",
       "      <th>3</th>\n",
       "      <td>2018-05-28 00:33:02.923</td>\n",
       "      <td>048_20180528_003302_923.wav</td>\n",
       "    </tr>\n",
       "    <tr>\n",
       "      <th>4</th>\n",
       "      <td>2018-05-28 00:33:58.587</td>\n",
       "      <td>048_20180528_003358_587.wav</td>\n",
       "    </tr>\n",
       "    <tr>\n",
       "      <th>...</th>\n",
       "      <td>...</td>\n",
       "      <td>...</td>\n",
       "    </tr>\n",
       "    <tr>\n",
       "      <th>4289</th>\n",
       "      <td>2018-09-28 14:00:00.000</td>\n",
       "      <td>048_20180928_140000_000.wav</td>\n",
       "    </tr>\n",
       "    <tr>\n",
       "      <th>4290</th>\n",
       "      <td>2018-09-28 15:00:00.001</td>\n",
       "      <td>048_20180928_150000_001.wav</td>\n",
       "    </tr>\n",
       "    <tr>\n",
       "      <th>4291</th>\n",
       "      <td>2018-09-28 16:00:00.000</td>\n",
       "      <td>048_20180928_160000_000.wav</td>\n",
       "    </tr>\n",
       "    <tr>\n",
       "      <th>4292</th>\n",
       "      <td>2018-09-28 16:59:59.999</td>\n",
       "      <td>048_20180928_165959_999.wav</td>\n",
       "    </tr>\n",
       "    <tr>\n",
       "      <th>4293</th>\n",
       "      <td>2018-09-28 18:00:00.001</td>\n",
       "      <td>048_20180928_180000_001.wav</td>\n",
       "    </tr>\n",
       "  </tbody>\n",
       "</table>\n",
       "<p>4294 rows × 2 columns</p>\n",
       "</div>"
      ],
      "text/plain": [
       "                   filestart                     filename\n",
       "0    2018-05-28 00:29:02.685  048_20180528_002902_685.wav\n",
       "1    2018-05-28 00:31:22.520  048_20180528_003122_520.wav\n",
       "2    2018-05-28 00:32:18.970  048_20180528_003218_970.wav\n",
       "3    2018-05-28 00:33:02.923  048_20180528_003302_923.wav\n",
       "4    2018-05-28 00:33:58.587  048_20180528_003358_587.wav\n",
       "...                      ...                          ...\n",
       "4289 2018-09-28 14:00:00.000  048_20180928_140000_000.wav\n",
       "4290 2018-09-28 15:00:00.001  048_20180928_150000_001.wav\n",
       "4291 2018-09-28 16:00:00.000  048_20180928_160000_000.wav\n",
       "4292 2018-09-28 16:59:59.999  048_20180928_165959_999.wav\n",
       "4293 2018-09-28 18:00:00.001  048_20180928_180000_001.wav\n",
       "\n",
       "[4294 rows x 2 columns]"
      ]
     },
     "execution_count": 9,
     "metadata": {},
     "output_type": "execute_result"
    }
   ],
   "source": [
    "wav_df = list_pamguard_wav_files(sound_files_path)\n",
    "wav_df"
   ]
  },
  {
   "cell_type": "markdown",
   "metadata": {},
   "source": [
    "### Importing a Pamguard CSV file\n",
    "\n",
    "CSV files exported by Pamguard software can be converted into a Ketos annotation table.\n",
    "Export must be done with **default options and default variable names**. This section addresses **\"Events\"** files. In these files, annotations correspond to groups of clicks observed during time lapses of several seconds.\n",
    "    + Between EventStart and EventEnd datetime values, a various number of clicks (nClicks) are included.\n",
    "    + *use method with parameters annotation_type == 'events' and  events_subsampling_option (report to the method's docstring)*\n",
    "    + In the CSV files, columns **in bold** are required and must have **exactely the same headers** as followig: \n",
    "\n",
    "![Pamguard event csv](img/capture_PAMGUARD_event_csv.png)\n",
    "\n",
    "\n"
   ]
  },
  {
   "cell_type": "markdown",
   "metadata": {},
   "source": [
    "Now we use the pamguard_events_annotations_csv_to_df() method to import the CSV file into a data frame. We will use subsampling_option = 2, to select only the dolphin definite detection (DLD) labels"
   ]
  },
  {
   "cell_type": "markdown",
   "metadata": {},
   "source": [
    "Subsampling_option is optional but highly recommended to avoid unsure detections. Several subsamplings of annotations_csv_df are possible, from the less to the most selective option:\n",
    "- 0: no subsampling. All detections (sure, unsure...) are kept\n",
    "- 1: subsample excluding all commented detections in 'comment' column \n",
    "    (comments always refer to unsure detections), \n",
    "    then including 'definite' ('DLD') and 'probable' ('DLP') dolphin click detections as well\n",
    "- 2 (default value): subsample excluding all commented detections in 'comment' column \n",
    "    (comments always refer to unsure detections), \n",
    "    then including only 'definite' dolphin click detections ('DLD')\n",
    "N.B.: Clicks annotation CSV files are only based on (uncommented) definite dolphin click \n",
    "detections ('DLD'), so it is unnecessary to subsample them regarding to any comment or label. "
   ]
  },
  {
   "cell_type": "code",
   "execution_count": 10,
   "metadata": {},
   "outputs": [
    {
     "data": {
      "text/html": [
       "<div>\n",
       "<style scoped>\n",
       "    .dataframe tbody tr th:only-of-type {\n",
       "        vertical-align: middle;\n",
       "    }\n",
       "\n",
       "    .dataframe tbody tr th {\n",
       "        vertical-align: top;\n",
       "    }\n",
       "\n",
       "    .dataframe thead th {\n",
       "        text-align: right;\n",
       "    }\n",
       "</style>\n",
       "<table border=\"1\" class=\"dataframe\">\n",
       "  <thead>\n",
       "    <tr style=\"text-align: right;\">\n",
       "      <th></th>\n",
       "      <th>Id</th>\n",
       "      <th>start</th>\n",
       "      <th>end</th>\n",
       "      <th>label</th>\n",
       "      <th>filename</th>\n",
       "      <th>nClicks</th>\n",
       "      <th>comment</th>\n",
       "    </tr>\n",
       "  </thead>\n",
       "  <tbody>\n",
       "    <tr>\n",
       "      <th>0</th>\n",
       "      <td>48</td>\n",
       "      <td>570.912</td>\n",
       "      <td>695.107</td>\n",
       "      <td>DLD</td>\n",
       "      <td>048_20180603_035959_999.wav</td>\n",
       "      <td>362</td>\n",
       "      <td>NaN</td>\n",
       "    </tr>\n",
       "    <tr>\n",
       "      <th>1</th>\n",
       "      <td>57</td>\n",
       "      <td>2013.163</td>\n",
       "      <td>2068.447</td>\n",
       "      <td>DLD</td>\n",
       "      <td>048_20180611_110000_001.wav</td>\n",
       "      <td>100</td>\n",
       "      <td>NaN</td>\n",
       "    </tr>\n",
       "    <tr>\n",
       "      <th>2</th>\n",
       "      <td>313</td>\n",
       "      <td>108.851</td>\n",
       "      <td>478.894</td>\n",
       "      <td>DLD</td>\n",
       "      <td>048_20180720_205959_999.wav</td>\n",
       "      <td>610</td>\n",
       "      <td>NaN</td>\n",
       "    </tr>\n",
       "    <tr>\n",
       "      <th>3</th>\n",
       "      <td>314</td>\n",
       "      <td>3364.329</td>\n",
       "      <td>3600.000</td>\n",
       "      <td>DLD</td>\n",
       "      <td>048_20180721_090000_000.wav</td>\n",
       "      <td>386</td>\n",
       "      <td>NaN</td>\n",
       "    </tr>\n",
       "    <tr>\n",
       "      <th>4</th>\n",
       "      <td>320</td>\n",
       "      <td>1452.926</td>\n",
       "      <td>1496.650</td>\n",
       "      <td>DLD</td>\n",
       "      <td>048_20180722_185959_933.wav</td>\n",
       "      <td>137</td>\n",
       "      <td>NaN</td>\n",
       "    </tr>\n",
       "  </tbody>\n",
       "</table>\n",
       "</div>"
      ],
      "text/plain": [
       "    Id     start       end label                     filename  nClicks comment\n",
       "0   48   570.912   695.107   DLD  048_20180603_035959_999.wav      362     NaN\n",
       "1   57  2013.163  2068.447   DLD  048_20180611_110000_001.wav      100     NaN\n",
       "2  313   108.851   478.894   DLD  048_20180720_205959_999.wav      610     NaN\n",
       "3  314  3364.329  3600.000   DLD  048_20180721_090000_000.wav      386     NaN\n",
       "4  320  1452.926  1496.650   DLD  048_20180722_185959_933.wav      137     NaN"
      ]
     },
     "execution_count": 10,
     "metadata": {},
     "output_type": "execute_result"
    }
   ],
   "source": [
    "positive_annotations_df = pamguard_events_annotations_csv_to_df(\n",
    "    positive_csv_events_path, wav_df, \n",
    "    events_subsampling_option = 2\n",
    ")\n",
    "\n",
    "positive_annotations_df.head(5)\n",
    "# annotations_df[annotations_df.end>3600]"
   ]
  },
  {
   "cell_type": "markdown",
   "metadata": {},
   "source": [
    "The returned annotation_df data frame is not yet standardized and thus can be modified or processed. The columns indicate:\n",
    "\n",
    "**start:** start time for the annotation, in seconds from the beginning of the file  \n",
    "**end:** end time for the annotation, in seconds from the beginning of the file   \n",
    "**label:** label for the annotation\n",
    "**filename:** name of the audio file  "
   ]
  },
  {
   "cell_type": "code",
   "execution_count": 11,
   "metadata": {},
   "outputs": [
    {
     "data": {
      "text/plain": [
       "array(['DLD'], dtype=object)"
      ]
     },
     "execution_count": 11,
     "metadata": {},
     "output_type": "execute_result"
    }
   ],
   "source": [
    "#label check\n",
    "positive_annotations_df.label.unique()"
   ]
  },
  {
   "cell_type": "markdown",
   "metadata": {},
   "source": [
    "We now also build a negative_annotations_df which will contain all non-click labels. \n",
    "For the purpose of the project, the negative_csv_events file has been made by hand by our ClickLearn team (not with Panmguard). We will thus use the standard ```pd.read_csv``` method to import it.\n",
    "\n",
    "We will use this dataframe later in this notebook to build background noise labels."
   ]
  },
  {
   "cell_type": "code",
   "execution_count": 12,
   "metadata": {},
   "outputs": [
    {
     "data": {
      "text/html": [
       "<div>\n",
       "<style scoped>\n",
       "    .dataframe tbody tr th:only-of-type {\n",
       "        vertical-align: middle;\n",
       "    }\n",
       "\n",
       "    .dataframe tbody tr th {\n",
       "        vertical-align: top;\n",
       "    }\n",
       "\n",
       "    .dataframe thead th {\n",
       "        text-align: right;\n",
       "    }\n",
       "</style>\n",
       "<table border=\"1\" class=\"dataframe\">\n",
       "  <thead>\n",
       "    <tr style=\"text-align: right;\">\n",
       "      <th></th>\n",
       "      <th>start</th>\n",
       "      <th>end</th>\n",
       "      <th>label</th>\n",
       "      <th>filename</th>\n",
       "      <th>comment</th>\n",
       "    </tr>\n",
       "  </thead>\n",
       "  <tbody>\n",
       "    <tr>\n",
       "      <th>0</th>\n",
       "      <td>0</td>\n",
       "      <td>1200</td>\n",
       "      <td>other</td>\n",
       "      <td>048_20180601_185959_933.wav</td>\n",
       "      <td>very calm</td>\n",
       "    </tr>\n",
       "    <tr>\n",
       "      <th>1</th>\n",
       "      <td>1980</td>\n",
       "      <td>2130</td>\n",
       "      <td>other</td>\n",
       "      <td>048_20180601_185959_933.wav</td>\n",
       "      <td>many whistles</td>\n",
       "    </tr>\n",
       "    <tr>\n",
       "      <th>2</th>\n",
       "      <td>2340</td>\n",
       "      <td>2520</td>\n",
       "      <td>other</td>\n",
       "      <td>048_20180601_185959_933.wav</td>\n",
       "      <td>very calm</td>\n",
       "    </tr>\n",
       "    <tr>\n",
       "      <th>3</th>\n",
       "      <td>2800</td>\n",
       "      <td>2900</td>\n",
       "      <td>other</td>\n",
       "      <td>048_20180601_185959_933.wav</td>\n",
       "      <td>NaN</td>\n",
       "    </tr>\n",
       "    <tr>\n",
       "      <th>4</th>\n",
       "      <td>3085</td>\n",
       "      <td>3180</td>\n",
       "      <td>other</td>\n",
       "      <td>048_20180601_185959_933.wav</td>\n",
       "      <td>NaN</td>\n",
       "    </tr>\n",
       "  </tbody>\n",
       "</table>\n",
       "</div>"
      ],
      "text/plain": [
       "   start   end  label                     filename        comment\n",
       "0      0  1200  other  048_20180601_185959_933.wav      very calm\n",
       "1   1980  2130  other  048_20180601_185959_933.wav  many whistles\n",
       "2   2340  2520  other  048_20180601_185959_933.wav      very calm\n",
       "3   2800  2900  other  048_20180601_185959_933.wav            NaN\n",
       "4   3085  3180  other  048_20180601_185959_933.wav            NaN"
      ]
     },
     "execution_count": 12,
     "metadata": {},
     "output_type": "execute_result"
    }
   ],
   "source": [
    "negative_annotations_df = pd.read_csv(negative_csv_events_path, sep=\";\")\n",
    "negative_annotations_df.head(5)\n",
    "\n",
    "# annotations_df_no_subsample = pamguard_events_annotations_csv_to_df(csv_events_path, events_subsampling_option = 0)\n",
    "# annotations_df_no_subsample.head(5)"
   ]
  },
  {
   "cell_type": "code",
   "execution_count": 13,
   "metadata": {},
   "outputs": [
    {
     "data": {
      "text/plain": [
       "array(['other'], dtype=object)"
      ]
     },
     "execution_count": 13,
     "metadata": {},
     "output_type": "execute_result"
    }
   ],
   "source": [
    "#label check\n",
    "negative_annotations_df.label.unique()"
   ]
  },
  {
   "cell_type": "markdown",
   "metadata": {},
   "source": [
    "### Splitting manually positive and negative annotation files, each into 2 subsamples (Train / Test)\n",
    "Ketos framework seems to not use random annotations subsampling based on same audio files but works with train and test annotations made on different sound files. So for our fist training we stick to this approach and split train and test  annotation CSV files manually in separate files. We respect following proportions:\n",
    "* 70% of positive and negative detections (total duration) will be subset into positive_annotation_train and negative_annotation_train dataframes\n",
    "* 30% of positive and negative detections (total duration) will be subset into positive_annotation_test and negative_annotation_test dataframes\n",
    "* Train and test file pairs will be based on exactly the same wav files"
   ]
  },
  {
   "cell_type": "markdown",
   "metadata": {},
   "source": [
    "We first export csv versions of all the dataframes"
   ]
  },
  {
   "cell_type": "code",
   "execution_count": 34,
   "metadata": {},
   "outputs": [],
   "source": [
    "csv_positive_events_annotations_path = os.path.join(csv_folder_path,'positive_annotations_events.csv')\n",
    "positive_annotations_df.to_csv(csv_positive_events_annotations_path)\n",
    "\n",
    "csv_negative_events_annotations_path = os.path.join(csv_folder_path,'negative_annotations_events.csv')\n",
    "negative_annotations_df.to_csv(csv_negative_events_annotations_path)\n",
    "\n",
    "# not mandatory:\n",
    "wav_df_path = os.path.join(csv_folder_path,'asi_campaign_48khz_wav_list.csv')\n",
    "wav_df.to_csv(wav_df_path)"
   ]
  },
  {
   "cell_type": "markdown",
   "metadata": {},
   "source": [
    "After having split CSV files by hand, we re-import them:"
   ]
  },
  {
   "cell_type": "code",
   "execution_count": 20,
   "metadata": {},
   "outputs": [],
   "source": [
    "csv_positive_events_annotations_train_path = os.path.join(csv_folder_path,'positive_annotations_events_train.csv')\n",
    "positive_annotations_df_train = pd.read_csv(csv_positive_events_annotations_train_path, sep=\",\")\n",
    "\n",
    "csv_positive_events_annotations_test_path = os.path.join(csv_folder_path,'positive_annotations_events_test.csv')\n",
    "positive_annotations_df_test = pd.read_csv(csv_positive_events_annotations_test_path, sep=\",\")\n",
    "\n",
    "csv_negative_events_annotations_train_path = os.path.join(csv_folder_path,'negative_annotations_events_train.csv')\n",
    "negative_annotations_df_train = pd.read_csv(csv_negative_events_annotations_train_path, sep=\",\")\n",
    "\n",
    "csv_negative_events_annotations_test_path = os.path.join(csv_folder_path,'negative_annotations_events_test.csv')\n",
    "negative_annotations_df_test = pd.read_csv(csv_negative_events_annotations_test_path, sep=\",\")"
   ]
  },
  {
   "cell_type": "markdown",
   "metadata": {},
   "source": [
    "### Merging train and test annotation files\n",
    "We now merge positive and negative annotations to obtain only one train and one test files."
   ]
  },
  {
   "cell_type": "code",
   "execution_count": 21,
   "metadata": {
    "scrolled": true
   },
   "outputs": [
    {
     "data": {
      "text/html": [
       "<div>\n",
       "<style scoped>\n",
       "    .dataframe tbody tr th:only-of-type {\n",
       "        vertical-align: middle;\n",
       "    }\n",
       "\n",
       "    .dataframe tbody tr th {\n",
       "        vertical-align: top;\n",
       "    }\n",
       "\n",
       "    .dataframe thead th {\n",
       "        text-align: right;\n",
       "    }\n",
       "</style>\n",
       "<table border=\"1\" class=\"dataframe\">\n",
       "  <thead>\n",
       "    <tr style=\"text-align: right;\">\n",
       "      <th></th>\n",
       "      <th>Unnamed: 0</th>\n",
       "      <th>Id</th>\n",
       "      <th>start</th>\n",
       "      <th>end</th>\n",
       "      <th>label</th>\n",
       "      <th>filename</th>\n",
       "      <th>nClicks</th>\n",
       "      <th>comment</th>\n",
       "    </tr>\n",
       "  </thead>\n",
       "  <tbody>\n",
       "    <tr>\n",
       "      <th>0</th>\n",
       "      <td>0</td>\n",
       "      <td>48.0</td>\n",
       "      <td>570.912</td>\n",
       "      <td>695.107</td>\n",
       "      <td>DLD</td>\n",
       "      <td>048_20180603_035959_999.wav</td>\n",
       "      <td>362.0</td>\n",
       "      <td>NaN</td>\n",
       "    </tr>\n",
       "    <tr>\n",
       "      <th>1</th>\n",
       "      <td>1</td>\n",
       "      <td>57.0</td>\n",
       "      <td>2013.163</td>\n",
       "      <td>2068.447</td>\n",
       "      <td>DLD</td>\n",
       "      <td>048_20180611_110000_001.wav</td>\n",
       "      <td>100.0</td>\n",
       "      <td>NaN</td>\n",
       "    </tr>\n",
       "    <tr>\n",
       "      <th>2</th>\n",
       "      <td>2</td>\n",
       "      <td>313.0</td>\n",
       "      <td>108.851</td>\n",
       "      <td>478.894</td>\n",
       "      <td>DLD</td>\n",
       "      <td>048_20180720_205959_999.wav</td>\n",
       "      <td>610.0</td>\n",
       "      <td>NaN</td>\n",
       "    </tr>\n",
       "    <tr>\n",
       "      <th>3</th>\n",
       "      <td>3</td>\n",
       "      <td>314.0</td>\n",
       "      <td>3364.329</td>\n",
       "      <td>3600.000</td>\n",
       "      <td>DLD</td>\n",
       "      <td>048_20180721_090000_000.wav</td>\n",
       "      <td>386.0</td>\n",
       "      <td>NaN</td>\n",
       "    </tr>\n",
       "    <tr>\n",
       "      <th>4</th>\n",
       "      <td>4</td>\n",
       "      <td>320.0</td>\n",
       "      <td>1452.926</td>\n",
       "      <td>1496.650</td>\n",
       "      <td>DLD</td>\n",
       "      <td>048_20180722_185959_933.wav</td>\n",
       "      <td>137.0</td>\n",
       "      <td>NaN</td>\n",
       "    </tr>\n",
       "    <tr>\n",
       "      <th>...</th>\n",
       "      <td>...</td>\n",
       "      <td>...</td>\n",
       "      <td>...</td>\n",
       "      <td>...</td>\n",
       "      <td>...</td>\n",
       "      <td>...</td>\n",
       "      <td>...</td>\n",
       "      <td>...</td>\n",
       "    </tr>\n",
       "    <tr>\n",
       "      <th>14</th>\n",
       "      <td>19</td>\n",
       "      <td>NaN</td>\n",
       "      <td>3420.000</td>\n",
       "      <td>3559.000</td>\n",
       "      <td>other</td>\n",
       "      <td>048_20180722_185959_933.wav</td>\n",
       "      <td>NaN</td>\n",
       "      <td>NaN</td>\n",
       "    </tr>\n",
       "    <tr>\n",
       "      <th>15</th>\n",
       "      <td>20</td>\n",
       "      <td>NaN</td>\n",
       "      <td>1480.000</td>\n",
       "      <td>1860.000</td>\n",
       "      <td>other</td>\n",
       "      <td>048_20180724_195959_999.wav</td>\n",
       "      <td>NaN</td>\n",
       "      <td>NaN</td>\n",
       "    </tr>\n",
       "    <tr>\n",
       "      <th>16</th>\n",
       "      <td>21</td>\n",
       "      <td>NaN</td>\n",
       "      <td>3200.000</td>\n",
       "      <td>3500.000</td>\n",
       "      <td>other</td>\n",
       "      <td>048_20180729_005959_933.wav</td>\n",
       "      <td>NaN</td>\n",
       "      <td>NaN</td>\n",
       "    </tr>\n",
       "    <tr>\n",
       "      <th>17</th>\n",
       "      <td>22</td>\n",
       "      <td>NaN</td>\n",
       "      <td>250.000</td>\n",
       "      <td>550.000</td>\n",
       "      <td>other</td>\n",
       "      <td>048_20180806_010000_001.wav</td>\n",
       "      <td>NaN</td>\n",
       "      <td>NaN</td>\n",
       "    </tr>\n",
       "    <tr>\n",
       "      <th>18</th>\n",
       "      <td>23</td>\n",
       "      <td>NaN</td>\n",
       "      <td>1560.000</td>\n",
       "      <td>1760.000</td>\n",
       "      <td>other</td>\n",
       "      <td>048_20180808_020000_000.wav</td>\n",
       "      <td>NaN</td>\n",
       "      <td>NaN</td>\n",
       "    </tr>\n",
       "  </tbody>\n",
       "</table>\n",
       "<p>62 rows × 8 columns</p>\n",
       "</div>"
      ],
      "text/plain": [
       "    Unnamed: 0     Id     start       end  label                     filename  \\\n",
       "0            0   48.0   570.912   695.107    DLD  048_20180603_035959_999.wav   \n",
       "1            1   57.0  2013.163  2068.447    DLD  048_20180611_110000_001.wav   \n",
       "2            2  313.0   108.851   478.894    DLD  048_20180720_205959_999.wav   \n",
       "3            3  314.0  3364.329  3600.000    DLD  048_20180721_090000_000.wav   \n",
       "4            4  320.0  1452.926  1496.650    DLD  048_20180722_185959_933.wav   \n",
       "..         ...    ...       ...       ...    ...                          ...   \n",
       "14          19    NaN  3420.000  3559.000  other  048_20180722_185959_933.wav   \n",
       "15          20    NaN  1480.000  1860.000  other  048_20180724_195959_999.wav   \n",
       "16          21    NaN  3200.000  3500.000  other  048_20180729_005959_933.wav   \n",
       "17          22    NaN   250.000   550.000  other  048_20180806_010000_001.wav   \n",
       "18          23    NaN  1560.000  1760.000  other  048_20180808_020000_000.wav   \n",
       "\n",
       "    nClicks comment  \n",
       "0     362.0     NaN  \n",
       "1     100.0     NaN  \n",
       "2     610.0     NaN  \n",
       "3     386.0     NaN  \n",
       "4     137.0     NaN  \n",
       "..      ...     ...  \n",
       "14      NaN     NaN  \n",
       "15      NaN     NaN  \n",
       "16      NaN     NaN  \n",
       "17      NaN     NaN  \n",
       "18      NaN     NaN  \n",
       "\n",
       "[62 rows x 8 columns]"
      ]
     },
     "execution_count": 21,
     "metadata": {},
     "output_type": "execute_result"
    }
   ],
   "source": [
    "annotations_df_train = positive_annotations_df_train.append(negative_annotations_df_train, sort = False)\n",
    "annotations_df_test = positive_annotations_df_test.append(negative_annotations_df_test, sort = False)\n",
    "\n",
    "annotations_df_train\n",
    "# selections_train = positives_train.append(negatives_train, sort=False)\n",
    "# selections_test = positives_test.append(negatives_test, sort=False)"
   ]
  },
  {
   "cell_type": "markdown",
   "metadata": {},
   "source": [
    "### Optional : Splitting randomly positive and negative annotation files, each into 2 subsamples (Train / Test)\n",
    "**<span style = 'color:red;'> [PLEASE SKIP THIS SECTION]: as explained above, Ketos framework seems to not use random annotations subsampling. So for our fist training we will split train and test files in seperate folders by hand and won't use this section for our first training. </span>**\n",
    "\n",
    "We created ```subsample_dataframe()``` method to split the annotation table into 2 subsamples:\n",
    "* Train annotation table (Ketos will use it to create the training dataset)\n",
    "* Test annotation table (Ketos will use it to create the testing dataset)"
   ]
  },
  {
   "cell_type": "code",
   "execution_count": 15,
   "metadata": {},
   "outputs": [
    {
     "name": "stdout",
     "output_type": "stream",
     "text": [
      "Help on function subsample_dataframe in module __main__:\n",
      "\n",
      "subsample_dataframe(df_to_subsample, train_proportion: float)\n",
      "    Subsample a Pandas DataFrame into 2 others, based on its indexes.\n",
      "    \n",
      "    Args:\n",
      "        df_to_subsample: pd.DataFrame\n",
      "        train_proportion: float\n",
      "            proportion (]0;1[) of indexes to subsample in the dataset, in order to build the train dataset\n",
      "    \n",
      "    Returns: tuple with 2 dataframes:\n",
      "        [0] train subsample \n",
      "        [1] test subsamples\n",
      "\n"
     ]
    }
   ],
   "source": [
    "help(subsample_dataframe)"
   ]
  },
  {
   "cell_type": "code",
   "execution_count": 21,
   "metadata": {},
   "outputs": [],
   "source": [
    "# std_annot_train_events = subsample_dataframe(std_events_annot_df, 0.7)[0]\n",
    "# std_annot_test_events = subsample_dataframe(std_events_annot_df, 0.7)[1]\n",
    "\n",
    "std_annot_train  = subsample_dataframe(std_annot_df, 0.7)[0]\n",
    "std_annot_test = subsample_dataframe(std_annot_df, 0.7)[1]"
   ]
  },
  {
   "cell_type": "code",
   "execution_count": 47,
   "metadata": {},
   "outputs": [
    {
     "data": {
      "text/plain": [
       "(528, 6)"
      ]
     },
     "execution_count": 47,
     "metadata": {},
     "output_type": "execute_result"
    }
   ],
   "source": [
    "print(std_annot_train.shape, std_annot_test.shape)"
   ]
  },
  {
   "cell_type": "markdown",
   "metadata": {},
   "source": [
    "<a id=\"section2b\"></a>\n",
    "## 2b. Building annotation files from Clicks Annotations CSV files\n",
    "**<span style = 'color:red;'> [PLEASE SKIP THIS SECTION]: First tests shown that using 2.5 ms sound samples does not seem to suit the use of spectrograms (only few pixels are displayed) and need more inquiry before going further. Thus, for this project, only Event annotation will be used to train a model.</span>**"
   ]
  },
  {
   "cell_type": "markdown",
   "metadata": {},
   "source": [
    "### Importing a Pamguard CSV file\n",
    "\n",
    "CSV files exported by Pamguard software can be converted into a Ketos annotation table.\n",
    "Export must be done with **default options and default variable names**. This section addresses **\"clicks\"** files. In these files, annotations correspond to begin time of clicks ('UTC', datetime). End time values ('end', datetime) values are automatically computed by setting a click duration ('click_duration') in milliseconds in parameters. \n",
    "    Clickend will simply be the result of begin time + click_duration. In the CSV files, columns **in bold** are required and must have **exactely the same headers** as followig:\n",
    "\n",
    "![Pamguard click csv](img/capture_PAMGUARD_click_csv.png)\n"
   ]
  },
  {
   "cell_type": "markdown",
   "metadata": {},
   "source": [
    "**<span style = 'color:red;'>Careful, executing the following cell can take more than 20 minutes !</span>**"
   ]
  },
  {
   "cell_type": "code",
   "execution_count": 116,
   "metadata": {
    "scrolled": false
   },
   "outputs": [],
   "source": [
    "annotation_csv_path = csv_clicks_path\n",
    "# annotation_type = 'clicks'\n",
    "click_duration = 2.5\n",
    "\n",
    "benchmark_start = datetime.now()\n",
    "\n",
    "# import CSV in a dataframe\n",
    "annotations_df = pd.read_csv(annotation_csv_path, sep=\",\")\n",
    "\n",
    "# Remove all whitespaces from string typed series of the dataframe \n",
    "annotations_df = strip_dataframe(annotations_df)\n",
    "\n",
    "# updating pd.Series type from string to datetime\n",
    "annotations_df.UTC = pd.to_datetime(annotations_df.UTC, format = '%Y-%m-%d %H:%M:%S.%f')\n",
    "annotations_df = annotations_df.rename(columns = {'UTC':'start'})\n",
    "\n",
    "# computing start time from beginning of the file\n",
    "# + creating a new column to add .wav filenames\n",
    "annotations_df['filename']=\"\"\n",
    "for index, row in annotations_df.iterrows():\n",
    "    try:\n",
    "        #select all the files that starts before or at the same time than \"start\", pick the last of them  \n",
    "        matching_loc = wav_df.loc[(wav_df.filestart <= row.start)].iloc[-1]\n",
    "        annotations_df.filename[index] = matching_loc['filename']\n",
    "        annotations_df.start[index] = (annotations_df.start[index] - matching_loc['filestart'])\n",
    "    except:\n",
    "        pass\n",
    "    \n",
    "# Converts click_duration into Timedelta format\n",
    "click_duration = pd.Timedelta(click_duration, unit = 'milliseconds')\n",
    "\n",
    "# Compute 'end' time thanks to click duration then convert it in seconds\n",
    "annotations_df['end'] = pd.Series(annotations_df.start + click_duration).apply(pd.Timedelta.total_seconds)\n",
    "\n",
    "#convert 'start' in seconds\n",
    "annotations_df['start'] = pd.Series(annotations_df.start).apply(pd.Timedelta.total_seconds)\n",
    "\n",
    "# add a default label for each click detection (DLD)\n",
    "annotations_df['label'] = label\n",
    "\n",
    "# select only columns required in Ketos annotation table\n",
    "annotations_df = annotations_df.loc[:,('Id', 'EventId', 'start', 'end', 'label', 'filename')]\n",
    "\n",
    "benchmark_end = datetime.now()\n",
    "benchmark = benchmark_end - benchmark_start"
   ]
  },
  {
   "cell_type": "code",
   "execution_count": 119,
   "metadata": {
    "scrolled": true
   },
   "outputs": [
    {
     "data": {
      "text/plain": [
       "datetime.timedelta(seconds=1434, microseconds=982409)"
      ]
     },
     "execution_count": 119,
     "metadata": {},
     "output_type": "execute_result"
    }
   ],
   "source": [
    "benchmark"
   ]
  },
  {
   "cell_type": "markdown",
   "metadata": {},
   "source": [
    "<a id=\"section3\"></a>\n",
    "## 3. Grouping all .WAV files in a same folder\n",
    "**<span style = 'color:red;'> [PLEASE SKIP THIS SECTION] : For the purpose of the project, this step has already been executed and doesn't need to be executed again.</span>**\n",
    "\n",
    "Pelagis .wav files were split into folders and sub folders. The objective of the code cell was to gather .wav file in the parent folder so that Ketos could work and build its spectra database from a single folder as required by the documentation. \n"
   ]
  },
  {
   "cell_type": "code",
   "execution_count": 2,
   "metadata": {},
   "outputs": [],
   "source": [
    "from os.path import join, isdir\n",
    "from os import listdir, rmdir\n",
    "from shutil import move\n",
    "\n",
    "root = sound_files_path\n",
    "\n",
    "for dirname in listdir(root):\n",
    "    #only take directories (not files) \n",
    "    if isdir(join(root, dirname)):\n",
    "        # move every wav into the parent directory\n",
    "        for filename in listdir(join(root, dirname)):\n",
    "            if filename.endswith('.wav'):\n",
    "                move(join(root, dirname, filename), join(root, filename))\n"
   ]
  },
  {
   "cell_type": "markdown",
   "metadata": {},
   "source": [
    "<a id=\"section4\"></a>\n",
    "## 4. Standardize Ketos annotation tables\n",
    "We now standardize train and test annotation files for Ketos.\n",
    "\n",
    "```ketos.data_handling.selection_table.standardize()``` is the original method to standardize an annotation table for Ketos once it is ```built. ketos.data_handling.selection_table.is_standardized()``` checks if this standardization is completed or return error description."
   ]
  },
  {
   "cell_type": "markdown",
   "metadata": {},
   "source": [
    "Ketos allows to differenciate 1 or several positive signal labels, which will be translated as '1','2', etc., and 1 or several background labels which will be translated as '0'. Both positive and negative labels have to be put into a list. For a first training, we will use only 1 positive label (1) and 1 negative label (0)"
   ]
  },
  {
   "cell_type": "markdown",
   "metadata": {},
   "source": [
    "Some requirements are observed:\n",
    "* Each signal label variable **must** be a list\n",
    "* Each element of this list correspond to 1 label and **must** exist in the annotation tables.\n",
    "* 1 label can be expressed as 1 string, or several strings grouped into a list\n",
    "\n",
    "example: with ```['1','2',['3a','3b','3c'],...]```, 3a, 3b, 3c will correspond to a same output label"
   ]
  },
  {
   "cell_type": "code",
   "execution_count": 16,
   "metadata": {},
   "outputs": [],
   "source": [
    "ketos_signal_labels = [['dolphin_click', 'DLP', 'DLD']]\n",
    "# ketos_signal_labels_all = [['dolphin_click', 'DLP', 'SWC', 'SWB', 'Vn', 'NOTE', 'DLD', 'Vt', 'No']]\n",
    "ketos_backgr_labels = ['other'] # CHANGE TO ['other']"
   ]
  },
  {
   "cell_type": "code",
   "execution_count": 22,
   "metadata": {
    "scrolled": true
   },
   "outputs": [
    {
     "name": "stdout",
     "output_type": "stream",
     "text": [
      "check if files are in standardized format:\n",
      " True \n",
      " True\n"
     ]
    }
   ],
   "source": [
    "# standardize and check all annotation tables\n",
    "\n",
    "std_annot_train_df = sl.standardize(\n",
    "    table = annotations_df_train, \n",
    "    signal_labels = ketos_signal_labels,\n",
    "    backgr_labels= ketos_backgr_labels,\n",
    "    trim_table=False\n",
    ")\n",
    "\n",
    "std_annot_test_df = sl.standardize(\n",
    "    table = annotations_df_test, \n",
    "    signal_labels = ketos_signal_labels,\n",
    "    backgr_labels= ketos_backgr_labels,\n",
    "    trim_table=False\n",
    ")\n",
    "\n",
    "print('check if files are in standardized format:\\n', \n",
    "      sl.is_standardized(std_annot_train_df), '\\n',\n",
    "     sl.is_standardized(std_annot_test_df))"
   ]
  },
  {
   "cell_type": "code",
   "execution_count": 23,
   "metadata": {},
   "outputs": [
    {
     "data": {
      "text/html": [
       "<div>\n",
       "<style scoped>\n",
       "    .dataframe tbody tr th:only-of-type {\n",
       "        vertical-align: middle;\n",
       "    }\n",
       "\n",
       "    .dataframe tbody tr th {\n",
       "        vertical-align: top;\n",
       "    }\n",
       "\n",
       "    .dataframe thead th {\n",
       "        text-align: right;\n",
       "    }\n",
       "</style>\n",
       "<table border=\"1\" class=\"dataframe\">\n",
       "  <thead>\n",
       "    <tr style=\"text-align: right;\">\n",
       "      <th></th>\n",
       "      <th></th>\n",
       "      <th>Unnamed: 0</th>\n",
       "      <th>Id</th>\n",
       "      <th>start</th>\n",
       "      <th>end</th>\n",
       "      <th>label</th>\n",
       "      <th>nClicks</th>\n",
       "      <th>comment</th>\n",
       "    </tr>\n",
       "    <tr>\n",
       "      <th>filename</th>\n",
       "      <th>annot_id</th>\n",
       "      <th></th>\n",
       "      <th></th>\n",
       "      <th></th>\n",
       "      <th></th>\n",
       "      <th></th>\n",
       "      <th></th>\n",
       "      <th></th>\n",
       "    </tr>\n",
       "  </thead>\n",
       "  <tbody>\n",
       "    <tr>\n",
       "      <th rowspan=\"2\" valign=\"top\">048_20180601_075959_932.wav</th>\n",
       "      <th>0</th>\n",
       "      <td>16</td>\n",
       "      <td>465.0</td>\n",
       "      <td>768.317</td>\n",
       "      <td>812.268</td>\n",
       "      <td>1</td>\n",
       "      <td>108.0</td>\n",
       "      <td>NaN</td>\n",
       "    </tr>\n",
       "    <tr>\n",
       "      <th>1</th>\n",
       "      <td>17</td>\n",
       "      <td>466.0</td>\n",
       "      <td>1499.303</td>\n",
       "      <td>1525.846</td>\n",
       "      <td>1</td>\n",
       "      <td>130.0</td>\n",
       "      <td>NaN</td>\n",
       "    </tr>\n",
       "    <tr>\n",
       "      <th rowspan=\"3\" valign=\"top\">048_20180601_185959_933.wav</th>\n",
       "      <th>0</th>\n",
       "      <td>18</td>\n",
       "      <td>469.0</td>\n",
       "      <td>1424.649</td>\n",
       "      <td>1461.736</td>\n",
       "      <td>1</td>\n",
       "      <td>93.0</td>\n",
       "      <td>NaN</td>\n",
       "    </tr>\n",
       "    <tr>\n",
       "      <th>1</th>\n",
       "      <td>19</td>\n",
       "      <td>473.0</td>\n",
       "      <td>2530.080</td>\n",
       "      <td>2553.448</td>\n",
       "      <td>1</td>\n",
       "      <td>10.0</td>\n",
       "      <td>NaN</td>\n",
       "    </tr>\n",
       "    <tr>\n",
       "      <th>2</th>\n",
       "      <td>20</td>\n",
       "      <td>474.0</td>\n",
       "      <td>2722.413</td>\n",
       "      <td>2776.792</td>\n",
       "      <td>1</td>\n",
       "      <td>126.0</td>\n",
       "      <td>NaN</td>\n",
       "    </tr>\n",
       "  </tbody>\n",
       "</table>\n",
       "</div>"
      ],
      "text/plain": [
       "                                      Unnamed: 0     Id     start       end  \\\n",
       "filename                    annot_id                                          \n",
       "048_20180601_075959_932.wav 0                 16  465.0   768.317   812.268   \n",
       "                            1                 17  466.0  1499.303  1525.846   \n",
       "048_20180601_185959_933.wav 0                 18  469.0  1424.649  1461.736   \n",
       "                            1                 19  473.0  2530.080  2553.448   \n",
       "                            2                 20  474.0  2722.413  2776.792   \n",
       "\n",
       "                                      label  nClicks comment  \n",
       "filename                    annot_id                          \n",
       "048_20180601_075959_932.wav 0             1    108.0     NaN  \n",
       "                            1             1    130.0     NaN  \n",
       "048_20180601_185959_933.wav 0             1     93.0     NaN  \n",
       "                            1             1     10.0     NaN  \n",
       "                            2             1    126.0     NaN  "
      ]
     },
     "execution_count": 23,
     "metadata": {},
     "output_type": "execute_result"
    }
   ],
   "source": [
    "std_annot_train_df.head(5)"
   ]
  },
  {
   "cell_type": "code",
   "execution_count": 24,
   "metadata": {},
   "outputs": [
    {
     "data": {
      "text/html": [
       "<div>\n",
       "<style scoped>\n",
       "    .dataframe tbody tr th:only-of-type {\n",
       "        vertical-align: middle;\n",
       "    }\n",
       "\n",
       "    .dataframe tbody tr th {\n",
       "        vertical-align: top;\n",
       "    }\n",
       "\n",
       "    .dataframe thead th {\n",
       "        text-align: right;\n",
       "    }\n",
       "</style>\n",
       "<table border=\"1\" class=\"dataframe\">\n",
       "  <thead>\n",
       "    <tr style=\"text-align: right;\">\n",
       "      <th></th>\n",
       "      <th></th>\n",
       "      <th>Unnamed: 0</th>\n",
       "      <th>Id</th>\n",
       "      <th>start</th>\n",
       "      <th>end</th>\n",
       "      <th>label</th>\n",
       "      <th>nClicks</th>\n",
       "      <th>comment</th>\n",
       "    </tr>\n",
       "    <tr>\n",
       "      <th>filename</th>\n",
       "      <th>annot_id</th>\n",
       "      <th></th>\n",
       "      <th></th>\n",
       "      <th></th>\n",
       "      <th></th>\n",
       "      <th></th>\n",
       "      <th></th>\n",
       "      <th></th>\n",
       "    </tr>\n",
       "  </thead>\n",
       "  <tbody>\n",
       "    <tr>\n",
       "      <th rowspan=\"5\" valign=\"top\">048_20180601_185959_933.wav</th>\n",
       "      <th>0</th>\n",
       "      <td>0</td>\n",
       "      <td>NaN</td>\n",
       "      <td>0.0</td>\n",
       "      <td>1200.0</td>\n",
       "      <td>0</td>\n",
       "      <td>NaN</td>\n",
       "      <td>very calm</td>\n",
       "    </tr>\n",
       "    <tr>\n",
       "      <th>1</th>\n",
       "      <td>1</td>\n",
       "      <td>NaN</td>\n",
       "      <td>1980.0</td>\n",
       "      <td>2130.0</td>\n",
       "      <td>0</td>\n",
       "      <td>NaN</td>\n",
       "      <td>many whistles</td>\n",
       "    </tr>\n",
       "    <tr>\n",
       "      <th>2</th>\n",
       "      <td>2</td>\n",
       "      <td>NaN</td>\n",
       "      <td>2340.0</td>\n",
       "      <td>2520.0</td>\n",
       "      <td>0</td>\n",
       "      <td>NaN</td>\n",
       "      <td>very calm</td>\n",
       "    </tr>\n",
       "    <tr>\n",
       "      <th>3</th>\n",
       "      <td>3</td>\n",
       "      <td>NaN</td>\n",
       "      <td>2800.0</td>\n",
       "      <td>2900.0</td>\n",
       "      <td>0</td>\n",
       "      <td>NaN</td>\n",
       "      <td>NaN</td>\n",
       "    </tr>\n",
       "    <tr>\n",
       "      <th>4</th>\n",
       "      <td>4</td>\n",
       "      <td>NaN</td>\n",
       "      <td>3085.0</td>\n",
       "      <td>3180.0</td>\n",
       "      <td>0</td>\n",
       "      <td>NaN</td>\n",
       "      <td>NaN</td>\n",
       "    </tr>\n",
       "  </tbody>\n",
       "</table>\n",
       "</div>"
      ],
      "text/plain": [
       "                                      Unnamed: 0  Id   start     end  label  \\\n",
       "filename                    annot_id                                          \n",
       "048_20180601_185959_933.wav 0                  0 NaN     0.0  1200.0      0   \n",
       "                            1                  1 NaN  1980.0  2130.0      0   \n",
       "                            2                  2 NaN  2340.0  2520.0      0   \n",
       "                            3                  3 NaN  2800.0  2900.0      0   \n",
       "                            4                  4 NaN  3085.0  3180.0      0   \n",
       "\n",
       "                                      nClicks        comment  \n",
       "filename                    annot_id                          \n",
       "048_20180601_185959_933.wav 0             NaN      very calm  \n",
       "                            1             NaN  many whistles  \n",
       "                            2             NaN      very calm  \n",
       "                            3             NaN            NaN  \n",
       "                            4             NaN            NaN  "
      ]
     },
     "execution_count": 24,
     "metadata": {},
     "output_type": "execute_result"
    }
   ],
   "source": [
    "std_annot_test_df.head(5)"
   ]
  },
  {
   "cell_type": "markdown",
   "metadata": {},
   "source": [
    "let's check if train and test df are using different audio files (as it seems to be required by Ketos). the result should be an empty set:"
   ]
  },
  {
   "cell_type": "code",
   "execution_count": 82,
   "metadata": {},
   "outputs": [
    {
     "data": {
      "text/plain": [
       "set()"
      ]
     },
     "execution_count": 82,
     "metadata": {},
     "output_type": "execute_result"
    }
   ],
   "source": [
    "set(std_annot_test_df.index.unique()) & set(std_annot_train_df.index.unique())"
   ]
  },
  {
   "cell_type": "markdown",
   "metadata": {},
   "source": [
    "------\n",
    "\n",
    "**The train and test files are now ready to be used. Starting from here, following text is partly taken from the orginial Notebook. Content and function settings are adapted to dolphin click detection (ClickLearn project). Some lines of codes which are specific to the project needs were added.**"
   ]
  },
  {
   "cell_type": "markdown",
   "metadata": {},
   "source": [
    "<a id=\"section5\"></a>\n",
    "## 5. Creating segments of uniform length and augmenting the data\n",
    "\n",
    "Our `` std_annot_train`` and ```std_annot_test``` have a variety of lengths, since they mark the beginning and end of events. We want each signal in the database to be represented as spectrograms, all of same length. Each spectrogram will be labelled as containing a train of clicks or not. \n",
    "\n",
    "The ```sl.select``` function in ketos can help us to do just that: for each annotated upcall, it will select a portion of the recording surrounding it. It takes a standardized annotation table as input. We will use 4 seconds as it seems enough to encompass a train of clicks among annotated events.\n",
    "\n",
    "Data augmentation is a set of tecnhiques used in machine learning to increase the data available. For now we use  a very safe technique with ```sl.select``` method, as it is not altering the original signal\n",
    "\n",
    "This table contains only positive annotations (trains of clicks). Later we will also want some examples of segments that only contain background noise.\n"
   ]
  },
  {
   "cell_type": "markdown",
   "metadata": {},
   "source": [
    "* **length** (seconds): uniform length of a segment\n",
    "* **step** (seconds): shift between 2 segments (no shift if length == step). Smaller values will produce more augmented selections, but they will be more similar to the previous selection.\n",
    "* **min_overlap** (proportion): if a segment crosses the start or the end of annotation, \n",
    "    proportion of its length that is allowed to cross (1 means no cross allowed). Lower values will result in segments that only contain part of the original upcall. We fix 50%"
   ]
  },
  {
   "cell_type": "code",
   "execution_count": 25,
   "metadata": {},
   "outputs": [],
   "source": [
    "# positives_train_events = sl.select(annotations=std_annot_train_events, length=0.5, step=0.5, min_overlap=1, center=False, discard_long=False, keep_id=False)\n",
    "# positives_test_events = sl.select(annotations=std_annot_test_events, length=0.5, step=0.5, min_overlap=1, center=False, discard_long=False, keep_id=False)\n",
    "\n",
    "positives_train = sl.select(annotations=std_annot_train_df, length=3, step=1, min_overlap=0.4, center=False, discard_long=False, keep_id=False)\n",
    "positives_test = sl.select(annotations=std_annot_test_df, length=3, step=1, min_overlap=0.4, center=False, discard_long=False, keep_id=False)\n"
   ]
  },
  {
   "cell_type": "code",
   "execution_count": 54,
   "metadata": {},
   "outputs": [],
   "source": [
    "# CLICKS VERSION\n",
    "# positives_train_clicks = sl.select(annotations=std_clicks_annot_train_df, length=0.0025, step=0.0025, min_overlap=1, center=False, discard_long=False, keep_id=False)\n",
    "# positives_test_clicks = sl.select(annotations=std_clicks_annot_test_df, length=0.0025, step=0.0025, min_overlap=1, center=False, discard_long=False, keep_id=False)"
   ]
  },
  {
   "cell_type": "code",
   "execution_count": 109,
   "metadata": {},
   "outputs": [],
   "source": [
    "# Original Ketos documentation:\n",
    "# positives_train = sl.select(annotations=std_annot_train, length=3.0)\n",
    "# positives_test = sl.select(annotations=std_annot_test, length=3.0, step=0.0, center=False)"
   ]
  },
  {
   "cell_type": "code",
   "execution_count": 26,
   "metadata": {
    "scrolled": false
   },
   "outputs": [
    {
     "name": "stdout",
     "output_type": "stream",
     "text": [
      "Shape of positive_train df: (5953, 7)\n",
      " Shape of positive_test df: (1934, 7)\n",
      " segment mean length (seconds): 3.0\n",
      "\n"
     ]
    }
   ],
   "source": [
    "#some information\n",
    "mean = (positives_train['end']-positives_train['start']).values.mean()\n",
    "print(f'Shape of positive_train df: {positives_train.shape}\\n',\n",
    "      f'Shape of positive_test df: {positives_test.shape}\\n',\n",
    "      f'segment mean length (seconds): {mean}\\n',\n",
    "     )"
   ]
  },
  {
   "cell_type": "markdown",
   "metadata": {},
   "source": [
    "<a id=section6></a> \n",
    "## 6. Including background noise\n",
    "**<span style = 'color:red;'> [PLEASE SKIP THIS SECTION] As shown in section 2, for the purpose of the ClickLearn project, we manually annotated background noise (negative detections) and do not have to generated them randomly.</span>**\n",
    "\n",
    "Now that we have the positive instances that we need to create our database, we need to include some examples of the negative detections, without clicks.\n",
    "\n",
    "The ```sl.create_rndm_backgr_selections``` is ideal for this situation. It takes a standardized ketos table describing all sections of the recordings that contain annotations and takes samples from the non-annotaded portions of the files, assuming everything that is not annotated can be used as a 'background' category.\n"
   ]
  },
  {
   "cell_type": "code",
   "execution_count": 92,
   "metadata": {},
   "outputs": [],
   "source": [
    "# sl.create_rndm_backgr_selections(std_annot_test_clicks, len(std_annot_test_clicks), 12, annotations=None, no_overlap=False, trim_table=False)"
   ]
  },
  {
   "cell_type": "markdown",
   "metadata": {},
   "source": [
    "The ```sl.create_rndm_backgr_selections``` also needs the duration of each file, which we can generate using the ```sl.file_duration``` function."
   ]
  },
  {
   "cell_type": "code",
   "execution_count": 74,
   "metadata": {},
   "outputs": [],
   "source": [
    "# file_durations_train = sl.file_duration_table('data/train')\n",
    "# file_durations_test = sl.file_duration_table('data/test') \n",
    "\n",
    "# should we use annotations_folder_path (D:) or sound_files_path (F:) ?\n",
    "# file_durations_train = sl.file_duration_table(os.path.join(annotations_folder_path,'data/train'))\n",
    "# file_durations_test = sl.file_duration_table(os.path.join(annotations_folder_path,'data/test'))"
   ]
  },
  {
   "cell_type": "code",
   "execution_count": 115,
   "metadata": {},
   "outputs": [
    {
     "data": {
      "text/html": [
       "<div>\n",
       "<style scoped>\n",
       "    .dataframe tbody tr th:only-of-type {\n",
       "        vertical-align: middle;\n",
       "    }\n",
       "\n",
       "    .dataframe tbody tr th {\n",
       "        vertical-align: top;\n",
       "    }\n",
       "\n",
       "    .dataframe thead th {\n",
       "        text-align: right;\n",
       "    }\n",
       "</style>\n",
       "<table border=\"1\" class=\"dataframe\">\n",
       "  <thead>\n",
       "    <tr style=\"text-align: right;\">\n",
       "      <th></th>\n",
       "      <th>filename</th>\n",
       "      <th>duration</th>\n",
       "    </tr>\n",
       "  </thead>\n",
       "  <tbody>\n",
       "    <tr>\n",
       "      <th>0</th>\n",
       "      <td>048_20180601_205959_933.wav</td>\n",
       "      <td>3600.067</td>\n",
       "    </tr>\n",
       "    <tr>\n",
       "      <th>1</th>\n",
       "      <td>048_20180601_220000_000.wav</td>\n",
       "      <td>3600.000</td>\n",
       "    </tr>\n",
       "  </tbody>\n",
       "</table>\n",
       "</div>"
      ],
      "text/plain": [
       "                      filename  duration\n",
       "0  048_20180601_205959_933.wav  3600.067\n",
       "1  048_20180601_220000_000.wav  3600.000"
      ]
     },
     "execution_count": 115,
     "metadata": {},
     "output_type": "execute_result"
    }
   ],
   "source": [
    "# file_durations_train"
   ]
  },
  {
   "cell_type": "code",
   "execution_count": 116,
   "metadata": {
    "scrolled": true
   },
   "outputs": [
    {
     "data": {
      "text/html": [
       "<div>\n",
       "<style scoped>\n",
       "    .dataframe tbody tr th:only-of-type {\n",
       "        vertical-align: middle;\n",
       "    }\n",
       "\n",
       "    .dataframe tbody tr th {\n",
       "        vertical-align: top;\n",
       "    }\n",
       "\n",
       "    .dataframe thead th {\n",
       "        text-align: right;\n",
       "    }\n",
       "</style>\n",
       "<table border=\"1\" class=\"dataframe\">\n",
       "  <thead>\n",
       "    <tr style=\"text-align: right;\">\n",
       "      <th></th>\n",
       "      <th>filename</th>\n",
       "      <th>duration</th>\n",
       "    </tr>\n",
       "  </thead>\n",
       "  <tbody>\n",
       "    <tr>\n",
       "      <th>0</th>\n",
       "      <td>048_20180601_075959_932.wav</td>\n",
       "      <td>3600.068</td>\n",
       "    </tr>\n",
       "    <tr>\n",
       "      <th>1</th>\n",
       "      <td>048_20180601_185959_933.wav</td>\n",
       "      <td>3600.067</td>\n",
       "    </tr>\n",
       "  </tbody>\n",
       "</table>\n",
       "</div>"
      ],
      "text/plain": [
       "                      filename  duration\n",
       "0  048_20180601_075959_932.wav  3600.068\n",
       "1  048_20180601_185959_933.wav  3600.067"
      ]
     },
     "execution_count": 116,
     "metadata": {},
     "output_type": "execute_result"
    }
   ],
   "source": [
    "# file_durations_test"
   ]
  },
  {
   "cell_type": "markdown",
   "metadata": {},
   "source": [
    "Now that we have the file durations, we can generate our table of negative segments. We'll specify the same length (3.0 seconds). The ```num``` argument specifies the number of background segments we would like to generate. Let's make this number equal to the number of positive examples in each dataset (```len(positive_train)``` and ``` len(positive_test)```)"
   ]
  },
  {
   "cell_type": "markdown",
   "metadata": {},
   "source": [
    "At this point, we have defined *which* audio segments we want in our database: 50% with click trains and 50% without, and same ratio for the test set.\n",
    "\n",
    "Now we need to decide *how* these segments will be represented."
   ]
  },
  {
   "cell_type": "markdown",
   "metadata": {},
   "source": [
    "<a id=section7></a>"
   ]
  },
  {
   "cell_type": "markdown",
   "metadata": {},
   "source": [
    "<a id=section7></a> \n",
    "##  7. Choosing the spectrogram settings\n",
    "\n",
    "As mentioned earlier, we'll represent the segments as spectrograms.\n",
    "In the .zip file where you found the data, there's also a spectrogram configuration file (```spec_config.json```) which contains the settings we want to use.\n",
    "\n",
    "This configuration file is simply a text file in the ```.json``` format, so you could make a copy of it, change a few parameters and save several settings to use later or to share the with someone else.\n"
   ]
  },
  {
   "cell_type": "code",
   "execution_count": 27,
   "metadata": {},
   "outputs": [],
   "source": [
    "import matplotlib.pyplot as plt"
   ]
  },
  {
   "cell_type": "code",
   "execution_count": 28,
   "metadata": {},
   "outputs": [
    {
     "data": {
      "text/plain": [
       "{'type': 'MagSpectrogram',\n",
       " 'rate': 1000,\n",
       " 'window': 0.256,\n",
       " 'step': 0.032,\n",
       " 'freq_min': 0,\n",
       " 'freq_max': 500,\n",
       " 'window_func': 'hamming'}"
      ]
     },
     "execution_count": 28,
     "metadata": {},
     "output_type": "execute_result"
    }
   ],
   "source": [
    "spec_config = load_audio_representation('spec_config.json', name=\"spectrogram\")\n",
    "spec_config"
   ]
  },
  {
   "cell_type": "markdown",
   "metadata": {},
   "source": [
    "Let's have a first look at one example of click detection, using MagSpectrogram.from_wav method. We will take one of the annotations from our train set:"
   ]
  },
  {
   "cell_type": "code",
   "execution_count": 29,
   "metadata": {},
   "outputs": [
    {
     "data": {
      "text/html": [
       "<div>\n",
       "<style scoped>\n",
       "    .dataframe tbody tr th:only-of-type {\n",
       "        vertical-align: middle;\n",
       "    }\n",
       "\n",
       "    .dataframe tbody tr th {\n",
       "        vertical-align: top;\n",
       "    }\n",
       "\n",
       "    .dataframe thead th {\n",
       "        text-align: right;\n",
       "    }\n",
       "</style>\n",
       "<table border=\"1\" class=\"dataframe\">\n",
       "  <thead>\n",
       "    <tr style=\"text-align: right;\">\n",
       "      <th></th>\n",
       "      <th></th>\n",
       "      <th>Unnamed: 0</th>\n",
       "      <th>Id</th>\n",
       "      <th>start</th>\n",
       "      <th>end</th>\n",
       "      <th>label</th>\n",
       "      <th>nClicks</th>\n",
       "      <th>comment</th>\n",
       "    </tr>\n",
       "    <tr>\n",
       "      <th>filename</th>\n",
       "      <th>annot_id</th>\n",
       "      <th></th>\n",
       "      <th></th>\n",
       "      <th></th>\n",
       "      <th></th>\n",
       "      <th></th>\n",
       "      <th></th>\n",
       "      <th></th>\n",
       "    </tr>\n",
       "  </thead>\n",
       "  <tbody>\n",
       "    <tr>\n",
       "      <th>048_20180601_205959_933.wav</th>\n",
       "      <th>2</th>\n",
       "      <td>23</td>\n",
       "      <td>479.0</td>\n",
       "      <td>306.173</td>\n",
       "      <td>324.69</td>\n",
       "      <td>1</td>\n",
       "      <td>111.0</td>\n",
       "      <td>NaN</td>\n",
       "    </tr>\n",
       "  </tbody>\n",
       "</table>\n",
       "</div>"
      ],
      "text/plain": [
       "                                      Unnamed: 0     Id    start     end  \\\n",
       "filename                    annot_id                                       \n",
       "048_20180601_205959_933.wav 2                 23  479.0  306.173  324.69   \n",
       "\n",
       "                                      label  nClicks comment  \n",
       "filename                    annot_id                          \n",
       "048_20180601_205959_933.wav 2             1    111.0     NaN  "
      ]
     },
     "execution_count": 29,
     "metadata": {},
     "output_type": "execute_result"
    }
   ],
   "source": [
    "std_annot_train_df.loc[std_annot_train_df['Id'] == 479]"
   ]
  },
  {
   "cell_type": "code",
   "execution_count": 101,
   "metadata": {
    "scrolled": false
   },
   "outputs": [
    {
     "data": {
      "image/png": "[encoded data removed]",
      "text/plain": [
       "<Figure size 360x288 with 3 Axes>"
      ]
     },
     "execution_count": 101,
     "metadata": {},
     "output_type": "execute_result"
    },
    {
     "data": {
      "image/png": "[encoded data removed]",
      "text/plain": [
       "<Figure size 360x288 with 3 Axes>"
      ]
     },
     "metadata": {
      "needs_background": "light"
     },
     "output_type": "display_data"
    }
   ],
   "source": [
    "# compute the spectrogram of the 1st upcall, using the spectrogram parameters loaded from the saved model\n",
    "spec1 = MagSpectrogram.from_wav(\n",
    "    path=os.path.join(sound_files_path, '048_20180601_205959_933.wav'),\n",
    "    offset=309.173, #- 0.5*spec_config['duration'],\n",
    "    **spec_config)\n",
    "\n",
    "spec1.plot() #create the figure\n",
    "plt.show()  #display it"
   ]
  },
  {
   "cell_type": "markdown",
   "metadata": {},
   "source": [
    "We explore a little bit different possible audio representations"
   ]
  },
  {
   "cell_type": "code",
   "execution_count": 30,
   "metadata": {
    "scrolled": true
   },
   "outputs": [
    {
     "data": {
      "image/png": "[encoded data removed]",
      "text/plain": [
       "<Figure size 360x288 with 3 Axes>"
      ]
     },
     "metadata": {
      "needs_background": "light"
     },
     "output_type": "display_data"
    }
   ],
   "source": [
    "#shorter window, second stereo channel \n",
    "spec_config = {\n",
    "    'channel': 1, #stereo channel (0 by default)\n",
    "    'type': 'MagSpectrogram',\n",
    "#      'rate': 1000, #None = use original rate\n",
    "     'window': 0.1,\n",
    "     'step': 0.032,\n",
    "     'freq_min': 0,\n",
    "     'freq_max': 25000,\n",
    "     'window_func': 'hamming',\n",
    "     'duration': 4\n",
    "    }\n",
    "\n",
    "spec2 = MagSpectrogram.from_wav(\n",
    "    path=os.path.join(sound_files_path, '048_20180601_205959_933.wav'),\n",
    "    offset=309.173, #- 0.5*spec_config['duration'],\n",
    "    **spec_config)\n",
    "spec2.plot()\n",
    "plt.show()"
   ]
  },
  {
   "cell_type": "code",
   "execution_count": 40,
   "metadata": {},
   "outputs": [
    {
     "name": "stdout",
     "output_type": "stream",
     "text": [
      "0.05\n"
     ]
    },
    {
     "data": {
      "image/png": "[encoded data removed]",
      "text/plain": [
       "<Figure size 360x288 with 3 Axes>"
      ]
     },
     "metadata": {
      "needs_background": "light"
     },
     "output_type": "display_data"
    }
   ],
   "source": [
    "# 0.032\n",
    "param = 0.050\n",
    "\n",
    "for i in range(1):\n",
    "    print(param)\n",
    "    spec_config = {\n",
    "        'channel': 1, #stereo channel (0 by default)\n",
    "        'type': 'MagSpectrogram',\n",
    "#          'rate': 100000, #None = use original rate\n",
    "         'window': 0.085,\n",
    "         'step': 0.035,\n",
    "         'freq_min': 0,\n",
    "         'freq_max': 25000,\n",
    "         'window_func': 'hamming',\n",
    "         'duration': 3\n",
    "        }\n",
    "\n",
    "    spec2 = MagSpectrogram.from_wav(\n",
    "        path=os.path.join(sound_files_path, '048_20180601_205959_933.wav'),\n",
    "        offset=310, #- 0.5*spec_config['duration'],\n",
    "        **spec_config)\n",
    "    spec2.plot()\n",
    "    plt.show()\n",
    "#     param = param - 0.002\n",
    "\n"
   ]
  },
  {
   "cell_type": "code",
   "execution_count": null,
   "metadata": {},
   "outputs": [],
   "source": []
  },
  {
   "cell_type": "markdown",
   "metadata": {},
   "source": [
    "<a id=section8></a>"
   ]
  },
  {
   "cell_type": "markdown",
   "metadata": {},
   "source": [
    "<a id=section8></a> \n",
    "## 8. Creating the database\n",
    "\n",
    "Now we have to compute the spectrograms following the settings above for each selection in our selection tables and then save them in a database.\n",
    "\n",
    "All of this can be done with the ```dbi.create_database``` function in Ketos.\n",
    "\n",
    "We will start with the training dataset. We need to indicate the name for the database we want to create, where the audio files are, a name for the dataset, the selections table and, finally the audio representation. As specified in our ``spec_cfg``, this is a Magnitude spectrogram, but ketos can also create databases with Power, Mel and CQT spectrograms, as well as time-domain data (waveforms).\n"
   ]
  },
  {
   "cell_type": "code",
   "execution_count": 340,
   "metadata": {},
   "outputs": [
    {
     "name": "stderr",
     "output_type": "stream",
     "text": [
      "100%|██████████| 1086/1086 [02:07<00:00,  8.49it/s]\n"
     ]
    },
    {
     "name": "stdout",
     "output_type": "stream",
     "text": [
      "1086 items saved to database_01.h5\n"
     ]
    }
   ],
   "source": [
    "spec_config = {\n",
    "#     'channel': 1, #stereo channel (0 by default)\n",
    "    'type': 'MagSpectrogram',\n",
    "#      'rate': 1000, #None = use original rate\n",
    "     'window': 0.0.85,\n",
    "     'step': 0.035,\n",
    "     'freq_min': 0,\n",
    "     'freq_max': 25000,\n",
    "     'window_func': 'hamming',\n",
    "     'duration': 3\n",
    "    }\n",
    "#channel arg is shared with create_database method, that's why we move it there:\n",
    "dbi.create_database(output_file='database_01.h5', \n",
    "                    channel = 1,\n",
    "                    data_dir='data/train',\n",
    "                    dataset_name='train',\n",
    "                    selections=selections_train,\n",
    "                    audio_repres=spec_config\n",
    "                   )                             "
   ]
  },
  {
   "cell_type": "markdown",
   "metadata": {},
   "source": [
    "And we do the same thing for the test set. Note that, by specifying the same database name, we are telling ketos that we want to add the test set to the existing database."
   ]
  },
  {
   "cell_type": "code",
   "execution_count": 341,
   "metadata": {},
   "outputs": [
    {
     "name": "stderr",
     "output_type": "stream",
     "text": [
      "100%|██████████| 382/382 [00:44<00:00,  8.59it/s]"
     ]
    },
    {
     "name": "stdout",
     "output_type": "stream",
     "text": [
      "382 items saved to database_01.h5\n"
     ]
    },
    {
     "name": "stderr",
     "output_type": "stream",
     "text": [
      "\n"
     ]
    }
   ],
   "source": [
    "# channel arg is also added there in the same way as previously\n",
    "dbi.create_database(output_file='database_01.h5', \n",
    "                    channel = 1,\n",
    "                    data_dir='data/test',\n",
    "                    dataset_name='test',\n",
    "                    selections=selections_test,\n",
    "                    audio_repres=spec_config\n",
    "                   )                            "
   ]
  },
  {
   "cell_type": "markdown",
   "metadata": {},
   "source": [
    "Now we have our database with spectrograms representing audio segments with and without the North Atlantic Right Whale upcall. The data is divided into 'train' and 'test'. \n",
    "\n"
   ]
  },
  {
   "cell_type": "code",
   "execution_count": 346,
   "metadata": {},
   "outputs": [],
   "source": [
    "db = dbi.open_file(\"database_01.h5\", 'r')"
   ]
  },
  {
   "cell_type": "code",
   "execution_count": 347,
   "metadata": {},
   "outputs": [
    {
     "data": {
      "text/plain": [
       "File(filename=database_01.h5, title='', mode='r', root_uep='/', filters=Filters(complevel=0, shuffle=False, bitshuffle=False, fletcher32=False, least_significant_digit=None))\n",
       "/ (RootGroup) ''\n",
       "/test (Group) ''\n",
       "/test/data (Table(382,), fletcher32, shuffle, zlib(1)) ''\n",
       "  description := {\n",
       "  \"data\": Float32Col(shape=(125, 2401), dflt=0.0, pos=0),\n",
       "  \"filename\": StringCol(itemsize=100, shape=(), dflt=b'', pos=1),\n",
       "  \"id\": UInt32Col(shape=(), dflt=0, pos=2),\n",
       "  \"label\": UInt8Col(shape=(), dflt=0, pos=3),\n",
       "  \"offset\": Float64Col(shape=(), dflt=0.0, pos=4)}\n",
       "  byteorder := 'little'\n",
       "  chunkshape := (1,)\n",
       "/train (Group) ''\n",
       "/train/data (Table(1086,), fletcher32, shuffle, zlib(1)) ''\n",
       "  description := {\n",
       "  \"data\": Float32Col(shape=(125, 2401), dflt=0.0, pos=0),\n",
       "  \"filename\": StringCol(itemsize=100, shape=(), dflt=b'', pos=1),\n",
       "  \"id\": UInt32Col(shape=(), dflt=0, pos=2),\n",
       "  \"label\": UInt8Col(shape=(), dflt=0, pos=3),\n",
       "  \"offset\": Float64Col(shape=(), dflt=0.0, pos=4)}\n",
       "  byteorder := 'little'\n",
       "  chunkshape := (1,)"
      ]
     },
     "execution_count": 347,
     "metadata": {},
     "output_type": "execute_result"
    }
   ],
   "source": [
    "db"
   ]
  },
  {
   "cell_type": "markdown",
   "metadata": {},
   "source": [
    "Here we can see the data divided into 'train' and 'test' These are called 'groups' in HDF5 terms. Within each of them there's a dataset called 'data', which contains the spectrograms and respective labels."
   ]
  },
  {
   "cell_type": "code",
   "execution_count": null,
   "metadata": {},
   "outputs": [],
   "source": []
  },
  {
   "cell_type": "code",
   "execution_count": null,
   "metadata": {},
   "outputs": [],
   "source": []
  },
  {
   "cell_type": "code",
   "execution_count": 344,
   "metadata": {},
   "outputs": [],
   "source": [
    "db.close() #close the database connection"
   ]
  },
  {
   "cell_type": "markdown",
   "metadata": {},
   "source": [
    "You will likely not need to directly interact with the database. In a following tutorial, we will use Ketos to build a deep neural network and train it to recognize upcalls. Ketos handles the database interactions, so we won't really have to go into the details of it, but if you would like to learn more about how to get data from this database, take a look at the [database_interface](https://docs.meridian.cs.dal.ca/ketos/modules/data_handling/database_interface.html) module in ketos and the [pyTables](https://www.pytables.org/index.html) documentation."
   ]
  }
 ],
 "metadata": {
  "kernelspec": {
   "display_name": "Python 3",
   "language": "python",
   "name": "python3"
  },
  "language_info": {
   "codemirror_mode": {
    "name": "ipython",
    "version": 3
   },
   "file_extension": ".py",
   "mimetype": "text/x-python",
   "name": "python",
   "nbconvert_exporter": "python",
   "pygments_lexer": "ipython3",
   "version": "3.7.10"
  }
 },
 "nbformat": 4,
 "nbformat_minor": 2
}
