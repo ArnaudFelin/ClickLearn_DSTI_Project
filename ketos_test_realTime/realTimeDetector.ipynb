{
 "cells": [
  {
   "cell_type": "code",
   "execution_count": 1,
   "id": "0b20705e",
   "metadata": {},
   "outputs": [
    {
     "name": "stderr",
     "output_type": "stream",
     "text": [
      "/home/jetson/miniforge3/envs/ketos_env/lib/python3.7/site-packages/keras/optimizer_v2/optimizer_v2.py:356: UserWarning: The `lr` argument is deprecated, use `learning_rate` instead.\n",
      "  \"The `lr` argument is deprecated, use `learning_rate` instead.\")\n"
     ]
    }
   ],
   "source": [
    "import os, shutil\n",
    "from time import sleep\n",
    "\n",
    "from ketos.audio.audio_loader import AudioFrameLoader\n",
    "from ketos.neural_networks.resnet import ResNetInterface\n",
    "from ketos.neural_networks.dev_utils.detection import process, save_detections, merge_overlapping_detections"
   ]
  },
  {
   "cell_type": "code",
   "execution_count": 22,
   "id": "04140347",
   "metadata": {},
   "outputs": [],
   "source": [
    "def list_wav_file():\n",
    "    filesList = []\n",
    "    filesList = os.listdir(\"./audioTemp\")\n",
    "    filesList.sort()\n",
    "    print('List all wav file name in audioTemp folder : ')\n",
    "    print(filesList)\n",
    "    return filesList"
   ]
  },
  {
   "cell_type": "code",
   "execution_count": 3,
   "id": "73df6b9c",
   "metadata": {},
   "outputs": [],
   "source": [
    "def load_wav_file(filesList, index):\n",
    "    #print(\"Move 1 wav file from audioTemp folder to audioToParse before process\")\n",
    "    shutil.move(\"./audioTemp/\"+filesList[index], \"./audioToParse\")"
   ]
  },
  {
   "cell_type": "code",
   "execution_count": 4,
   "id": "e3584aa5",
   "metadata": {},
   "outputs": [],
   "source": [
    "def unload_wav_file(filesList, index):\n",
    "    #print(\"Move 1 wav file from audioToParse folder to audioParsed after process\")\n",
    "    shutil.move(\"./audioToParse/\"+filesList[index], \"./audioParsed\")"
   ]
  },
  {
   "cell_type": "code",
   "execution_count": 5,
   "id": "8a2610b2",
   "metadata": {},
   "outputs": [],
   "source": [
    "# load the classifier and the spectrogram parameters\n",
    "model, audio_repr = ResNetInterface.load_model_file('narw.kt', './narw_tmp_folder', load_audio_repr=True)\n",
    "spec_config = audio_repr[0]['spectrogram']    \n",
    "    \n"
   ]
  },
  {
   "cell_type": "code",
   "execution_count": 31,
   "id": "20ba4ddb",
   "metadata": {},
   "outputs": [
    {
     "name": "stdout",
     "output_type": "stream",
     "text": [
      "List all wav file name in audioTemp folder : {filesList}\n",
      "['sample_1.wav_23.wav', 'sample_1.wav_24.wav', 'sample_1.wav_25.wav', 'sample_1.wav_26.wav', 'sample_1.wav_27.wav', 'sample_1.wav_28.wav', 'sample_1.wav_29.wav']\n"
     ]
    }
   ],
   "source": [
    "# load all the name of the audio wav files\n",
    "wavFiles = list_wav_file()\n",
    "\n",
    " "
   ]
  },
  {
   "cell_type": "code",
   "execution_count": 32,
   "id": "88c2f3f4",
   "metadata": {},
   "outputs": [
    {
     "name": "stdout",
     "output_type": "stream",
     "text": [
      "\n",
      "\n",
      "=======================================================================================\n",
      "Process of the file number : 0 - file name : sample_1.wav_23.wav\n"
     ]
    },
    {
     "name": "stderr",
     "output_type": "stream",
     "text": [
      "100%|█████████████████████████████████████████████| 1/1 [00:00<00:00,  1.12it/s]\n"
     ]
    },
    {
     "name": "stdout",
     "output_type": "stream",
     "text": [
      "1 detections saved to detections_no_overlap.csv\n",
      "\n",
      "\n",
      "=======================================================================================\n",
      "Process of the file number : 1 - file name : sample_1.wav_24.wav\n"
     ]
    },
    {
     "name": "stderr",
     "output_type": "stream",
     "text": [
      "100%|█████████████████████████████████████████████| 1/1 [00:00<00:00,  1.09it/s]\n"
     ]
    },
    {
     "name": "stdout",
     "output_type": "stream",
     "text": [
      "1 detections saved to detections_no_overlap.csv\n",
      "\n",
      "\n",
      "=======================================================================================\n",
      "Process of the file number : 2 - file name : sample_1.wav_25.wav\n"
     ]
    },
    {
     "name": "stderr",
     "output_type": "stream",
     "text": [
      "100%|█████████████████████████████████████████████| 1/1 [00:00<00:00,  1.03it/s]\n"
     ]
    },
    {
     "name": "stdout",
     "output_type": "stream",
     "text": [
      "2 detections saved to detections_no_overlap.csv\n",
      "\n",
      "\n",
      "=======================================================================================\n",
      "Process of the file number : 3 - file name : sample_1.wav_26.wav\n"
     ]
    },
    {
     "name": "stderr",
     "output_type": "stream",
     "text": [
      "100%|█████████████████████████████████████████████| 1/1 [00:00<00:00,  1.09it/s]\n"
     ]
    },
    {
     "name": "stdout",
     "output_type": "stream",
     "text": [
      "0 detections saved to detections_no_overlap.csv\n",
      "\n",
      "\n",
      "=======================================================================================\n",
      "Process of the file number : 4 - file name : sample_1.wav_27.wav\n"
     ]
    },
    {
     "name": "stderr",
     "output_type": "stream",
     "text": [
      "100%|█████████████████████████████████████████████| 1/1 [00:00<00:00,  1.12it/s]\n"
     ]
    },
    {
     "name": "stdout",
     "output_type": "stream",
     "text": [
      "0 detections saved to detections_no_overlap.csv\n",
      "\n",
      "\n",
      "=======================================================================================\n",
      "Process of the file number : 5 - file name : sample_1.wav_28.wav\n"
     ]
    },
    {
     "name": "stderr",
     "output_type": "stream",
     "text": [
      "100%|█████████████████████████████████████████████| 1/1 [00:00<00:00,  1.15it/s]\n"
     ]
    },
    {
     "name": "stdout",
     "output_type": "stream",
     "text": [
      "2 detections saved to detections_no_overlap.csv\n",
      "\n",
      "\n",
      "=======================================================================================\n",
      "Process of the file number : 6 - file name : sample_1.wav_29.wav\n"
     ]
    },
    {
     "name": "stderr",
     "output_type": "stream",
     "text": [
      "100%|█████████████████████████████████████████████| 1/1 [00:00<00:00,  1.13it/s]\n"
     ]
    },
    {
     "name": "stdout",
     "output_type": "stream",
     "text": [
      "2 detections saved to detections_no_overlap.csv\n"
     ]
    }
   ],
   "source": [
    "saveFileName = 'detections_no_overlap.csv'\n",
    "\n",
    "if os.path.isfile(saveFileName): os.remove(saveFileName) #remove, if already exists\n",
    "\n",
    "\n",
    "for n,i in enumerate(wavFiles):\n",
    "    \n",
    "    print('')\n",
    "    print('')\n",
    "        \n",
    "    print('=======================================================================================')\n",
    "    print(f'Process of the file number : {n} - file name : {i}')\n",
    "        \n",
    "    \n",
    "    load_wav_file(wavFiles, n)\n",
    "\n",
    "    # initialize the audio loader\n",
    "    audio_loader = AudioFrameLoader(frame=spec_config['duration'], step=1.5, path='audioToParse', filename=None, repres=spec_config)\n",
    "\n",
    "    # process the audio data\n",
    "    detections = process(provider=audio_loader, model=model, batch_size=64, buffer=0.0, threshold=0.55, group=True, win_len=5, progress_bar=True)\n",
    "\n",
    "    detections = merge_overlapping_detections(detections)\n",
    "\n",
    "    # save the detections \n",
    "    save_detections(detections=detections, save_to=saveFileName)\n",
    "    print(f'{len(detections)} detections saved to {saveFileName}')\n",
    "\n",
    "    unload_wav_file(wavFiles, n)\n",
    "\n",
    "    # Sleep before load next wav file\n",
    "    sleep(59)"
   ]
  },
  {
   "cell_type": "code",
   "execution_count": null,
   "id": "1e10dbfe",
   "metadata": {},
   "outputs": [],
   "source": []
  }
 ],
 "metadata": {
  "kernelspec": {
   "display_name": "Python 3 (ipykernel)",
   "language": "python",
   "name": "python3"
  },
  "language_info": {
   "codemirror_mode": {
    "name": "ipython",
    "version": 3
   },
   "file_extension": ".py",
   "mimetype": "text/x-python",
   "name": "python",
   "nbconvert_exporter": "python",
   "pygments_lexer": "ipython3",
   "version": "3.7.10"
  }
 },
 "nbformat": 4,
 "nbformat_minor": 5
}
