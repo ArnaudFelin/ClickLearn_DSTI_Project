{
 "cells": [
  {
   "cell_type": "markdown",
   "metadata": {},
   "source": [
    "# Creating a training database: import and load Pamguard CSV files\n",
    "\n",
    "\n",
    "(CLICKLEARN DSTI Project)\n",
    "\n",
    "The objective of this notebook is to complete Ketos *Creating Database (Extended)* notebook:\n",
    "https://docs.meridian.cs.dal.ca/ketos/tutorials/create_database/index.html\n",
    "\n",
    "The original notebook *\"Chapter 2. Loading the annotations* of the original *Creating Database (Extended)\"* describes methods to import CSV files which already match to the Ketos requirements, but not to import and convert other CSV files. \n",
    "\n",
    "In the present notebook, sections *1. Imports* and *2. Building annotation files* of the present work complete this chapter 2, by providing methods to load a CSV file exported by **Pamguard software**, and convert it as Ketos annotation table, dealing with datetime and timedelta operations. Pamguard is an open source software which objective is to provide free and easy to handle tools for cetacean passive acoustic monitoring (PAM):\n",
    "https://www.pamguard.org/\n",
    "\n",
    "Two types of CSV file exported by Pamguard can be used with these methods. One section of this notebook will be dedicated to each type :\n",
    "\n",
    "* **Events annotation CSV files**: quoting start and end of time ranges (several seconds long) in which clicks streams have been identified.\n",
    "* **Clicks annotation CSV files**: quoting start time of identified clicks. Click duration is about few milliseconds and has to be set in parameters (see below).\n",
    "\n",
    "The converted annotation tables will then be ready to be directly used by Ketos library (see Chapter 3 and followings). No major implementations were provided in Chapter 3 and following ones.\n",
    "\n",
    "\n",
    "## Contents:\n",
    "\n",
    "[1. Imports](#section1)  \n",
    "[2. Building annotation files](#section2)  \n",
    "\n"
   ]
  },
  {
   "cell_type": "markdown",
   "metadata": {},
   "source": [
    "<a id=section1></a>"
   ]
  },
  {
   "cell_type": "markdown",
   "metadata": {},
   "source": [
    "<a id=\"section1\"></a>\n",
    "## 1. Imports\n",
    "(CLICKLEARN DSTI)"
   ]
  },
  {
   "cell_type": "markdown",
   "metadata": {},
   "source": [
    "### Importing the packages\n",
    "\n",
    "We will use several modules within ketos and also the pandas package\n",
    "\n"
   ]
  },
  {
   "cell_type": "code",
   "execution_count": 43,
   "metadata": {},
   "outputs": [],
   "source": [
    "import os\n",
    "import numpy as np\n",
    "import pandas as pd\n",
    "from ketos.data_handling import selection_table as sl\n",
    "import ketos.data_handling.database_interface as dbi\n",
    "from ketos.data_handling.parsing import load_audio_representation\n",
    "from ketos.audio.spectrogram import MagSpectrogram\n",
    "from ketos.data_handling.parsing import load_audio_representation\n",
    "\n",
    "from datetime import datetime\n",
    "from typing import Union\n",
    "import math\n",
    "import random\n",
    "\n",
    "# This last package is made by ClickLearn DSTI team to extract informations from a Pamguard CSV export file \n",
    "# and buid a Ketos annotation table (Pandas dataframe)\n",
    "# import ketos_annotation_table as kat"
   ]
  },
  {
   "cell_type": "markdown",
   "metadata": {},
   "source": [
    "### Import functions\n",
    "\n"
   ]
  },
  {
   "cell_type": "markdown",
   "metadata": {},
   "source": [
    "<span style = \"color : red;\">\n",
    "TODO:\n",
    "    \n",
    "* Move following methods in Ketos_annotation_table.py when finished, then delete this chapter\n",
    "</span>\n"
   ]
  },
  {
   "cell_type": "markdown",
   "metadata": {},
   "source": [
    "####  <span style = \"color : red;\"> Must keep [Team] </span>\n",
    "\n",
    "\n"
   ]
  },
  {
   "cell_type": "code",
   "execution_count": 44,
   "metadata": {},
   "outputs": [],
   "source": [
    "def strip_dataframe(df):\n",
    "    \"\"\"Removes any white space before and after value of every cells of a dataframe.\n",
    "\n",
    "        Args:\n",
    "            df: pd.DataFrame\n",
    "        Returns:\n",
    "            df: pd.DataFrame\n",
    "    \"\"\"\n",
    "    for column in df:\n",
    "        if isinstance(df[column][0], str):\n",
    "            df[column] = df[column].str.strip()\n",
    "    return df"
   ]
  },
  {
   "cell_type": "code",
   "execution_count": 45,
   "metadata": {
    "scrolled": true
   },
   "outputs": [],
   "source": [
    "def subsample_dataframe(df_to_subsample, train_proportion:float):\n",
    "    \"\"\"Subsample a Pandas DataFrame into 2 others, based on its indexes.\n",
    "        \n",
    "        Args:\n",
    "            df_to_subsample: pd.DataFrame\n",
    "            train_proportion: float\n",
    "                proportion (]0;1[) of indexes to subsample in the dataset, in order to build the train dataset\n",
    "    \n",
    "        Returns: tuple with 2 dataframes:\n",
    "            [0] train subsample \n",
    "            [1] test subsamples\n",
    "    \"\"\"\n",
    "    length = len(df_to_subsample)\n",
    "    nb_train_rows = math.ceil(train_proportion*length)\n",
    "    #create a sequence corresponding to df indexes to subsample \n",
    "    sequence = set(range(length))\n",
    "    train_indexes = random.sample(sequence, nb_train_rows)\n",
    "    test_indexes = list(sequence - set(train_indexes))\n",
    "    return df_to_subsample.iloc[train_indexes], df_to_subsample.iloc[test_indexes]"
   ]
  },
  {
   "cell_type": "code",
   "execution_count": 46,
   "metadata": {},
   "outputs": [],
   "source": [
    "def check_pamguard_annotation_df(df):\n",
    "    \"\"\"Check annotations from a CSV file extracted from Pamguard software. Uses check_annotation in a loop.\n",
    "    \n",
    "        Args:\n",
    "            df: Pandas DataFrame\n",
    "                Pamguard annotation DataFrame converted by the pamguard_annotations_csv_to_df() method.\n",
    "        \n",
    "        Returns: \n",
    "            errors: list\n",
    "                List of errors containing each incorrect annotation\n",
    "    \"\"\"\n",
    "    errors = []\n",
    "    for index, row in df.iterrows():\n",
    "        check_annotation_time(row.start, row.end, row.Id)"
   ]
  },
  {
   "cell_type": "code",
   "execution_count": 47,
   "metadata": {},
   "outputs": [],
   "source": [
    "def check_annotation_time(start:str, end:str, index = 0):\n",
    "    \"\"\"Check time validity of 1 annotation (or 1 row of an annotation table): end value must be subsequent to start value.\n",
    "        Print error messages.\n",
    "        \n",
    "        Args:\n",
    "            start: str\n",
    "                Start time for the annotation, in seconds from the beginning of the file\n",
    "            end: str\n",
    "                End time for the annotation, in seconds from the beginning of the file\n",
    "            index: int\n",
    "                Row index (DataFrames)\n",
    "        \n",
    "        Returns: \n",
    "            str\n",
    "               String, containing index and details about the incorrect annotation\n",
    "    \n",
    "    \"\"\"\n",
    "    if start > end: \n",
    "        return f'Id {index}: end value ({end}) is prior to start value ({start})'"
   ]
  },
  {
   "cell_type": "code",
   "execution_count": 83,
   "metadata": {},
   "outputs": [],
   "source": [
    "def pamguard_events_annotations_csv_to_df(annotation_csv_path:str, events_subsampling_option:int = 2):\n",
    "    \"\"\"Convert a Pamguard CSV annotation file into a Ketos annotation table (non standardized). \n",
    "        Args:\n",
    "            annotation_csv_path: str\n",
    "                complete path of the CSV file. CSV separator must be ','\n",
    "            events_subsampling_option: int\n",
    "                Subsampling is optional but highly recommended to avoid unsure detections. \n",
    "                From the less to the most selective option:\n",
    "                - 0: no subsampling. All detections (sure, unsure...) are kept\n",
    "                - 1: subsample excluding all commented detections in 'comment' column \n",
    "                    (comments always refer to unsure detections), \n",
    "                    then including 'definite' ('DLD') and 'probable' ('DLP') dolphin click detections as well\n",
    "                - 2 (default value): subsample excluding all commented detections in 'comment' column \n",
    "                    (comments always refer to unsure detections), \n",
    "                    then including only 'definite' dolphin click detections ('DLD')\n",
    "               \n",
    "        Returns:\n",
    "            annotations_df: pd.DataFrame\n",
    "                Ketos annotation table (non standardized)\n",
    "    \"\"\"\n",
    "\n",
    "    # annotation_csv_path = csv_events_path\n",
    "    # events_subsampling_option = 2\n",
    "    # annotation_type = 'events'\n",
    "    # click_duration = 2.5\n",
    "\n",
    "    benchmark_start = datetime.now()\n",
    "\n",
    "    # import CSV in a dataframe\n",
    "    annotations_df = pd.read_csv(annotation_csv_path, sep=\",\")\n",
    "\n",
    "    # Remove all whitespaces from string typed series of the dataframe \n",
    "    annotations_df = strip_dataframe(annotations_df)\n",
    "\n",
    "    # SUBSAMPLING (SPECIFIC TO EVENT ANNOTATION DF, with option 2 > 1 > 0, check docstring):\n",
    "    if events_subsampling_option == 2:\n",
    "        annotations_df = annotations_df.loc[((annotations_df.comment.isna()) \n",
    "                                             & (annotations_df.eventType == 'DLD')),]\n",
    "    if events_subsampling_option == 1:\n",
    "        annotations_df = annotations_df.loc[(annotations_df.comment.isna()),]    \n",
    "\n",
    "    # updating pd.Series type from string to datetime\n",
    "    annotations_df = annotations_df.rename(columns = {'UTC':'start', 'EventEnd':'end', 'eventType':'label'})\n",
    "    annotations_df.start = pd.to_datetime(annotations_df.start, format = '%Y-%m-%d %H:%M:%S.%f')\n",
    "    annotations_df.end = pd.to_datetime(annotations_df.end, format = '%Y-%m-%d %H:%M:%S.%f')\n",
    "\n",
    "\n",
    "    # computing start and end time from beginning of the file\n",
    "    # + creating a new column to add .wav filenames\n",
    "    annotations_df['filename']=\"\"\n",
    "    annotations_df = annotations_df.reset_index()\n",
    "    for index, row in annotations_df.iterrows():\n",
    "        try:\n",
    "            #select all the files that starts before or at the same time than \"start\", pick the last of them  \n",
    "            matching_loc = wav_df.loc[(wav_df.filestart <= row.start)].iloc[-1]\n",
    "            annotations_df.filename[index] = matching_loc['filename']\n",
    "            annotations_df.start[index] = (annotations_df.start[index] - matching_loc['filestart'])\n",
    "            annotations_df.end[index] = (annotations_df.end[index] - matching_loc['filestart'])\n",
    "        except:\n",
    "            pass\n",
    "\n",
    "\n",
    "    #convert 'start' in seconds\n",
    "#     annotations_df['start'] = pd.Series(annotations_df.start).apply(pd.Timedelta.total_seconds)\n",
    "#     annotations_df['end'] = pd.Series(annotations_df.end).apply(pd.Timedelta.total_seconds)\n",
    "    annotations_df['start'] = annotations_df.start.apply(pd.Timedelta.total_seconds)\n",
    "    annotations_df['end'] = annotations_df.end.apply(pd.Timedelta.total_seconds)\n",
    "    \n",
    "    # # select only columns required in Ketos annotation table\n",
    "    annotations_df = annotations_df.loc[:,('Id', 'start', 'end', 'label', 'filename', 'nClicks', 'comment')]\n",
    "\n",
    "\n",
    "    # Check start and end values of events annotation df\n",
    "    check_pamguard_annotation_df(annotations_df)\n",
    "    \n",
    "    return annotations_df"
   ]
  },
  {
   "cell_type": "markdown",
   "metadata": {},
   "source": [
    "####  <span style = \"color : red;\"> Keep or Delete [Team] </span>\n",
    "\n"
   ]
  },
  {
   "cell_type": "code",
   "execution_count": 2,
   "metadata": {},
   "outputs": [],
   "source": [
    "def pamguard_name_to_datetime(filename:str):\n",
    "    \"\"\"Extract a datetime value from a PAMGUARD sound file name.\n",
    "        Args:\n",
    "            filename : str\n",
    "                PAMGUARD .wav or audio_file name\n",
    "        Returns:\n",
    "            datetime\n",
    "                Formatted datetime value (like 2019-02-24 13:15:00)\n",
    "        Examples\n",
    "            >>> pamguard_name_to_datetime('Click_Detector_Sperm_whale_click_detector_Clicks_20180601_010000.pgdf')\n",
    "            datetime.datetime(2018, 6, 1, 1, 0)\n",
    "            >>> pamguard_name_to_datetime('192_20180705_123056_853.wav')\n",
    "            datetime.datetime(2018, 7, 5, 12, 30, 56)\n",
    "    \"\"\"\n",
    "    # split filename from its suffix (.wav or .pgdf)\n",
    "    filename, suffix = os.path.splitext(filename)\n",
    "    # remove milliseconds from filename (occurs on Pamguard .wav filenames)\n",
    "    if \".wav\" in suffix:\n",
    "        filename = filename[:-4]\n",
    "    # returns the date part of the remaining filename as a datetime\n",
    "    return datetime.strptime(filename[-15:], '%Y%m%d_%H%M%S')"
   ]
  },
  {
   "cell_type": "code",
   "execution_count": 4,
   "metadata": {},
   "outputs": [],
   "source": [
    "# NO MORE USED (keep it to detect unmatched labels ?)\n",
    "def update_annotation_df_labels(annotation_df, labels_to_modify:set, valid_labels: set):\n",
    "    \"\"\"Replaces a set of labels with valid labels, in a columns named 'label' of a Pandas Annotation dataframe\n",
    "        Args:\n",
    "            annotation_df: pd.DataFrame\n",
    "                Annotation table imported from Pamguard\n",
    "            labels_to_modify: set\n",
    "                set of strings\n",
    "            valid_labels: set\n",
    "                set of strings characters corresponding to every valid labels for any annotation\n",
    "\n",
    "        Returns:\n",
    "            annotation_df: pd.DataFrame\n",
    "    \"\"\"\n",
    "    # check validity of new labels\n",
    "    unmatched_labels = set(labels_to_modify.values()) - set(valid_labels)\n",
    "    if len(unmatched_labels) != 0:\n",
    "        print('Following labels doesn\\'t match label list: ', unmatched_labels)\n",
    "    else:\n",
    "        # replace old labels by new ones\n",
    "        for old_label, new_label in labels_to_modify.items():\n",
    "            annotation_df.loc[annotation_df.label == old_label,'label'] = new_label\n",
    "    return annotation_df"
   ]
  },
  {
   "cell_type": "markdown",
   "metadata": {},
   "source": [
    "## 2. Setting parameters to build the Annotation table \n",
    "(CLICKLEARN DSTI Project)\n",
    "\n",
    "\n",
    "This part contains all required settings to build annotation dataframes:\n",
    "* Audio files path (where all audio files are stored)\n",
    "* File path, where: \n",
    "    + CSV fils are stored and Annotation tables **will be** stored\n",
    "    + Sound files are stored\n",
    "* Click duration in milliseconds (for Click annotation CSV files)\n",
    "* Set of valid labels to be used (all labels from CSV file that are not matching this set will be stored in an error log file)"
   ]
  },
  {
   "cell_type": "code",
   "execution_count": 54,
   "metadata": {},
   "outputs": [],
   "source": [
    "# PATH SETTINGS\n",
    "# Annotation CSV file folder path (MAC)\n",
    "# annotations_folder_path ='/Users/benoitmialet/Ketos/ClickLearn/'\n",
    "# Annotation CSV file folder path (W10)\n",
    "annotations_folder_path = (r'D:\\SYSTEL\\Ketos\\clicklearn')\n",
    "# Annotation CSV file name\n",
    "csv_events_name = 'UBISEA_acoustic_detections_samples_events.csv' # WAVFile column was manually added in this file \n",
    "csv_clicks_name = 'UBISEA_acoustic_detections_samples_clicks.csv'\n",
    "\n",
    "# Sound file path (MAC)\n",
    "# sound_files_path = '/Volumes/BENITO/Pelagis - Données acoustiques ASI/Recordings 048 kHz'\n",
    "# Sound file path (W10)\n",
    "sound_files_path = r'F:\\Pelagis - Données acoustiques ASI\\Recordings 048 kHz'\n",
    "\n",
    "# PATH BUILDING\n",
    "csv_folder_path = annotations_folder_path\n",
    "csv_events_path = os.path.join(csv_folder_path,csv_events_name)\n",
    "csv_clicks_path = os.path.join(csv_folder_path,csv_clicks_name)\n",
    "\n",
    "# CLICK ANNOTATION SETTINGS \n",
    "# set click duration (milliseconds) for the dataframe\n",
    "clickDuration = pd.Timedelta(2.5, unit = 'milliseconds')\n",
    "# set label corresponding to a click detection\n",
    "label = 'DLD'\n",
    "\n",
    "# LABELS SETTINGS\n",
    "# valid labels for annotation dataframes, must be a list (or list of lists)\n",
    "# each element of the list correspond dto 1 label, ex: ([1,2,[3,3,3],...]):\n",
    "ketos_signal_labels = [['dolphin_click', 'DLP', 'DLD']]\n",
    "ketos_signal_labels_all = [['dolphin_click', 'DLP', 'SWC', 'SWB', 'Vn', 'NOTE', 'DLD', 'Vt', 'No']]\n",
    "ketos_backgr_labels = [] # CHANGE TO ['other']"
   ]
  },
  {
   "cell_type": "markdown",
   "metadata": {},
   "source": [
    "<a id=\"section2\"></a>\n",
    "## 2a. Building annotation files from **Events Annotations CSV files** \n"
   ]
  },
  {
   "cell_type": "markdown",
   "metadata": {},
   "source": [
    "This section describes methods to create an annotation table. New methods are added to the original documentation to import Pamguard CSV files."
   ]
  },
  {
   "cell_type": "markdown",
   "metadata": {},
   "source": [
    "### steps overview:\n",
    "* Building a wav_df DataFrame with name and start time of every .wav file in sound files folder and sub folders\n",
    "* Importing a Pamguard CSV file into a Pandas DataFrame (annotations_df)\n",
    "* strip blank spaces (strings) in all the annotations_df\n",
    "* convert 'start' value from string to datetime format\n",
    "* add and complete 'filename' column, update 'start' column: for each annotations_df 'start' value:\n",
    "    + select rows in wav_df where 'filestart' value <= 'start' value\n",
    "    + take last index [-1] of this selection \n",
    "    + at this index (wav_df), take 'filename' and 'start' values\n",
    "    + copy 'filename' into annotations_df 'filename' column\n",
    "    + update annotations_df 'start' column by computing the time delta in seconds between annotations_df 'start' value and wav_df 'filestart' value\n",
    "+ add 'end' column, equals to 'start' + 2.5 ms\n",
    "+ add 'label' column, equals to 'DLD' (Dolphin Definite detection)\n"
   ]
  },
  {
   "cell_type": "markdown",
   "metadata": {},
   "source": [
    "### Building a wav_df dataframe with name and start time of every .wav file in sound files folder and sub folders"
   ]
  },
  {
   "cell_type": "markdown",
   "metadata": {},
   "source": [
    "This dataframe will be used to find on which .wav file each annotation should be attributed"
   ]
  },
  {
   "cell_type": "code",
   "execution_count": 68,
   "metadata": {
    "scrolled": true
   },
   "outputs": [
    {
     "data": {
      "text/html": [
       "<div>\n",
       "<style scoped>\n",
       "    .dataframe tbody tr th:only-of-type {\n",
       "        vertical-align: middle;\n",
       "    }\n",
       "\n",
       "    .dataframe tbody tr th {\n",
       "        vertical-align: top;\n",
       "    }\n",
       "\n",
       "    .dataframe thead th {\n",
       "        text-align: right;\n",
       "    }\n",
       "</style>\n",
       "<table border=\"1\" class=\"dataframe\">\n",
       "  <thead>\n",
       "    <tr style=\"text-align: right;\">\n",
       "      <th></th>\n",
       "      <th>filestart</th>\n",
       "      <th>filename</th>\n",
       "    </tr>\n",
       "  </thead>\n",
       "  <tbody>\n",
       "    <tr>\n",
       "      <th>0</th>\n",
       "      <td>2018-05-28 00:29:02.685</td>\n",
       "      <td>048_20180528_002902_685.wav</td>\n",
       "    </tr>\n",
       "    <tr>\n",
       "      <th>1</th>\n",
       "      <td>2018-05-28 00:31:22.520</td>\n",
       "      <td>048_20180528_003122_520.wav</td>\n",
       "    </tr>\n",
       "    <tr>\n",
       "      <th>2</th>\n",
       "      <td>2018-05-28 00:32:18.970</td>\n",
       "      <td>048_20180528_003218_970.wav</td>\n",
       "    </tr>\n",
       "    <tr>\n",
       "      <th>3</th>\n",
       "      <td>2018-05-28 00:33:02.923</td>\n",
       "      <td>048_20180528_003302_923.wav</td>\n",
       "    </tr>\n",
       "    <tr>\n",
       "      <th>4</th>\n",
       "      <td>2018-05-28 00:33:58.587</td>\n",
       "      <td>048_20180528_003358_587.wav</td>\n",
       "    </tr>\n",
       "    <tr>\n",
       "      <th>...</th>\n",
       "      <td>...</td>\n",
       "      <td>...</td>\n",
       "    </tr>\n",
       "    <tr>\n",
       "      <th>4289</th>\n",
       "      <td>2018-09-28 14:00:00.000</td>\n",
       "      <td>048_20180928_140000_000.wav</td>\n",
       "    </tr>\n",
       "    <tr>\n",
       "      <th>4290</th>\n",
       "      <td>2018-09-28 15:00:00.001</td>\n",
       "      <td>048_20180928_150000_001.wav</td>\n",
       "    </tr>\n",
       "    <tr>\n",
       "      <th>4291</th>\n",
       "      <td>2018-09-28 16:00:00.000</td>\n",
       "      <td>048_20180928_160000_000.wav</td>\n",
       "    </tr>\n",
       "    <tr>\n",
       "      <th>4292</th>\n",
       "      <td>2018-09-28 16:59:59.999</td>\n",
       "      <td>048_20180928_165959_999.wav</td>\n",
       "    </tr>\n",
       "    <tr>\n",
       "      <th>4293</th>\n",
       "      <td>2018-09-28 18:00:00.001</td>\n",
       "      <td>048_20180928_180000_001.wav</td>\n",
       "    </tr>\n",
       "  </tbody>\n",
       "</table>\n",
       "<p>4294 rows × 2 columns</p>\n",
       "</div>"
      ],
      "text/plain": [
       "                   filestart                     filename\n",
       "0    2018-05-28 00:29:02.685  048_20180528_002902_685.wav\n",
       "1    2018-05-28 00:31:22.520  048_20180528_003122_520.wav\n",
       "2    2018-05-28 00:32:18.970  048_20180528_003218_970.wav\n",
       "3    2018-05-28 00:33:02.923  048_20180528_003302_923.wav\n",
       "4    2018-05-28 00:33:58.587  048_20180528_003358_587.wav\n",
       "...                      ...                          ...\n",
       "4289 2018-09-28 14:00:00.000  048_20180928_140000_000.wav\n",
       "4290 2018-09-28 15:00:00.001  048_20180928_150000_001.wav\n",
       "4291 2018-09-28 16:00:00.000  048_20180928_160000_000.wav\n",
       "4292 2018-09-28 16:59:59.999  048_20180928_165959_999.wav\n",
       "4293 2018-09-28 18:00:00.001  048_20180928_180000_001.wav\n",
       "\n",
       "[4294 rows x 2 columns]"
      ]
     },
     "execution_count": 68,
     "metadata": {},
     "output_type": "execute_result"
    }
   ],
   "source": [
    "file_list = []\n",
    "for root, directory, files in os.walk(sound_files_path):\n",
    "    for file in files:\n",
    "        if file.endswith('wav'):\n",
    "            file_list.append([datetime.strptime(file[-23:-4], '%Y%m%d_%H%M%S_%f'), file])\n",
    "\n",
    "file_list.sort()\n",
    "wav_df = pd.DataFrame(file_list, columns = ['filestart', 'filename'])\n",
    "wav_df"
   ]
  },
  {
   "cell_type": "markdown",
   "metadata": {},
   "source": [
    "### Importing a Pamguard CSV file\n",
    "\n",
    "CSV files exported by Pamguard software can be converted into a Ketos annotation table.\n",
    "Export must be done with **default options and default variable names**. This section addresses **\"Events\"** files. In these files, annotations correspond to groups of clicks observed during time lapses of several seconds.\n",
    "    + Between EventStart and EventEnd datetime values, a various number of clicks (nClicks) are included.\n",
    "    + *use method with parameters annotation_type == 'events' and  events_subsampling_option (report to the method's docstring)*\n",
    "    + In the CSV files, columns **in bold** are required and must have **exactely the same headers** as followig: \n",
    "\n",
    "![Pamguard event csv](img/capture_PAMGUARD_event_csv.png)\n",
    "\n",
    "\n"
   ]
  },
  {
   "cell_type": "markdown",
   "metadata": {},
   "source": [
    "Now we use the pamguard_events_annotations_csv_to_df() method to import the CSV file into a data frame. We will use subsampling_option = 2, to select only the dolphin definite detection (DLD) labels"
   ]
  },
  {
   "cell_type": "markdown",
   "metadata": {},
   "source": [
    "Subsampling_option is optional but highly recommended to avoid unsure detections. Several subsamplings of annotations_csv_df are possible, from the less to the most selective option:\n",
    "- 0: no subsampling. All detections (sure, unsure...) are kept\n",
    "- 1: subsample excluding all commented detections in 'comment' column \n",
    "    (comments always refer to unsure detections), \n",
    "    then including 'definite' ('DLD') and 'probable' ('DLP') dolphin click detections as well\n",
    "- 2 (default value): subsample excluding all commented detections in 'comment' column \n",
    "    (comments always refer to unsure detections), \n",
    "    then including only 'definite' dolphin click detections ('DLD')\n",
    "N.B.: Clicks annotation CSV files are only based on (uncommented) definite dolphin click \n",
    "detections ('DLD'), so it is unnecessary to subsample them regarding to any comment or label. "
   ]
  },
  {
   "cell_type": "code",
   "execution_count": 85,
   "metadata": {},
   "outputs": [
    {
     "data": {
      "text/html": [
       "<div>\n",
       "<style scoped>\n",
       "    .dataframe tbody tr th:only-of-type {\n",
       "        vertical-align: middle;\n",
       "    }\n",
       "\n",
       "    .dataframe tbody tr th {\n",
       "        vertical-align: top;\n",
       "    }\n",
       "\n",
       "    .dataframe thead th {\n",
       "        text-align: right;\n",
       "    }\n",
       "</style>\n",
       "<table border=\"1\" class=\"dataframe\">\n",
       "  <thead>\n",
       "    <tr style=\"text-align: right;\">\n",
       "      <th></th>\n",
       "      <th>Id</th>\n",
       "      <th>start</th>\n",
       "      <th>end</th>\n",
       "      <th>label</th>\n",
       "      <th>filename</th>\n",
       "      <th>nClicks</th>\n",
       "      <th>comment</th>\n",
       "    </tr>\n",
       "  </thead>\n",
       "  <tbody>\n",
       "    <tr>\n",
       "      <th>0</th>\n",
       "      <td>48</td>\n",
       "      <td>570.912</td>\n",
       "      <td>695.107</td>\n",
       "      <td>DLD</td>\n",
       "      <td>048_20180603_035959_999.wav</td>\n",
       "      <td>362</td>\n",
       "      <td>NaN</td>\n",
       "    </tr>\n",
       "    <tr>\n",
       "      <th>1</th>\n",
       "      <td>57</td>\n",
       "      <td>2013.163</td>\n",
       "      <td>2068.447</td>\n",
       "      <td>DLD</td>\n",
       "      <td>048_20180611_110000_001.wav</td>\n",
       "      <td>100</td>\n",
       "      <td>NaN</td>\n",
       "    </tr>\n",
       "    <tr>\n",
       "      <th>2</th>\n",
       "      <td>313</td>\n",
       "      <td>108.851</td>\n",
       "      <td>478.894</td>\n",
       "      <td>DLD</td>\n",
       "      <td>048_20180720_205959_999.wav</td>\n",
       "      <td>610</td>\n",
       "      <td>NaN</td>\n",
       "    </tr>\n",
       "    <tr>\n",
       "      <th>3</th>\n",
       "      <td>314</td>\n",
       "      <td>3364.329</td>\n",
       "      <td>4708.903</td>\n",
       "      <td>DLD</td>\n",
       "      <td>048_20180721_090000_000.wav</td>\n",
       "      <td>386</td>\n",
       "      <td>NaN</td>\n",
       "    </tr>\n",
       "    <tr>\n",
       "      <th>4</th>\n",
       "      <td>320</td>\n",
       "      <td>1452.926</td>\n",
       "      <td>1496.650</td>\n",
       "      <td>DLD</td>\n",
       "      <td>048_20180722_185959_933.wav</td>\n",
       "      <td>137</td>\n",
       "      <td>NaN</td>\n",
       "    </tr>\n",
       "  </tbody>\n",
       "</table>\n",
       "</div>"
      ],
      "text/plain": [
       "    Id     start       end label                     filename  nClicks comment\n",
       "0   48   570.912   695.107   DLD  048_20180603_035959_999.wav      362     NaN\n",
       "1   57  2013.163  2068.447   DLD  048_20180611_110000_001.wav      100     NaN\n",
       "2  313   108.851   478.894   DLD  048_20180720_205959_999.wav      610     NaN\n",
       "3  314  3364.329  4708.903   DLD  048_20180721_090000_000.wav      386     NaN\n",
       "4  320  1452.926  1496.650   DLD  048_20180722_185959_933.wav      137     NaN"
      ]
     },
     "execution_count": 85,
     "metadata": {},
     "output_type": "execute_result"
    }
   ],
   "source": [
    "annotations_df = pamguard_events_annotations_csv_to_df(csv_events_path, events_subsampling_option = 2)\n",
    "annotations_df.head(5)"
   ]
  },
  {
   "cell_type": "markdown",
   "metadata": {},
   "source": [
    "The returned annotation_df data frame is not yet standardized and thus can be modified or processed. The columns indicate:\n",
    "\n",
    "**start:** start time for the annotation, in seconds from the beginning of the file  \n",
    "**end:** end time for the annotation, in seconds from the beginning of the file   \n",
    "**label:** label for the annotation\n",
    "**filename:** name of the audio file  "
   ]
  },
  {
   "cell_type": "code",
   "execution_count": 86,
   "metadata": {},
   "outputs": [
    {
     "data": {
      "text/plain": [
       "array(['DLD'], dtype=object)"
      ]
     },
     "execution_count": 86,
     "metadata": {},
     "output_type": "execute_result"
    }
   ],
   "source": [
    "#label check\n",
    "annotations_df.label.unique()"
   ]
  },
  {
   "cell_type": "markdown",
   "metadata": {},
   "source": [
    "We now also build an annotations_df_no_subsample which will contain all labels, even the unsure ones. \n",
    "We will use this dataframe later in this notebook to build backround noise labels."
   ]
  },
  {
   "cell_type": "code",
   "execution_count": 87,
   "metadata": {},
   "outputs": [
    {
     "data": {
      "text/html": [
       "<div>\n",
       "<style scoped>\n",
       "    .dataframe tbody tr th:only-of-type {\n",
       "        vertical-align: middle;\n",
       "    }\n",
       "\n",
       "    .dataframe tbody tr th {\n",
       "        vertical-align: top;\n",
       "    }\n",
       "\n",
       "    .dataframe thead th {\n",
       "        text-align: right;\n",
       "    }\n",
       "</style>\n",
       "<table border=\"1\" class=\"dataframe\">\n",
       "  <thead>\n",
       "    <tr style=\"text-align: right;\">\n",
       "      <th></th>\n",
       "      <th>Id</th>\n",
       "      <th>start</th>\n",
       "      <th>end</th>\n",
       "      <th>label</th>\n",
       "      <th>filename</th>\n",
       "      <th>nClicks</th>\n",
       "      <th>comment</th>\n",
       "    </tr>\n",
       "  </thead>\n",
       "  <tbody>\n",
       "    <tr>\n",
       "      <th>0</th>\n",
       "      <td>1</td>\n",
       "      <td>613.934</td>\n",
       "      <td>703.488</td>\n",
       "      <td>DLP</td>\n",
       "      <td>048_20180528_210000_001.wav</td>\n",
       "      <td>288</td>\n",
       "      <td>Test</td>\n",
       "    </tr>\n",
       "    <tr>\n",
       "      <th>1</th>\n",
       "      <td>2</td>\n",
       "      <td>783.242</td>\n",
       "      <td>852.485</td>\n",
       "      <td>DLP</td>\n",
       "      <td>048_20180528_210000_001.wav</td>\n",
       "      <td>125</td>\n",
       "      <td>Test</td>\n",
       "    </tr>\n",
       "    <tr>\n",
       "      <th>2</th>\n",
       "      <td>3</td>\n",
       "      <td>195.787</td>\n",
       "      <td>549.103</td>\n",
       "      <td>SWC</td>\n",
       "      <td>048_20180529_220000_001.wav</td>\n",
       "      <td>245</td>\n",
       "      <td>NaN</td>\n",
       "    </tr>\n",
       "    <tr>\n",
       "      <th>3</th>\n",
       "      <td>4</td>\n",
       "      <td>232.087</td>\n",
       "      <td>1223.587</td>\n",
       "      <td>SWC</td>\n",
       "      <td>048_20180529_220000_001.wav</td>\n",
       "      <td>374</td>\n",
       "      <td>NaN</td>\n",
       "    </tr>\n",
       "    <tr>\n",
       "      <th>4</th>\n",
       "      <td>5</td>\n",
       "      <td>628.864</td>\n",
       "      <td>874.817</td>\n",
       "      <td>SWC</td>\n",
       "      <td>048_20180529_220000_001.wav</td>\n",
       "      <td>115</td>\n",
       "      <td>NaN</td>\n",
       "    </tr>\n",
       "  </tbody>\n",
       "</table>\n",
       "</div>"
      ],
      "text/plain": [
       "   Id    start       end label                     filename  nClicks comment\n",
       "0   1  613.934   703.488   DLP  048_20180528_210000_001.wav      288    Test\n",
       "1   2  783.242   852.485   DLP  048_20180528_210000_001.wav      125    Test\n",
       "2   3  195.787   549.103   SWC  048_20180529_220000_001.wav      245     NaN\n",
       "3   4  232.087  1223.587   SWC  048_20180529_220000_001.wav      374     NaN\n",
       "4   5  628.864   874.817   SWC  048_20180529_220000_001.wav      115     NaN"
      ]
     },
     "execution_count": 87,
     "metadata": {},
     "output_type": "execute_result"
    }
   ],
   "source": [
    "annotations_df_no_subsample = pamguard_events_annotations_csv_to_df(csv_events_path, events_subsampling_option = 0)\n",
    "annotations_df_no_subsample.head(5)"
   ]
  },
  {
   "cell_type": "code",
   "execution_count": 88,
   "metadata": {},
   "outputs": [
    {
     "data": {
      "text/plain": [
       "array(['DLP', 'SWC', 'SWB', 'Vn', 'NOTE', 'DLD', 'Vt', 'No'], dtype=object)"
      ]
     },
     "execution_count": 88,
     "metadata": {},
     "output_type": "execute_result"
    }
   ],
   "source": [
    "#label check\n",
    "annotations_df_no_subsample.label.unique()"
   ]
  },
  {
   "cell_type": "markdown",
   "metadata": {},
   "source": [
    "We export csv versions of the annotation table"
   ]
  },
  {
   "cell_type": "code",
   "execution_count": 47,
   "metadata": {},
   "outputs": [],
   "source": [
    "#first csv export of the annotation table to check if row start time matches with wav file name \n",
    "csv_events_annotations_path = os.path.join(csv_folder_path,'annotations_events.csv')\n",
    "annotations_df.to_csv(csv_events_annotations_path)"
   ]
  },
  {
   "cell_type": "markdown",
   "metadata": {},
   "source": [
    "### Optional : Splitting into 2 random subsamples (annotation_train / annotation_test)\n",
    "**<span style = 'color:red;'> [PLEASE SKIP THIS SECTION]: Ketos framework seems to not use random annotations subsampling based on same audio files but works with train and test annotations made on different sound files. So we won't use this section for our first training. </span>**\n",
    "\n",
    "We created subsample_dataframe() method to split the annotation table into 2 subsamples:\n",
    "* Train annotation table (Ketos will use it to create the training dataset)\n",
    "* Test annotation table (Ketos will use it to create the testing dataset)"
   ]
  },
  {
   "cell_type": "code",
   "execution_count": 28,
   "metadata": {},
   "outputs": [
    {
     "name": "stdout",
     "output_type": "stream",
     "text": [
      "Help on function subsample_dataframe in module __main__:\n",
      "\n",
      "subsample_dataframe(df_to_subsample, train_proportion: float)\n",
      "    Subsample a Pandas DataFrame into 2 others, based on its indexes.\n",
      "    \n",
      "    Args:\n",
      "        df_to_subsample: pd.DataFrame\n",
      "        train_proportion: float\n",
      "            proportion (]0;1[) of indexes to subsample in the dataset, in order to build the train dataset\n",
      "    \n",
      "    Returns: tuple with 2 dataframes:\n",
      "        [0] train subsample \n",
      "        [1] test subsamples\n",
      "\n"
     ]
    }
   ],
   "source": [
    "help(subsample_dataframe)"
   ]
  },
  {
   "cell_type": "code",
   "execution_count": 21,
   "metadata": {},
   "outputs": [],
   "source": [
    "# std_annot_train_events = subsample_dataframe(std_events_annot_df, 0.7)[0]\n",
    "# std_annot_test_events = subsample_dataframe(std_events_annot_df, 0.7)[1]\n",
    "\n",
    "std_annot_train  = subsample_dataframe(std_annot_df, 0.7)[0]\n",
    "std_annot_test = subsample_dataframe(std_annot_df, 0.7)[1]"
   ]
  },
  {
   "cell_type": "code",
   "execution_count": 47,
   "metadata": {},
   "outputs": [
    {
     "data": {
      "text/plain": [
       "(528, 6)"
      ]
     },
     "execution_count": 47,
     "metadata": {},
     "output_type": "execute_result"
    }
   ],
   "source": [
    "print(std_annot_train.shape, std_annot_test.shape)"
   ]
  },
  {
   "cell_type": "markdown",
   "metadata": {},
   "source": [
    "### Standardize Ketos annotation tables\n",
    "ketos.data_handling.selection_table.standardize() is the original method to standardize an annotation table for Ketos once it is built. ketos.data_handling.selection_table.is_standardized() checks if this standardization is completed or return error description."
   ]
  },
  {
   "cell_type": "markdown",
   "metadata": {},
   "source": [
    "(ClickLearn DSTI team remark :) If *signal_labels* and *backgr_labels* arguments are used, skip section 6 as background background noise will correspond to label 0 and will not need random generation"
   ]
  },
  {
   "cell_type": "code",
   "execution_count": 29,
   "metadata": {},
   "outputs": [],
   "source": [
    "# previously built dataframe version\n",
    "# events_annot_df = annotations_df"
   ]
  },
  {
   "cell_type": "code",
   "execution_count": 9,
   "metadata": {},
   "outputs": [],
   "source": [
    "# csv import version\n",
    "annot_df = pd.read_csv(os.path.join(annotations_folder_path, 'annotations_events.csv'), sep=\",\")\n",
    "\n",
    "annot_train_df = pd.read_csv(os.path.join(annotations_folder_path, 'annotations_events_train.csv'), sep=\",\")\n",
    "annot_test_df = pd.read_csv(os.path.join(annotations_folder_path, 'annotations_events_test.csv'), sep=\",\")"
   ]
  },
  {
   "cell_type": "markdown",
   "metadata": {},
   "source": [
    "Ketos allows to differenciate 1 or several positive signal labels, which will be translated as '1','2', etc., and 1 or several background labels which will be translated as '0'. Both positive and negative labels have to be put into a list. For a first training, we will use only 1 positive label (1) and 1 negative label (0)"
   ]
  },
  {
   "cell_type": "code",
   "execution_count": 10,
   "metadata": {
    "scrolled": true
   },
   "outputs": [
    {
     "name": "stdout",
     "output_type": "stream",
     "text": [
      "check if files are in standardized format:\n",
      " True \n",
      " True\n"
     ]
    }
   ],
   "source": [
    "# standardize all annotation tables\n",
    "# std_events_annot_df = sl.standardize(table = events_annot_df, signal_labels = ketos_signal_labels, trim_table=False)\n",
    "# std_clicks_annot_df = sl.standardize(table = clicks_annot_df, signal_labels = ketos_signal_labels, trim_table=False)\n",
    "\n",
    "std_annot_train_df = sl.standardize(\n",
    "    table = annot_train_df, \n",
    "    signal_labels = ketos_signal_labels,\n",
    "    backgr_labels= ketos_backgr_labels,\n",
    "    trim_table=False\n",
    ")\n",
    "\n",
    "std_annot_test_df = sl.standardize(\n",
    "    table = annot_test_df, \n",
    "    signal_labels = ketos_signal_labels,\n",
    "    backgr_labels= ketos_backgr_labels,\n",
    "    trim_table=False\n",
    ")\n",
    "\n",
    "print('check if files are in standardized format:\\n', \n",
    "      sl.is_standardized(std_annot_train_df), '\\n',\n",
    "     sl.is_standardized(std_annot_test_df))"
   ]
  },
  {
   "cell_type": "code",
   "execution_count": 11,
   "metadata": {},
   "outputs": [
    {
     "data": {
      "text/html": [
       "<div>\n",
       "<style scoped>\n",
       "    .dataframe tbody tr th:only-of-type {\n",
       "        vertical-align: middle;\n",
       "    }\n",
       "\n",
       "    .dataframe tbody tr th {\n",
       "        vertical-align: top;\n",
       "    }\n",
       "\n",
       "    .dataframe thead th {\n",
       "        text-align: right;\n",
       "    }\n",
       "</style>\n",
       "<table border=\"1\" class=\"dataframe\">\n",
       "  <thead>\n",
       "    <tr style=\"text-align: right;\">\n",
       "      <th></th>\n",
       "      <th></th>\n",
       "      <th>Unnamed: 0</th>\n",
       "      <th>Id</th>\n",
       "      <th>start</th>\n",
       "      <th>end</th>\n",
       "      <th>label</th>\n",
       "      <th>nClicks</th>\n",
       "      <th>comment</th>\n",
       "    </tr>\n",
       "    <tr>\n",
       "      <th>filename</th>\n",
       "      <th>annot_id</th>\n",
       "      <th></th>\n",
       "      <th></th>\n",
       "      <th></th>\n",
       "      <th></th>\n",
       "      <th></th>\n",
       "      <th></th>\n",
       "      <th></th>\n",
       "    </tr>\n",
       "  </thead>\n",
       "  <tbody>\n",
       "    <tr>\n",
       "      <th rowspan=\"5\" valign=\"top\">048_20180601_205959_933.wav</th>\n",
       "      <th>0</th>\n",
       "      <td>23</td>\n",
       "      <td>479</td>\n",
       "      <td>306.173</td>\n",
       "      <td>324.690</td>\n",
       "      <td>1</td>\n",
       "      <td>111</td>\n",
       "      <td>NaN</td>\n",
       "    </tr>\n",
       "    <tr>\n",
       "      <th>1</th>\n",
       "      <td>24</td>\n",
       "      <td>482</td>\n",
       "      <td>548.545</td>\n",
       "      <td>574.699</td>\n",
       "      <td>1</td>\n",
       "      <td>60</td>\n",
       "      <td>NaN</td>\n",
       "    </tr>\n",
       "    <tr>\n",
       "      <th>2</th>\n",
       "      <td>25</td>\n",
       "      <td>483</td>\n",
       "      <td>606.638</td>\n",
       "      <td>620.533</td>\n",
       "      <td>1</td>\n",
       "      <td>89</td>\n",
       "      <td>NaN</td>\n",
       "    </tr>\n",
       "    <tr>\n",
       "      <th>3</th>\n",
       "      <td>26</td>\n",
       "      <td>484</td>\n",
       "      <td>638.642</td>\n",
       "      <td>650.067</td>\n",
       "      <td>1</td>\n",
       "      <td>39</td>\n",
       "      <td>NaN</td>\n",
       "    </tr>\n",
       "    <tr>\n",
       "      <th>4</th>\n",
       "      <td>27</td>\n",
       "      <td>485</td>\n",
       "      <td>662.602</td>\n",
       "      <td>670.766</td>\n",
       "      <td>1</td>\n",
       "      <td>36</td>\n",
       "      <td>NaN</td>\n",
       "    </tr>\n",
       "  </tbody>\n",
       "</table>\n",
       "</div>"
      ],
      "text/plain": [
       "                                      Unnamed: 0   Id    start      end  \\\n",
       "filename                    annot_id                                      \n",
       "048_20180601_205959_933.wav 0                 23  479  306.173  324.690   \n",
       "                            1                 24  482  548.545  574.699   \n",
       "                            2                 25  483  606.638  620.533   \n",
       "                            3                 26  484  638.642  650.067   \n",
       "                            4                 27  485  662.602  670.766   \n",
       "\n",
       "                                      label  nClicks  comment  \n",
       "filename                    annot_id                           \n",
       "048_20180601_205959_933.wav 0             1      111      NaN  \n",
       "                            1             1       60      NaN  \n",
       "                            2             1       89      NaN  \n",
       "                            3             1       39      NaN  \n",
       "                            4             1       36      NaN  "
      ]
     },
     "execution_count": 11,
     "metadata": {},
     "output_type": "execute_result"
    }
   ],
   "source": [
    "std_annot_train_df.head(5)"
   ]
  },
  {
   "cell_type": "code",
   "execution_count": 12,
   "metadata": {},
   "outputs": [
    {
     "data": {
      "text/html": [
       "<div>\n",
       "<style scoped>\n",
       "    .dataframe tbody tr th:only-of-type {\n",
       "        vertical-align: middle;\n",
       "    }\n",
       "\n",
       "    .dataframe tbody tr th {\n",
       "        vertical-align: top;\n",
       "    }\n",
       "\n",
       "    .dataframe thead th {\n",
       "        text-align: right;\n",
       "    }\n",
       "</style>\n",
       "<table border=\"1\" class=\"dataframe\">\n",
       "  <thead>\n",
       "    <tr style=\"text-align: right;\">\n",
       "      <th></th>\n",
       "      <th></th>\n",
       "      <th>Unnamed: 0</th>\n",
       "      <th>Id</th>\n",
       "      <th>start</th>\n",
       "      <th>end</th>\n",
       "      <th>label</th>\n",
       "      <th>nClicks</th>\n",
       "      <th>comment</th>\n",
       "    </tr>\n",
       "    <tr>\n",
       "      <th>filename</th>\n",
       "      <th>annot_id</th>\n",
       "      <th></th>\n",
       "      <th></th>\n",
       "      <th></th>\n",
       "      <th></th>\n",
       "      <th></th>\n",
       "      <th></th>\n",
       "      <th></th>\n",
       "    </tr>\n",
       "  </thead>\n",
       "  <tbody>\n",
       "    <tr>\n",
       "      <th rowspan=\"2\" valign=\"top\">048_20180601_075959_932.wav</th>\n",
       "      <th>0</th>\n",
       "      <td>16</td>\n",
       "      <td>465</td>\n",
       "      <td>768.317</td>\n",
       "      <td>812.268</td>\n",
       "      <td>1</td>\n",
       "      <td>108</td>\n",
       "      <td>NaN</td>\n",
       "    </tr>\n",
       "    <tr>\n",
       "      <th>1</th>\n",
       "      <td>17</td>\n",
       "      <td>466</td>\n",
       "      <td>1499.303</td>\n",
       "      <td>1525.846</td>\n",
       "      <td>1</td>\n",
       "      <td>130</td>\n",
       "      <td>NaN</td>\n",
       "    </tr>\n",
       "    <tr>\n",
       "      <th rowspan=\"3\" valign=\"top\">048_20180601_185959_933.wav</th>\n",
       "      <th>0</th>\n",
       "      <td>18</td>\n",
       "      <td>469</td>\n",
       "      <td>1424.649</td>\n",
       "      <td>1461.736</td>\n",
       "      <td>1</td>\n",
       "      <td>93</td>\n",
       "      <td>NaN</td>\n",
       "    </tr>\n",
       "    <tr>\n",
       "      <th>1</th>\n",
       "      <td>19</td>\n",
       "      <td>473</td>\n",
       "      <td>2530.080</td>\n",
       "      <td>2553.448</td>\n",
       "      <td>1</td>\n",
       "      <td>10</td>\n",
       "      <td>NaN</td>\n",
       "    </tr>\n",
       "    <tr>\n",
       "      <th>2</th>\n",
       "      <td>20</td>\n",
       "      <td>474</td>\n",
       "      <td>2722.413</td>\n",
       "      <td>2776.792</td>\n",
       "      <td>1</td>\n",
       "      <td>126</td>\n",
       "      <td>NaN</td>\n",
       "    </tr>\n",
       "  </tbody>\n",
       "</table>\n",
       "</div>"
      ],
      "text/plain": [
       "                                      Unnamed: 0   Id     start       end  \\\n",
       "filename                    annot_id                                        \n",
       "048_20180601_075959_932.wav 0                 16  465   768.317   812.268   \n",
       "                            1                 17  466  1499.303  1525.846   \n",
       "048_20180601_185959_933.wav 0                 18  469  1424.649  1461.736   \n",
       "                            1                 19  473  2530.080  2553.448   \n",
       "                            2                 20  474  2722.413  2776.792   \n",
       "\n",
       "                                      label  nClicks  comment  \n",
       "filename                    annot_id                           \n",
       "048_20180601_075959_932.wav 0             1      108      NaN  \n",
       "                            1             1      130      NaN  \n",
       "048_20180601_185959_933.wav 0             1       93      NaN  \n",
       "                            1             1       10      NaN  \n",
       "                            2             1      126      NaN  "
      ]
     },
     "execution_count": 12,
     "metadata": {},
     "output_type": "execute_result"
    }
   ],
   "source": [
    "std_annot_test_df.head(5)"
   ]
  },
  {
   "cell_type": "markdown",
   "metadata": {},
   "source": [
    "let's check if train and test df are using different audio files (seems to be required by Ketos). the result should be an empty set:"
   ]
  },
  {
   "cell_type": "code",
   "execution_count": 32,
   "metadata": {},
   "outputs": [
    {
     "data": {
      "text/plain": [
       "set()"
      ]
     },
     "execution_count": 32,
     "metadata": {},
     "output_type": "execute_result"
    }
   ],
   "source": [
    "set(std_annot_test_df.index.unique()) & set(std_annot_train_df.index.unique())"
   ]
  },
  {
   "cell_type": "markdown",
   "metadata": {},
   "source": [
    "## 2b. Building annotation files from Clicks Annotations CSV files\n",
    "**<span style = 'color:red;'> [PLEASE SKIP ENTIRELY SECTION 2b]: First tests shown that using 2.5 ms sound samples does not seem to suit the use of spectrograms (only few pixels are displayed) and need more inquiry before going further. Thus, for this project, only Event annotation will be used to train a model.</span>**"
   ]
  },
  {
   "cell_type": "markdown",
   "metadata": {},
   "source": [
    "### Importing a Pamguard CSV file\n",
    "\n",
    "CSV files exported by Pamguard software can be converted into a Ketos annotation table.\n",
    "Export must be done with **default options and default variable names**. This section addresses **\"clicks\"** files. In these files, annotations correspond to begin time of clicks ('UTC', datetime). End time values ('end', datetime) values are automatically computed by setting a click duration ('click_duration') in milliseconds in parameters. \n",
    "    Clickend will simply be the result of begin time + click_duration. In the CSV files, columns **in bold** are required and must have **exactely the same headers** as followig:\n",
    "\n",
    "![Pamguard click csv](img/capture_PAMGUARD_click_csv.png)\n"
   ]
  },
  {
   "cell_type": "markdown",
   "metadata": {},
   "source": [
    "**<span style = 'color:red;'>Careful, executing the following cell can take more than 20 minutes !</span>**"
   ]
  },
  {
   "cell_type": "code",
   "execution_count": 116,
   "metadata": {
    "scrolled": false
   },
   "outputs": [],
   "source": [
    "annotation_csv_path = csv_clicks_path\n",
    "# annotation_type = 'clicks'\n",
    "click_duration = 2.5\n",
    "\n",
    "benchmark_start = datetime.now()\n",
    "\n",
    "# import CSV in a dataframe\n",
    "annotations_df = pd.read_csv(annotation_csv_path, sep=\",\")\n",
    "\n",
    "# Remove all whitespaces from string typed series of the dataframe \n",
    "annotations_df = strip_dataframe(annotations_df)\n",
    "\n",
    "# updating pd.Series type from string to datetime\n",
    "annotations_df.UTC = pd.to_datetime(annotations_df.UTC, format = '%Y-%m-%d %H:%M:%S.%f')\n",
    "annotations_df = annotations_df.rename(columns = {'UTC':'start'})\n",
    "\n",
    "# computing start time from beginning of the file\n",
    "# + creating a new column to add .wav filenames\n",
    "annotations_df['filename']=\"\"\n",
    "for index, row in annotations_df.iterrows():\n",
    "    try:\n",
    "        #select all the files that starts before or at the same time than \"start\", pick the last of them  \n",
    "        matching_loc = wav_df.loc[(wav_df.filestart <= row.start)].iloc[-1]\n",
    "        annotations_df.filename[index] = matching_loc['filename']\n",
    "        annotations_df.start[index] = (annotations_df.start[index] - matching_loc['filestart'])\n",
    "    except:\n",
    "        pass\n",
    "    \n",
    "# Converts click_duration into Timedelta format\n",
    "click_duration = pd.Timedelta(click_duration, unit = 'milliseconds')\n",
    "\n",
    "# Compute 'end' time thanks to click duration then convert it in seconds\n",
    "annotations_df['end'] = pd.Series(annotations_df.start + click_duration).apply(pd.Timedelta.total_seconds)\n",
    "\n",
    "#convert 'start' in seconds\n",
    "annotations_df['start'] = pd.Series(annotations_df.start).apply(pd.Timedelta.total_seconds)\n",
    "\n",
    "# add a default label for each click detection (DLD)\n",
    "annotations_df['label'] = label\n",
    "\n",
    "# select only columns required in Ketos annotation table\n",
    "annotations_df = annotations_df.loc[:,('Id', 'EventId', 'start', 'end', 'label', 'filename')]\n",
    "\n",
    "benchmark_end = datetime.now()\n",
    "benchmark = benchmark_end - benchmark_start"
   ]
  },
  {
   "cell_type": "code",
   "execution_count": 119,
   "metadata": {
    "scrolled": true
   },
   "outputs": [
    {
     "data": {
      "text/plain": [
       "datetime.timedelta(seconds=1434, microseconds=982409)"
      ]
     },
     "execution_count": 119,
     "metadata": {},
     "output_type": "execute_result"
    }
   ],
   "source": [
    "benchmark"
   ]
  },
  {
   "cell_type": "markdown",
   "metadata": {},
   "source": [
    "### Standardize Ketos annotation tables\n",
    "ketos.data_handling.selection_table.standardize() is the original method to standardize an annotation table for Ketos once it is built. ketos.data_handling.selection_table.is_standardized() checks if this standardization is completed or return error description."
   ]
  },
  {
   "cell_type": "code",
   "execution_count": 33,
   "metadata": {},
   "outputs": [],
   "source": [
    "#first csv export of the annotation table to check if row start time matches with wav file name \n",
    "csv_clicks_annotations_path = os.path.join(csv_folder_path,'annotations_clicks.csv')\n",
    "annotations_df.to_csv(csv_clicks_annotations_path)"
   ]
  },
  {
   "cell_type": "code",
   "execution_count": 122,
   "metadata": {},
   "outputs": [],
   "source": [
    "# previously built dataframe version\n",
    "clicks_annot_df = annotations_df"
   ]
  },
  {
   "cell_type": "code",
   "execution_count": 38,
   "metadata": {},
   "outputs": [],
   "source": [
    "# csv import version\n",
    "annot_df = pd.read_csv(os.path.join(annotations_folder_path, 'annotations_clicks.csv'), sep=\",\")\n",
    "\n",
    "# For a first training, we will use a limited amount of data\n",
    "annot_train_df = pd.read_csv(os.path.join(annotations_folder_path, 'annotations_clicks_train_short.csv'), sep=\",\")\n",
    "annot_test_df = pd.read_csv(os.path.join(annotations_folder_path, 'annotations_clicks_test_short.csv'), sep=\",\")"
   ]
  },
  {
   "cell_type": "code",
   "execution_count": 33,
   "metadata": {
    "scrolled": true
   },
   "outputs": [],
   "source": [
    "std_clicks_annot_train_df = sl.standardize(\n",
    "    table = annot_train_df, \n",
    "    signal_labels = ketos_signal_labels,\n",
    "    backgr_labels= ketos_backgr_labels,\n",
    "    trim_table=False\n",
    ")\n",
    "\n",
    "std_clicks_annot_test_df = sl.standardize(\n",
    "    table = annot_test_df, \n",
    "    signal_labels = ketos_signal_labels,\n",
    "    backgr_labels= ketos_backgr_labels,\n",
    "    trim_table=False\n",
    ")\n",
    "\n",
    "print('check if files are in standardized format:\\n', \n",
    "#      sl.is_standardized(std_events_annot_df), '\\n',\n",
    "      sl.is_standardized(std_clicks_annot_train_df), '\\n',\n",
    "     sl.is_standardized(std_clicks_annot_test_df))"
   ]
  },
  {
   "cell_type": "code",
   "execution_count": 46,
   "metadata": {},
   "outputs": [
    {
     "data": {
      "text/html": [
       "<div>\n",
       "<style scoped>\n",
       "    .dataframe tbody tr th:only-of-type {\n",
       "        vertical-align: middle;\n",
       "    }\n",
       "\n",
       "    .dataframe tbody tr th {\n",
       "        vertical-align: top;\n",
       "    }\n",
       "\n",
       "    .dataframe thead th {\n",
       "        text-align: right;\n",
       "    }\n",
       "</style>\n",
       "<table border=\"1\" class=\"dataframe\">\n",
       "  <thead>\n",
       "    <tr style=\"text-align: right;\">\n",
       "      <th></th>\n",
       "      <th></th>\n",
       "      <th>Unnamed: 0</th>\n",
       "      <th>Id</th>\n",
       "      <th>EventId</th>\n",
       "      <th>start</th>\n",
       "      <th>end</th>\n",
       "      <th>label</th>\n",
       "    </tr>\n",
       "    <tr>\n",
       "      <th>filename</th>\n",
       "      <th>annot_id</th>\n",
       "      <th></th>\n",
       "      <th></th>\n",
       "      <th></th>\n",
       "      <th></th>\n",
       "      <th></th>\n",
       "      <th></th>\n",
       "    </tr>\n",
       "  </thead>\n",
       "  <tbody>\n",
       "    <tr>\n",
       "      <th rowspan=\"5\" valign=\"top\">048_20180528_210000_001.wav</th>\n",
       "      <th>0</th>\n",
       "      <td>0</td>\n",
       "      <td>1</td>\n",
       "      <td>1</td>\n",
       "      <td>613.934</td>\n",
       "      <td>613.9365</td>\n",
       "      <td>1</td>\n",
       "    </tr>\n",
       "    <tr>\n",
       "      <th>1</th>\n",
       "      <td>1</td>\n",
       "      <td>2</td>\n",
       "      <td>1</td>\n",
       "      <td>614.095</td>\n",
       "      <td>614.0975</td>\n",
       "      <td>1</td>\n",
       "    </tr>\n",
       "    <tr>\n",
       "      <th>2</th>\n",
       "      <td>2</td>\n",
       "      <td>3</td>\n",
       "      <td>1</td>\n",
       "      <td>614.623</td>\n",
       "      <td>614.6255</td>\n",
       "      <td>1</td>\n",
       "    </tr>\n",
       "    <tr>\n",
       "      <th>3</th>\n",
       "      <td>3</td>\n",
       "      <td>4</td>\n",
       "      <td>1</td>\n",
       "      <td>614.986</td>\n",
       "      <td>614.9885</td>\n",
       "      <td>1</td>\n",
       "    </tr>\n",
       "    <tr>\n",
       "      <th>4</th>\n",
       "      <td>4</td>\n",
       "      <td>5</td>\n",
       "      <td>1</td>\n",
       "      <td>616.752</td>\n",
       "      <td>616.7545</td>\n",
       "      <td>1</td>\n",
       "    </tr>\n",
       "    <tr>\n",
       "      <th>...</th>\n",
       "      <th>...</th>\n",
       "      <td>...</td>\n",
       "      <td>...</td>\n",
       "      <td>...</td>\n",
       "      <td>...</td>\n",
       "      <td>...</td>\n",
       "      <td>...</td>\n",
       "    </tr>\n",
       "    <tr>\n",
       "      <th rowspan=\"5\" valign=\"top\">048_20180529_220000_001.wav</th>\n",
       "      <th>1343</th>\n",
       "      <td>172532</td>\n",
       "      <td>175726</td>\n",
       "      <td>4</td>\n",
       "      <td>1044.940</td>\n",
       "      <td>1044.9425</td>\n",
       "      <td>1</td>\n",
       "    </tr>\n",
       "    <tr>\n",
       "      <th>1344</th>\n",
       "      <td>172533</td>\n",
       "      <td>175727</td>\n",
       "      <td>4</td>\n",
       "      <td>1061.052</td>\n",
       "      <td>1061.0545</td>\n",
       "      <td>1</td>\n",
       "    </tr>\n",
       "    <tr>\n",
       "      <th>1345</th>\n",
       "      <td>172534</td>\n",
       "      <td>175728</td>\n",
       "      <td>4</td>\n",
       "      <td>1063.327</td>\n",
       "      <td>1063.3295</td>\n",
       "      <td>1</td>\n",
       "    </tr>\n",
       "    <tr>\n",
       "      <th>1346</th>\n",
       "      <td>172535</td>\n",
       "      <td>175729</td>\n",
       "      <td>4</td>\n",
       "      <td>1067.955</td>\n",
       "      <td>1067.9575</td>\n",
       "      <td>1</td>\n",
       "    </tr>\n",
       "    <tr>\n",
       "      <th>1347</th>\n",
       "      <td>172536</td>\n",
       "      <td>175730</td>\n",
       "      <td>4</td>\n",
       "      <td>1068.768</td>\n",
       "      <td>1068.7705</td>\n",
       "      <td>1</td>\n",
       "    </tr>\n",
       "  </tbody>\n",
       "</table>\n",
       "<p>1761 rows × 6 columns</p>\n",
       "</div>"
      ],
      "text/plain": [
       "                                      Unnamed: 0      Id  EventId     start  \\\n",
       "filename                    annot_id                                          \n",
       "048_20180528_210000_001.wav 0                  0       1        1   613.934   \n",
       "                            1                  1       2        1   614.095   \n",
       "                            2                  2       3        1   614.623   \n",
       "                            3                  3       4        1   614.986   \n",
       "                            4                  4       5        1   616.752   \n",
       "...                                          ...     ...      ...       ...   \n",
       "048_20180529_220000_001.wav 1343          172532  175726        4  1044.940   \n",
       "                            1344          172533  175727        4  1061.052   \n",
       "                            1345          172534  175728        4  1063.327   \n",
       "                            1346          172535  175729        4  1067.955   \n",
       "                            1347          172536  175730        4  1068.768   \n",
       "\n",
       "                                            end  label  \n",
       "filename                    annot_id                    \n",
       "048_20180528_210000_001.wav 0          613.9365      1  \n",
       "                            1          614.0975      1  \n",
       "                            2          614.6255      1  \n",
       "                            3          614.9885      1  \n",
       "                            4          616.7545      1  \n",
       "...                                         ...    ...  \n",
       "048_20180529_220000_001.wav 1343      1044.9425      1  \n",
       "                            1344      1061.0545      1  \n",
       "                            1345      1063.3295      1  \n",
       "                            1346      1067.9575      1  \n",
       "                            1347      1068.7705      1  \n",
       "\n",
       "[1761 rows x 6 columns]"
      ]
     },
     "execution_count": 46,
     "metadata": {},
     "output_type": "execute_result"
    }
   ],
   "source": [
    "std_clicks_annot_train_df"
   ]
  },
  {
   "cell_type": "code",
   "execution_count": 49,
   "metadata": {
    "scrolled": true
   },
   "outputs": [
    {
     "data": {
      "text/html": [
       "<div>\n",
       "<style scoped>\n",
       "    .dataframe tbody tr th:only-of-type {\n",
       "        vertical-align: middle;\n",
       "    }\n",
       "\n",
       "    .dataframe tbody tr th {\n",
       "        vertical-align: top;\n",
       "    }\n",
       "\n",
       "    .dataframe thead th {\n",
       "        text-align: right;\n",
       "    }\n",
       "</style>\n",
       "<table border=\"1\" class=\"dataframe\">\n",
       "  <thead>\n",
       "    <tr style=\"text-align: right;\">\n",
       "      <th></th>\n",
       "      <th></th>\n",
       "      <th>Unnamed: 0</th>\n",
       "      <th>Id</th>\n",
       "      <th>EventId</th>\n",
       "      <th>start</th>\n",
       "      <th>end</th>\n",
       "      <th>label</th>\n",
       "    </tr>\n",
       "    <tr>\n",
       "      <th>filename</th>\n",
       "      <th>annot_id</th>\n",
       "      <th></th>\n",
       "      <th></th>\n",
       "      <th></th>\n",
       "      <th></th>\n",
       "      <th></th>\n",
       "      <th></th>\n",
       "    </tr>\n",
       "  </thead>\n",
       "  <tbody>\n",
       "    <tr>\n",
       "      <th rowspan=\"11\" valign=\"top\">048_20180529_225959_999.wav</th>\n",
       "      <th>0</th>\n",
       "      <td>1718</td>\n",
       "      <td>1868</td>\n",
       "      <td>12</td>\n",
       "      <td>1030.918</td>\n",
       "      <td>1030.9205</td>\n",
       "      <td>1</td>\n",
       "    </tr>\n",
       "    <tr>\n",
       "      <th>1</th>\n",
       "      <td>1719</td>\n",
       "      <td>1869</td>\n",
       "      <td>12</td>\n",
       "      <td>1031.029</td>\n",
       "      <td>1031.0315</td>\n",
       "      <td>1</td>\n",
       "    </tr>\n",
       "    <tr>\n",
       "      <th>2</th>\n",
       "      <td>1720</td>\n",
       "      <td>1870</td>\n",
       "      <td>12</td>\n",
       "      <td>1043.917</td>\n",
       "      <td>1043.9195</td>\n",
       "      <td>1</td>\n",
       "    </tr>\n",
       "    <tr>\n",
       "      <th>3</th>\n",
       "      <td>1721</td>\n",
       "      <td>1871</td>\n",
       "      <td>12</td>\n",
       "      <td>1044.492</td>\n",
       "      <td>1044.4945</td>\n",
       "      <td>1</td>\n",
       "    </tr>\n",
       "    <tr>\n",
       "      <th>4</th>\n",
       "      <td>1722</td>\n",
       "      <td>1872</td>\n",
       "      <td>12</td>\n",
       "      <td>1044.733</td>\n",
       "      <td>1044.7355</td>\n",
       "      <td>1</td>\n",
       "    </tr>\n",
       "    <tr>\n",
       "      <th>...</th>\n",
       "      <td>...</td>\n",
       "      <td>...</td>\n",
       "      <td>...</td>\n",
       "      <td>...</td>\n",
       "      <td>...</td>\n",
       "      <td>...</td>\n",
       "    </tr>\n",
       "    <tr>\n",
       "      <th>3064</th>\n",
       "      <td>4782</td>\n",
       "      <td>4932</td>\n",
       "      <td>12</td>\n",
       "      <td>1576.941</td>\n",
       "      <td>1576.9435</td>\n",
       "      <td>1</td>\n",
       "    </tr>\n",
       "    <tr>\n",
       "      <th>3065</th>\n",
       "      <td>4783</td>\n",
       "      <td>4933</td>\n",
       "      <td>12</td>\n",
       "      <td>1578.048</td>\n",
       "      <td>1578.0505</td>\n",
       "      <td>1</td>\n",
       "    </tr>\n",
       "    <tr>\n",
       "      <th>3066</th>\n",
       "      <td>4784</td>\n",
       "      <td>4934</td>\n",
       "      <td>12</td>\n",
       "      <td>1578.412</td>\n",
       "      <td>1578.4145</td>\n",
       "      <td>1</td>\n",
       "    </tr>\n",
       "    <tr>\n",
       "      <th>3067</th>\n",
       "      <td>4785</td>\n",
       "      <td>4935</td>\n",
       "      <td>12</td>\n",
       "      <td>1579.943</td>\n",
       "      <td>1579.9455</td>\n",
       "      <td>1</td>\n",
       "    </tr>\n",
       "    <tr>\n",
       "      <th>3068</th>\n",
       "      <td>4786</td>\n",
       "      <td>4936</td>\n",
       "      <td>12</td>\n",
       "      <td>1581.316</td>\n",
       "      <td>1581.3185</td>\n",
       "      <td>1</td>\n",
       "    </tr>\n",
       "  </tbody>\n",
       "</table>\n",
       "<p>3069 rows × 6 columns</p>\n",
       "</div>"
      ],
      "text/plain": [
       "                                      Unnamed: 0    Id  EventId     start  \\\n",
       "filename                    annot_id                                        \n",
       "048_20180529_225959_999.wav 0               1718  1868       12  1030.918   \n",
       "                            1               1719  1869       12  1031.029   \n",
       "                            2               1720  1870       12  1043.917   \n",
       "                            3               1721  1871       12  1044.492   \n",
       "                            4               1722  1872       12  1044.733   \n",
       "...                                          ...   ...      ...       ...   \n",
       "                            3064            4782  4932       12  1576.941   \n",
       "                            3065            4783  4933       12  1578.048   \n",
       "                            3066            4784  4934       12  1578.412   \n",
       "                            3067            4785  4935       12  1579.943   \n",
       "                            3068            4786  4936       12  1581.316   \n",
       "\n",
       "                                            end  label  \n",
       "filename                    annot_id                    \n",
       "048_20180529_225959_999.wav 0         1030.9205      1  \n",
       "                            1         1031.0315      1  \n",
       "                            2         1043.9195      1  \n",
       "                            3         1044.4945      1  \n",
       "                            4         1044.7355      1  \n",
       "...                                         ...    ...  \n",
       "                            3064      1576.9435      1  \n",
       "                            3065      1578.0505      1  \n",
       "                            3066      1578.4145      1  \n",
       "                            3067      1579.9455      1  \n",
       "                            3068      1581.3185      1  \n",
       "\n",
       "[3069 rows x 6 columns]"
      ]
     },
     "execution_count": 49,
     "metadata": {},
     "output_type": "execute_result"
    }
   ],
   "source": [
    "std_clicks_annot_test_df"
   ]
  },
  {
   "cell_type": "markdown",
   "metadata": {},
   "source": [
    "## 3. Moving all .WAV files in a same folder\n",
    "**<span style = 'color:red;'> [PLEASE SKIP THIS SECTION] : For the purpose of the project, this step has already been executed and doesn't need to be executed again.</span>**\n",
    "\n",
    "Pelagis .wav files were split into folders and sub folders. The objective of the code cell was to gather .wav file in the parent folder so that Ketos could work and build its spectra database from a single folder as required by the documentation. \n"
   ]
  },
  {
   "cell_type": "code",
   "execution_count": 29,
   "metadata": {},
   "outputs": [],
   "source": [
    "from os.path import join, isdir\n",
    "from os import listdir, rmdir\n",
    "from shutil import move\n",
    "\n",
    "root = sound_files_path\n",
    "\n",
    "for dirname in listdir(root):\n",
    "    #only take directories (not files) \n",
    "    if isdir(join(root, dirname)):\n",
    "        # move every wav into the parent directory\n",
    "        for filename in listdir(join(root, dirname)):\n",
    "            if filename.endswith('.wav'):\n",
    "                move(join(root, dirname, filename), join(root, filename))\n"
   ]
  },
  {
   "cell_type": "markdown",
   "metadata": {},
   "source": [
    "------\n",
    "\n",
    "**Starting from here, following text is taken from the orginial Notebook, with no major implementation from ClickLearn DSTI project team. \n",
    "Only some line of codes which are specific to the project needs were added.**"
   ]
  },
  {
   "cell_type": "markdown",
   "metadata": {},
   "source": [
    "**The train and test files are now ready to be used in step *5. Creating segments of uniform length* and following ones from the original Notebook.**\n",
    "\n",
    "\n",
    "\n"
   ]
  },
  {
   "cell_type": "markdown",
   "metadata": {},
   "source": [
    "<a id=section3></a>"
   ]
  },
  {
   "cell_type": "markdown",
   "metadata": {},
   "source": [
    "## 5. Creating segments of uniform length and augmenting the data\n",
    "\n",
    "Our `` std_annot_train`` and ```std_annot_test``` have a variety of lengths, since they mark the beginning and end of events. We want each signal in the database to be represented as spectrograms, all of same length. Each spectrogram will be labelled as containing a train of clicks or not. \n",
    "\n",
    "The ```sl.select``` function in ketos can help us to do just that: for each annotated upcall, it will select a portion of the recording surrounding it. It takes a standardized annotation table as input. We will use 4 seconds as it seems enough to encompass a train of clicks among annotated events.\n",
    "\n",
    "Data augmentation is a set of tecnhiques used in machine learning to increase the data available. For now we use  a very safe technique with ```sl.select``` method, as it is not altering the original signal\n",
    "\n",
    "This table contains only positive annotations (trains of clicks). Later we will also want some examples of segments that only contain background noise.\n"
   ]
  },
  {
   "cell_type": "markdown",
   "metadata": {},
   "source": [
    "* **length** (seconds): uniform length of a segment\n",
    "* **step** (seconds): shift between 2 segments (no shift if length == step). Smaller values will produce more augmented selections, but they will be more similar to the previous selection.\n",
    "* **min_overlap** (proportion): if a segment crosses the start or the end of annotation, \n",
    "    proportion of its length that is allowed to cross (1 means no cross allowed). Lower values will result in segments that only contain part of the original upcall. We fix 50%"
   ]
  },
  {
   "cell_type": "code",
   "execution_count": 38,
   "metadata": {},
   "outputs": [],
   "source": [
    "# positives_train_events = sl.select(annotations=std_annot_train_events, length=0.5, step=0.5, min_overlap=1, center=False, discard_long=False, keep_id=False)\n",
    "# positives_test_events = sl.select(annotations=std_annot_test_events, length=0.5, step=0.5, min_overlap=1, center=False, discard_long=False, keep_id=False)\n",
    "\n",
    "positives_train = sl.select(annotations=std_annot_train_df, length=3, step=1, min_overlap=0.4, center=False, discard_long=False, keep_id=False)\n",
    "positives_test = sl.select(annotations=std_annot_test_df, length=3, step=1, min_overlap=0.4, center=False, discard_long=False, keep_id=False)\n"
   ]
  },
  {
   "cell_type": "code",
   "execution_count": 54,
   "metadata": {},
   "outputs": [],
   "source": [
    "# CLICK VERSION\n",
    "# positives_train_clicks = sl.select(annotations=std_clicks_annot_train_df, length=0.0025, step=0.0025, min_overlap=1, center=False, discard_long=False, keep_id=False)\n",
    "# positives_test_clicks = sl.select(annotations=std_clicks_annot_test_df, length=0.0025, step=0.0025, min_overlap=1, center=False, discard_long=False, keep_id=False)"
   ]
  },
  {
   "cell_type": "code",
   "execution_count": 37,
   "metadata": {
    "scrolled": true
   },
   "outputs": [
    {
     "name": "stdout",
     "output_type": "stream",
     "text": [
      "Shape of positive_train df: (536, 7)\n",
      " Shape of positive_test df: (187, 7)\n",
      " segment mean length (seconds): 2.0\n",
      "\n"
     ]
    }
   ],
   "source": [
    "#some information\n",
    "mean = (positives_train['end']-positives_train['start']).values.mean()\n",
    "print(f'Shape of positive_train df: {positives_train.shape}\\n',\n",
    "      f'Shape of positive_test df: {positives_test.shape}\\n',\n",
    "      f'segment mean length (seconds): {mean}\\n',\n",
    "     )"
   ]
  },
  {
   "cell_type": "code",
   "execution_count": 109,
   "metadata": {},
   "outputs": [],
   "source": [
    "# Original Ketos documentation:\n",
    "# positives_train = sl.select(annotations=std_annot_train, length=3.0)\n",
    "# positives_test = sl.select(annotations=std_annot_test, length=3.0, step=0.0, center=False)"
   ]
  },
  {
   "cell_type": "markdown",
   "metadata": {},
   "source": [
    "<a id=section6></a> "
   ]
  },
  {
   "cell_type": "markdown",
   "metadata": {},
   "source": [
    "## 6. Including background noise\n",
    "\n",
    "Now that we have the positive instances that we need to create our database, we need to include some examples of the negative class, or instances without upcalls.\n",
    "\n",
    "The ```sl.create_rndm_backgr_selections``` is ideal for our situation. It takes a standardized ketos table describing all sections of the recordings that contain annotations and takes samples from the non-annotaded portions of the files, assuming everything that is not annotated can be used as a 'background' category.\n",
    "\n",
    "**Note**:\n",
    "You might find yourself in a different scenario. For example, your annotations might already include a 'background' class or you might have annoted different classes of sounds and you only want to use a few of them. In any case, ketos provides a variety of other functions that are helpful in different scenarios. Have a look at the documentation for more details. Specially the ```selection_table``` module.\n",
    "\n"
   ]
  },
  {
   "cell_type": "code",
   "execution_count": 92,
   "metadata": {},
   "outputs": [],
   "source": [
    "# sl.create_rndm_backgr_selections(std_annot_test_clicks, len(std_annot_test_clicks), 12, annotations=None, no_overlap=False, trim_table=False)"
   ]
  },
  {
   "cell_type": "markdown",
   "metadata": {},
   "source": [
    "The ```sl.create_rndm_backgr_selections``` also needs the duration of each file, which we can generate using the ```sl.file_duration``` function."
   ]
  },
  {
   "cell_type": "code",
   "execution_count": 117,
   "metadata": {},
   "outputs": [],
   "source": [
    "file_durations_train = sl.file_duration_table('data/train')\n",
    "file_durations_test = sl.file_duration_table('data/test') "
   ]
  },
  {
   "cell_type": "code",
   "execution_count": 115,
   "metadata": {},
   "outputs": [
    {
     "data": {
      "text/html": [
       "<div>\n",
       "<style scoped>\n",
       "    .dataframe tbody tr th:only-of-type {\n",
       "        vertical-align: middle;\n",
       "    }\n",
       "\n",
       "    .dataframe tbody tr th {\n",
       "        vertical-align: top;\n",
       "    }\n",
       "\n",
       "    .dataframe thead th {\n",
       "        text-align: right;\n",
       "    }\n",
       "</style>\n",
       "<table border=\"1\" class=\"dataframe\">\n",
       "  <thead>\n",
       "    <tr style=\"text-align: right;\">\n",
       "      <th></th>\n",
       "      <th>filename</th>\n",
       "      <th>duration</th>\n",
       "    </tr>\n",
       "  </thead>\n",
       "  <tbody>\n",
       "    <tr>\n",
       "      <th>0</th>\n",
       "      <td>048_20180601_205959_933.wav</td>\n",
       "      <td>3600.067</td>\n",
       "    </tr>\n",
       "    <tr>\n",
       "      <th>1</th>\n",
       "      <td>048_20180601_220000_000.wav</td>\n",
       "      <td>3600.000</td>\n",
       "    </tr>\n",
       "  </tbody>\n",
       "</table>\n",
       "</div>"
      ],
      "text/plain": [
       "                      filename  duration\n",
       "0  048_20180601_205959_933.wav  3600.067\n",
       "1  048_20180601_220000_000.wav  3600.000"
      ]
     },
     "execution_count": 115,
     "metadata": {},
     "output_type": "execute_result"
    }
   ],
   "source": [
    "file_durations_train"
   ]
  },
  {
   "cell_type": "code",
   "execution_count": 116,
   "metadata": {
    "scrolled": true
   },
   "outputs": [
    {
     "data": {
      "text/html": [
       "<div>\n",
       "<style scoped>\n",
       "    .dataframe tbody tr th:only-of-type {\n",
       "        vertical-align: middle;\n",
       "    }\n",
       "\n",
       "    .dataframe tbody tr th {\n",
       "        vertical-align: top;\n",
       "    }\n",
       "\n",
       "    .dataframe thead th {\n",
       "        text-align: right;\n",
       "    }\n",
       "</style>\n",
       "<table border=\"1\" class=\"dataframe\">\n",
       "  <thead>\n",
       "    <tr style=\"text-align: right;\">\n",
       "      <th></th>\n",
       "      <th>filename</th>\n",
       "      <th>duration</th>\n",
       "    </tr>\n",
       "  </thead>\n",
       "  <tbody>\n",
       "    <tr>\n",
       "      <th>0</th>\n",
       "      <td>048_20180601_075959_932.wav</td>\n",
       "      <td>3600.068</td>\n",
       "    </tr>\n",
       "    <tr>\n",
       "      <th>1</th>\n",
       "      <td>048_20180601_185959_933.wav</td>\n",
       "      <td>3600.067</td>\n",
       "    </tr>\n",
       "  </tbody>\n",
       "</table>\n",
       "</div>"
      ],
      "text/plain": [
       "                      filename  duration\n",
       "0  048_20180601_075959_932.wav  3600.068\n",
       "1  048_20180601_185959_933.wav  3600.067"
      ]
     },
     "execution_count": 116,
     "metadata": {},
     "output_type": "execute_result"
    }
   ],
   "source": [
    "file_durations_test"
   ]
  },
  {
   "cell_type": "markdown",
   "metadata": {},
   "source": [
    "Now that we have the file durations, we can generate our table of negative segments. We'll specify the same length (3.0 seconds). The ```num``` argument specifies the number of background segments we would like to generate. Let's make this number equal to the number of positive examples in each dataset (```len(positive_train)``` and ``` len(positive_test)```)"
   ]
  },
  {
   "cell_type": "markdown",
   "metadata": {},
   "source": [
    "#### Clicks "
   ]
  },
  {
   "cell_type": "code",
   "execution_count": 46,
   "metadata": {},
   "outputs": [],
   "source": [
    "negatives_train=sl.create_rndm_backgr_selections(annotations=std_annot_train_clicks, files=file_durations_train_clicks, length=0.0025, num=len(positives_train_clicks), trim_table=True)"
   ]
  },
  {
   "cell_type": "code",
   "execution_count": 47,
   "metadata": {},
   "outputs": [],
   "source": [
    "negatives_test=sl.create_rndm_backgr_selections(annotations=std_annot_test_clicks, files=file_durations_test_clicks, length=0.0025, num=len(positives_test_clicks), trim_table=True)"
   ]
  },
  {
   "cell_type": "markdown",
   "metadata": {},
   "source": [
    "#### Events"
   ]
  },
  {
   "cell_type": "markdown",
   "metadata": {},
   "source": [
    "To create negative trains, we will use annotations_df_no_subsample dataframe that we created in section 2a (which includes all positive annotations, including unsure ones). We will use the same duration of course."
   ]
  },
  {
   "cell_type": "code",
   "execution_count": 119,
   "metadata": {},
   "outputs": [],
   "source": [
    "negatives_train=sl.create_rndm_backgr_selections(annotations=annotations_df_no_subsample, files=file_durations_train, length=4, num=len(positives_train), trim_table=True)\n",
    "negatives_test=sl.create_rndm_backgr_selections(annotations=annotations_df_no_subsample, files=file_durations_test, length=4, num=len(positives_test), trim_table=True)"
   ]
  },
  {
   "cell_type": "code",
   "execution_count": 120,
   "metadata": {},
   "outputs": [
    {
     "data": {
      "text/html": [
       "<div>\n",
       "<style scoped>\n",
       "    .dataframe tbody tr th:only-of-type {\n",
       "        vertical-align: middle;\n",
       "    }\n",
       "\n",
       "    .dataframe tbody tr th {\n",
       "        vertical-align: top;\n",
       "    }\n",
       "\n",
       "    .dataframe thead th {\n",
       "        text-align: right;\n",
       "    }\n",
       "</style>\n",
       "<table border=\"1\" class=\"dataframe\">\n",
       "  <thead>\n",
       "    <tr style=\"text-align: right;\">\n",
       "      <th></th>\n",
       "      <th></th>\n",
       "      <th>start</th>\n",
       "      <th>end</th>\n",
       "      <th>label</th>\n",
       "    </tr>\n",
       "    <tr>\n",
       "      <th>filename</th>\n",
       "      <th>sel_id</th>\n",
       "      <th></th>\n",
       "      <th></th>\n",
       "      <th></th>\n",
       "    </tr>\n",
       "  </thead>\n",
       "  <tbody>\n",
       "    <tr>\n",
       "      <th rowspan=\"5\" valign=\"top\">048_20180601_205959_933.wav</th>\n",
       "      <th>0</th>\n",
       "      <td>7.725739</td>\n",
       "      <td>11.725739</td>\n",
       "      <td>0</td>\n",
       "    </tr>\n",
       "    <tr>\n",
       "      <th>1</th>\n",
       "      <td>19.157327</td>\n",
       "      <td>23.157327</td>\n",
       "      <td>0</td>\n",
       "    </tr>\n",
       "    <tr>\n",
       "      <th>2</th>\n",
       "      <td>35.762859</td>\n",
       "      <td>39.762859</td>\n",
       "      <td>0</td>\n",
       "    </tr>\n",
       "    <tr>\n",
       "      <th>3</th>\n",
       "      <td>42.950751</td>\n",
       "      <td>46.950751</td>\n",
       "      <td>0</td>\n",
       "    </tr>\n",
       "    <tr>\n",
       "      <th>4</th>\n",
       "      <td>46.422663</td>\n",
       "      <td>50.422663</td>\n",
       "      <td>0</td>\n",
       "    </tr>\n",
       "    <tr>\n",
       "      <th>...</th>\n",
       "      <th>...</th>\n",
       "      <td>...</td>\n",
       "      <td>...</td>\n",
       "      <td>...</td>\n",
       "    </tr>\n",
       "    <tr>\n",
       "      <th rowspan=\"5\" valign=\"top\">048_20180601_220000_000.wav</th>\n",
       "      <th>267</th>\n",
       "      <td>3543.829199</td>\n",
       "      <td>3547.829199</td>\n",
       "      <td>0</td>\n",
       "    </tr>\n",
       "    <tr>\n",
       "      <th>268</th>\n",
       "      <td>3548.301840</td>\n",
       "      <td>3552.301840</td>\n",
       "      <td>0</td>\n",
       "    </tr>\n",
       "    <tr>\n",
       "      <th>269</th>\n",
       "      <td>3569.122561</td>\n",
       "      <td>3573.122561</td>\n",
       "      <td>0</td>\n",
       "    </tr>\n",
       "    <tr>\n",
       "      <th>270</th>\n",
       "      <td>3591.151531</td>\n",
       "      <td>3595.151531</td>\n",
       "      <td>0</td>\n",
       "    </tr>\n",
       "    <tr>\n",
       "      <th>271</th>\n",
       "      <td>3591.973469</td>\n",
       "      <td>3595.973469</td>\n",
       "      <td>0</td>\n",
       "    </tr>\n",
       "  </tbody>\n",
       "</table>\n",
       "<p>543 rows × 3 columns</p>\n",
       "</div>"
      ],
      "text/plain": [
       "                                          start          end  label\n",
       "filename                    sel_id                                 \n",
       "048_20180601_205959_933.wav 0          7.725739    11.725739      0\n",
       "                            1         19.157327    23.157327      0\n",
       "                            2         35.762859    39.762859      0\n",
       "                            3         42.950751    46.950751      0\n",
       "                            4         46.422663    50.422663      0\n",
       "...                                         ...          ...    ...\n",
       "048_20180601_220000_000.wav 267     3543.829199  3547.829199      0\n",
       "                            268     3548.301840  3552.301840      0\n",
       "                            269     3569.122561  3573.122561      0\n",
       "                            270     3591.151531  3595.151531      0\n",
       "                            271     3591.973469  3595.973469      0\n",
       "\n",
       "[543 rows x 3 columns]"
      ]
     },
     "execution_count": 120,
     "metadata": {},
     "output_type": "execute_result"
    }
   ],
   "source": [
    "negatives_train"
   ]
  },
  {
   "cell_type": "code",
   "execution_count": 121,
   "metadata": {},
   "outputs": [
    {
     "data": {
      "text/html": [
       "<div>\n",
       "<style scoped>\n",
       "    .dataframe tbody tr th:only-of-type {\n",
       "        vertical-align: middle;\n",
       "    }\n",
       "\n",
       "    .dataframe tbody tr th {\n",
       "        vertical-align: top;\n",
       "    }\n",
       "\n",
       "    .dataframe thead th {\n",
       "        text-align: right;\n",
       "    }\n",
       "</style>\n",
       "<table border=\"1\" class=\"dataframe\">\n",
       "  <thead>\n",
       "    <tr style=\"text-align: right;\">\n",
       "      <th></th>\n",
       "      <th></th>\n",
       "      <th>start</th>\n",
       "      <th>end</th>\n",
       "      <th>label</th>\n",
       "    </tr>\n",
       "    <tr>\n",
       "      <th>filename</th>\n",
       "      <th>sel_id</th>\n",
       "      <th></th>\n",
       "      <th></th>\n",
       "      <th></th>\n",
       "    </tr>\n",
       "  </thead>\n",
       "  <tbody>\n",
       "    <tr>\n",
       "      <th rowspan=\"5\" valign=\"top\">048_20180601_075959_932.wav</th>\n",
       "      <th>0</th>\n",
       "      <td>16.531581</td>\n",
       "      <td>20.531581</td>\n",
       "      <td>0</td>\n",
       "    </tr>\n",
       "    <tr>\n",
       "      <th>1</th>\n",
       "      <td>19.657702</td>\n",
       "      <td>23.657702</td>\n",
       "      <td>0</td>\n",
       "    </tr>\n",
       "    <tr>\n",
       "      <th>2</th>\n",
       "      <td>22.589602</td>\n",
       "      <td>26.589602</td>\n",
       "      <td>0</td>\n",
       "    </tr>\n",
       "    <tr>\n",
       "      <th>3</th>\n",
       "      <td>56.227939</td>\n",
       "      <td>60.227939</td>\n",
       "      <td>0</td>\n",
       "    </tr>\n",
       "    <tr>\n",
       "      <th>4</th>\n",
       "      <td>77.341488</td>\n",
       "      <td>81.341488</td>\n",
       "      <td>0</td>\n",
       "    </tr>\n",
       "    <tr>\n",
       "      <th>...</th>\n",
       "      <th>...</th>\n",
       "      <td>...</td>\n",
       "      <td>...</td>\n",
       "      <td>...</td>\n",
       "    </tr>\n",
       "    <tr>\n",
       "      <th rowspan=\"5\" valign=\"top\">048_20180601_185959_933.wav</th>\n",
       "      <th>92</th>\n",
       "      <td>3432.874185</td>\n",
       "      <td>3436.874185</td>\n",
       "      <td>0</td>\n",
       "    </tr>\n",
       "    <tr>\n",
       "      <th>93</th>\n",
       "      <td>3447.514166</td>\n",
       "      <td>3451.514166</td>\n",
       "      <td>0</td>\n",
       "    </tr>\n",
       "    <tr>\n",
       "      <th>94</th>\n",
       "      <td>3529.386532</td>\n",
       "      <td>3533.386532</td>\n",
       "      <td>0</td>\n",
       "    </tr>\n",
       "    <tr>\n",
       "      <th>95</th>\n",
       "      <td>3548.562152</td>\n",
       "      <td>3552.562152</td>\n",
       "      <td>0</td>\n",
       "    </tr>\n",
       "    <tr>\n",
       "      <th>96</th>\n",
       "      <td>3551.442812</td>\n",
       "      <td>3555.442812</td>\n",
       "      <td>0</td>\n",
       "    </tr>\n",
       "  </tbody>\n",
       "</table>\n",
       "<p>191 rows × 3 columns</p>\n",
       "</div>"
      ],
      "text/plain": [
       "                                          start          end  label\n",
       "filename                    sel_id                                 \n",
       "048_20180601_075959_932.wav 0         16.531581    20.531581      0\n",
       "                            1         19.657702    23.657702      0\n",
       "                            2         22.589602    26.589602      0\n",
       "                            3         56.227939    60.227939      0\n",
       "                            4         77.341488    81.341488      0\n",
       "...                                         ...          ...    ...\n",
       "048_20180601_185959_933.wav 92      3432.874185  3436.874185      0\n",
       "                            93      3447.514166  3451.514166      0\n",
       "                            94      3529.386532  3533.386532      0\n",
       "                            95      3548.562152  3552.562152      0\n",
       "                            96      3551.442812  3555.442812      0\n",
       "\n",
       "[191 rows x 3 columns]"
      ]
     },
     "execution_count": 121,
     "metadata": {},
     "output_type": "execute_result"
    }
   ],
   "source": [
    "negatives_test"
   ]
  },
  {
   "cell_type": "markdown",
   "metadata": {},
   "source": [
    "Finally, we'll just put the ```positives_train``` and ```negatives_train``` together and do the same to the test tables."
   ]
  },
  {
   "cell_type": "code",
   "execution_count": 122,
   "metadata": {},
   "outputs": [],
   "source": [
    "selections_train = positives_train.append(negatives_train, sort=False)\n",
    "selections_test = positives_test.append(negatives_test, sort=False)"
   ]
  },
  {
   "cell_type": "code",
   "execution_count": 315,
   "metadata": {},
   "outputs": [
    {
     "data": {
      "text/html": [
       "<div>\n",
       "<style scoped>\n",
       "    .dataframe tbody tr th:only-of-type {\n",
       "        vertical-align: middle;\n",
       "    }\n",
       "\n",
       "    .dataframe tbody tr th {\n",
       "        vertical-align: top;\n",
       "    }\n",
       "\n",
       "    .dataframe thead th {\n",
       "        text-align: right;\n",
       "    }\n",
       "</style>\n",
       "<table border=\"1\" class=\"dataframe\">\n",
       "  <thead>\n",
       "    <tr style=\"text-align: right;\">\n",
       "      <th></th>\n",
       "      <th></th>\n",
       "      <th>Unnamed: 0</th>\n",
       "      <th>Id</th>\n",
       "      <th>label</th>\n",
       "      <th>nClicks</th>\n",
       "      <th>comment</th>\n",
       "      <th>start</th>\n",
       "      <th>end</th>\n",
       "    </tr>\n",
       "    <tr>\n",
       "      <th>filename</th>\n",
       "      <th>sel_id</th>\n",
       "      <th></th>\n",
       "      <th></th>\n",
       "      <th></th>\n",
       "      <th></th>\n",
       "      <th></th>\n",
       "      <th></th>\n",
       "      <th></th>\n",
       "    </tr>\n",
       "  </thead>\n",
       "  <tbody>\n",
       "    <tr>\n",
       "      <th rowspan=\"5\" valign=\"top\">048_20180601_205959_933.wav</th>\n",
       "      <th>0</th>\n",
       "      <td>23.0</td>\n",
       "      <td>479.0</td>\n",
       "      <td>1</td>\n",
       "      <td>111.0</td>\n",
       "      <td>NaN</td>\n",
       "      <td>304.285851</td>\n",
       "      <td>308.285851</td>\n",
       "    </tr>\n",
       "    <tr>\n",
       "      <th>1</th>\n",
       "      <td>23.0</td>\n",
       "      <td>479.0</td>\n",
       "      <td>1</td>\n",
       "      <td>111.0</td>\n",
       "      <td>NaN</td>\n",
       "      <td>305.285851</td>\n",
       "      <td>309.285851</td>\n",
       "    </tr>\n",
       "    <tr>\n",
       "      <th>2</th>\n",
       "      <td>23.0</td>\n",
       "      <td>479.0</td>\n",
       "      <td>1</td>\n",
       "      <td>111.0</td>\n",
       "      <td>NaN</td>\n",
       "      <td>306.285851</td>\n",
       "      <td>310.285851</td>\n",
       "    </tr>\n",
       "    <tr>\n",
       "      <th>3</th>\n",
       "      <td>23.0</td>\n",
       "      <td>479.0</td>\n",
       "      <td>1</td>\n",
       "      <td>111.0</td>\n",
       "      <td>NaN</td>\n",
       "      <td>307.285851</td>\n",
       "      <td>311.285851</td>\n",
       "    </tr>\n",
       "    <tr>\n",
       "      <th>4</th>\n",
       "      <td>23.0</td>\n",
       "      <td>479.0</td>\n",
       "      <td>1</td>\n",
       "      <td>111.0</td>\n",
       "      <td>NaN</td>\n",
       "      <td>308.285851</td>\n",
       "      <td>312.285851</td>\n",
       "    </tr>\n",
       "    <tr>\n",
       "      <th>...</th>\n",
       "      <th>...</th>\n",
       "      <td>...</td>\n",
       "      <td>...</td>\n",
       "      <td>...</td>\n",
       "      <td>...</td>\n",
       "      <td>...</td>\n",
       "      <td>...</td>\n",
       "      <td>...</td>\n",
       "    </tr>\n",
       "    <tr>\n",
       "      <th rowspan=\"5\" valign=\"top\">048_20180601_220000_000.wav</th>\n",
       "      <th>267</th>\n",
       "      <td>NaN</td>\n",
       "      <td>NaN</td>\n",
       "      <td>0</td>\n",
       "      <td>NaN</td>\n",
       "      <td>NaN</td>\n",
       "      <td>3543.829199</td>\n",
       "      <td>3547.829199</td>\n",
       "    </tr>\n",
       "    <tr>\n",
       "      <th>268</th>\n",
       "      <td>NaN</td>\n",
       "      <td>NaN</td>\n",
       "      <td>0</td>\n",
       "      <td>NaN</td>\n",
       "      <td>NaN</td>\n",
       "      <td>3548.301840</td>\n",
       "      <td>3552.301840</td>\n",
       "    </tr>\n",
       "    <tr>\n",
       "      <th>269</th>\n",
       "      <td>NaN</td>\n",
       "      <td>NaN</td>\n",
       "      <td>0</td>\n",
       "      <td>NaN</td>\n",
       "      <td>NaN</td>\n",
       "      <td>3569.122561</td>\n",
       "      <td>3573.122561</td>\n",
       "    </tr>\n",
       "    <tr>\n",
       "      <th>270</th>\n",
       "      <td>NaN</td>\n",
       "      <td>NaN</td>\n",
       "      <td>0</td>\n",
       "      <td>NaN</td>\n",
       "      <td>NaN</td>\n",
       "      <td>3591.151531</td>\n",
       "      <td>3595.151531</td>\n",
       "    </tr>\n",
       "    <tr>\n",
       "      <th>271</th>\n",
       "      <td>NaN</td>\n",
       "      <td>NaN</td>\n",
       "      <td>0</td>\n",
       "      <td>NaN</td>\n",
       "      <td>NaN</td>\n",
       "      <td>3591.973469</td>\n",
       "      <td>3595.973469</td>\n",
       "    </tr>\n",
       "  </tbody>\n",
       "</table>\n",
       "<p>1086 rows × 7 columns</p>\n",
       "</div>"
      ],
      "text/plain": [
       "                                    Unnamed: 0     Id  label  nClicks  \\\n",
       "filename                    sel_id                                      \n",
       "048_20180601_205959_933.wav 0             23.0  479.0      1    111.0   \n",
       "                            1             23.0  479.0      1    111.0   \n",
       "                            2             23.0  479.0      1    111.0   \n",
       "                            3             23.0  479.0      1    111.0   \n",
       "                            4             23.0  479.0      1    111.0   \n",
       "...                                        ...    ...    ...      ...   \n",
       "048_20180601_220000_000.wav 267            NaN    NaN      0      NaN   \n",
       "                            268            NaN    NaN      0      NaN   \n",
       "                            269            NaN    NaN      0      NaN   \n",
       "                            270            NaN    NaN      0      NaN   \n",
       "                            271            NaN    NaN      0      NaN   \n",
       "\n",
       "                                    comment        start          end  \n",
       "filename                    sel_id                                     \n",
       "048_20180601_205959_933.wav 0           NaN   304.285851   308.285851  \n",
       "                            1           NaN   305.285851   309.285851  \n",
       "                            2           NaN   306.285851   310.285851  \n",
       "                            3           NaN   307.285851   311.285851  \n",
       "                            4           NaN   308.285851   312.285851  \n",
       "...                                     ...          ...          ...  \n",
       "048_20180601_220000_000.wav 267         NaN  3543.829199  3547.829199  \n",
       "                            268         NaN  3548.301840  3552.301840  \n",
       "                            269         NaN  3569.122561  3573.122561  \n",
       "                            270         NaN  3591.151531  3595.151531  \n",
       "                            271         NaN  3591.973469  3595.973469  \n",
       "\n",
       "[1086 rows x 7 columns]"
      ]
     },
     "execution_count": 315,
     "metadata": {},
     "output_type": "execute_result"
    }
   ],
   "source": [
    "selections_train"
   ]
  },
  {
   "cell_type": "code",
   "execution_count": 303,
   "metadata": {},
   "outputs": [
    {
     "data": {
      "text/html": [
       "<div>\n",
       "<style scoped>\n",
       "    .dataframe tbody tr th:only-of-type {\n",
       "        vertical-align: middle;\n",
       "    }\n",
       "\n",
       "    .dataframe tbody tr th {\n",
       "        vertical-align: top;\n",
       "    }\n",
       "\n",
       "    .dataframe thead th {\n",
       "        text-align: right;\n",
       "    }\n",
       "</style>\n",
       "<table border=\"1\" class=\"dataframe\">\n",
       "  <thead>\n",
       "    <tr style=\"text-align: right;\">\n",
       "      <th></th>\n",
       "      <th></th>\n",
       "      <th>Unnamed: 0</th>\n",
       "      <th>Id</th>\n",
       "      <th>label</th>\n",
       "      <th>nClicks</th>\n",
       "      <th>comment</th>\n",
       "      <th>start</th>\n",
       "      <th>end</th>\n",
       "    </tr>\n",
       "    <tr>\n",
       "      <th>filename</th>\n",
       "      <th>sel_id</th>\n",
       "      <th></th>\n",
       "      <th></th>\n",
       "      <th></th>\n",
       "      <th></th>\n",
       "      <th></th>\n",
       "      <th></th>\n",
       "      <th></th>\n",
       "    </tr>\n",
       "  </thead>\n",
       "  <tbody>\n",
       "    <tr>\n",
       "      <th rowspan=\"5\" valign=\"top\">048_20180601_075959_932.wav</th>\n",
       "      <th>0</th>\n",
       "      <td>16.0</td>\n",
       "      <td>465.0</td>\n",
       "      <td>1</td>\n",
       "      <td>108.0</td>\n",
       "      <td>NaN</td>\n",
       "      <td>766.530193</td>\n",
       "      <td>770.530193</td>\n",
       "    </tr>\n",
       "    <tr>\n",
       "      <th>1</th>\n",
       "      <td>16.0</td>\n",
       "      <td>465.0</td>\n",
       "      <td>1</td>\n",
       "      <td>108.0</td>\n",
       "      <td>NaN</td>\n",
       "      <td>767.530193</td>\n",
       "      <td>771.530193</td>\n",
       "    </tr>\n",
       "    <tr>\n",
       "      <th>2</th>\n",
       "      <td>16.0</td>\n",
       "      <td>465.0</td>\n",
       "      <td>1</td>\n",
       "      <td>108.0</td>\n",
       "      <td>NaN</td>\n",
       "      <td>768.530193</td>\n",
       "      <td>772.530193</td>\n",
       "    </tr>\n",
       "    <tr>\n",
       "      <th>3</th>\n",
       "      <td>16.0</td>\n",
       "      <td>465.0</td>\n",
       "      <td>1</td>\n",
       "      <td>108.0</td>\n",
       "      <td>NaN</td>\n",
       "      <td>769.530193</td>\n",
       "      <td>773.530193</td>\n",
       "    </tr>\n",
       "    <tr>\n",
       "      <th>4</th>\n",
       "      <td>16.0</td>\n",
       "      <td>465.0</td>\n",
       "      <td>1</td>\n",
       "      <td>108.0</td>\n",
       "      <td>NaN</td>\n",
       "      <td>770.530193</td>\n",
       "      <td>774.530193</td>\n",
       "    </tr>\n",
       "    <tr>\n",
       "      <th>...</th>\n",
       "      <th>...</th>\n",
       "      <td>...</td>\n",
       "      <td>...</td>\n",
       "      <td>...</td>\n",
       "      <td>...</td>\n",
       "      <td>...</td>\n",
       "      <td>...</td>\n",
       "      <td>...</td>\n",
       "    </tr>\n",
       "    <tr>\n",
       "      <th rowspan=\"5\" valign=\"top\">048_20180601_185959_933.wav</th>\n",
       "      <th>92</th>\n",
       "      <td>NaN</td>\n",
       "      <td>NaN</td>\n",
       "      <td>0</td>\n",
       "      <td>NaN</td>\n",
       "      <td>NaN</td>\n",
       "      <td>3432.874185</td>\n",
       "      <td>3436.874185</td>\n",
       "    </tr>\n",
       "    <tr>\n",
       "      <th>93</th>\n",
       "      <td>NaN</td>\n",
       "      <td>NaN</td>\n",
       "      <td>0</td>\n",
       "      <td>NaN</td>\n",
       "      <td>NaN</td>\n",
       "      <td>3447.514166</td>\n",
       "      <td>3451.514166</td>\n",
       "    </tr>\n",
       "    <tr>\n",
       "      <th>94</th>\n",
       "      <td>NaN</td>\n",
       "      <td>NaN</td>\n",
       "      <td>0</td>\n",
       "      <td>NaN</td>\n",
       "      <td>NaN</td>\n",
       "      <td>3529.386532</td>\n",
       "      <td>3533.386532</td>\n",
       "    </tr>\n",
       "    <tr>\n",
       "      <th>95</th>\n",
       "      <td>NaN</td>\n",
       "      <td>NaN</td>\n",
       "      <td>0</td>\n",
       "      <td>NaN</td>\n",
       "      <td>NaN</td>\n",
       "      <td>3548.562152</td>\n",
       "      <td>3552.562152</td>\n",
       "    </tr>\n",
       "    <tr>\n",
       "      <th>96</th>\n",
       "      <td>NaN</td>\n",
       "      <td>NaN</td>\n",
       "      <td>0</td>\n",
       "      <td>NaN</td>\n",
       "      <td>NaN</td>\n",
       "      <td>3551.442812</td>\n",
       "      <td>3555.442812</td>\n",
       "    </tr>\n",
       "  </tbody>\n",
       "</table>\n",
       "<p>382 rows × 7 columns</p>\n",
       "</div>"
      ],
      "text/plain": [
       "                                    Unnamed: 0     Id  label  nClicks  \\\n",
       "filename                    sel_id                                      \n",
       "048_20180601_075959_932.wav 0             16.0  465.0      1    108.0   \n",
       "                            1             16.0  465.0      1    108.0   \n",
       "                            2             16.0  465.0      1    108.0   \n",
       "                            3             16.0  465.0      1    108.0   \n",
       "                            4             16.0  465.0      1    108.0   \n",
       "...                                        ...    ...    ...      ...   \n",
       "048_20180601_185959_933.wav 92             NaN    NaN      0      NaN   \n",
       "                            93             NaN    NaN      0      NaN   \n",
       "                            94             NaN    NaN      0      NaN   \n",
       "                            95             NaN    NaN      0      NaN   \n",
       "                            96             NaN    NaN      0      NaN   \n",
       "\n",
       "                                    comment        start          end  \n",
       "filename                    sel_id                                     \n",
       "048_20180601_075959_932.wav 0           NaN   766.530193   770.530193  \n",
       "                            1           NaN   767.530193   771.530193  \n",
       "                            2           NaN   768.530193   772.530193  \n",
       "                            3           NaN   769.530193   773.530193  \n",
       "                            4           NaN   770.530193   774.530193  \n",
       "...                                     ...          ...          ...  \n",
       "048_20180601_185959_933.wav 92          NaN  3432.874185  3436.874185  \n",
       "                            93          NaN  3447.514166  3451.514166  \n",
       "                            94          NaN  3529.386532  3533.386532  \n",
       "                            95          NaN  3548.562152  3552.562152  \n",
       "                            96          NaN  3551.442812  3555.442812  \n",
       "\n",
       "[382 rows x 7 columns]"
      ]
     },
     "execution_count": 303,
     "metadata": {},
     "output_type": "execute_result"
    }
   ],
   "source": [
    "selections_test"
   ]
  },
  {
   "cell_type": "markdown",
   "metadata": {},
   "source": [
    "At this point, we have defined *which* audio segments we want in our database: 50% with click trains and 50% without, and same ratio for the test set.\n",
    "\n",
    "Now we need to decide *how* these segments will be represented."
   ]
  },
  {
   "cell_type": "markdown",
   "metadata": {},
   "source": [
    "<a id=section7></a>"
   ]
  },
  {
   "cell_type": "markdown",
   "metadata": {},
   "source": [
    "###  7. Choosing the spectrogram settings\n",
    "\n",
    "As mentioned earlier, we'll represent the segments as spectrograms.\n",
    "In the .zip file where you found the data, there's also a spectrogram configuration file (```spec_config.json```) which contains the settings we want to use.\n",
    "\n",
    "This configuration file is simply a text file in the ```.json``` format, so you could make a copy of it, change a few parameters and save several settings to use later or to share the with someone else.\n"
   ]
  },
  {
   "cell_type": "code",
   "execution_count": 39,
   "metadata": {},
   "outputs": [],
   "source": [
    "import matplotlib.pyplot as plt"
   ]
  },
  {
   "cell_type": "code",
   "execution_count": 40,
   "metadata": {},
   "outputs": [
    {
     "data": {
      "text/plain": [
       "{'type': 'MagSpectrogram',\n",
       " 'rate': 1000,\n",
       " 'window': 0.256,\n",
       " 'step': 0.032,\n",
       " 'freq_min': 0,\n",
       " 'freq_max': 500,\n",
       " 'window_func': 'hamming'}"
      ]
     },
     "execution_count": 40,
     "metadata": {},
     "output_type": "execute_result"
    }
   ],
   "source": [
    "spec_config = load_audio_representation('spec_config.json', name=\"spectrogram\")\n",
    "spec_config"
   ]
  },
  {
   "cell_type": "markdown",
   "metadata": {},
   "source": [
    "Let's have a first look at one example of click detection, using MagSpectrogram.from_wav method. We will take one of the annotations from our train set:"
   ]
  },
  {
   "cell_type": "code",
   "execution_count": 41,
   "metadata": {},
   "outputs": [
    {
     "ename": "NameError",
     "evalue": "name 'annotations_df' is not defined",
     "output_type": "error",
     "traceback": [
      "\u001b[1;31m---------------------------------------------------------------------------\u001b[0m",
      "\u001b[1;31mNameError\u001b[0m                                 Traceback (most recent call last)",
      "\u001b[1;32m<ipython-input-41-ec89a905a1f0>\u001b[0m in \u001b[0;36m<module>\u001b[1;34m\u001b[0m\n\u001b[1;32m----> 1\u001b[1;33m \u001b[0mannotations_df\u001b[0m\u001b[1;33m.\u001b[0m\u001b[0mloc\u001b[0m\u001b[1;33m[\u001b[0m\u001b[0mannotations_df\u001b[0m\u001b[1;33m[\u001b[0m\u001b[1;34m'Id'\u001b[0m\u001b[1;33m]\u001b[0m \u001b[1;33m==\u001b[0m \u001b[1;36m479\u001b[0m\u001b[1;33m]\u001b[0m\u001b[1;33m\u001b[0m\u001b[1;33m\u001b[0m\u001b[0m\n\u001b[0m",
      "\u001b[1;31mNameError\u001b[0m: name 'annotations_df' is not defined"
     ]
    }
   ],
   "source": [
    "annotations_df.loc[annotations_df['Id'] == 479]"
   ]
  },
  {
   "cell_type": "code",
   "execution_count": 321,
   "metadata": {
    "scrolled": false
   },
   "outputs": [],
   "source": [
    "# compute the spectrogram of the 1st upcall, using the spectrogram parameters loaded from the saved model\n",
    "spec1 = MagSpectrogram.from_wav(\n",
    "    path='/Volumes/BENITO/Pelagis - Données acoustiques ASI/Recordings 048 kHz/048_20180601_205959_933.wav',\n",
    "    offset=309.173, #- 0.5*spec_config['duration'],\n",
    "    **spec_config)\n",
    "\n",
    "spec1.plot() #create the figure\n",
    "plt.show()  #display it"
   ]
  },
  {
   "cell_type": "markdown",
   "metadata": {},
   "source": [
    "We explore a little bit different possible audio representations"
   ]
  },
  {
   "cell_type": "code",
   "execution_count": 339,
   "metadata": {},
   "outputs": [
    {
     "data": {
      "image/png": "[encoded data removed]",
      "text/plain": [
       "<Figure size 360x288 with 3 Axes>"
      ]
     },
     "metadata": {
      "needs_background": "light"
     },
     "output_type": "display_data"
    }
   ],
   "source": [
    "#shorter window, second stereo channel \n",
    "spec_config = {\n",
    "    'channel': 1, #stereo channel (0 by default)\n",
    "    'type': 'MagSpectrogram',\n",
    "#      'rate': 1000, #None = use original rate\n",
    "     'window': 0.1,\n",
    "     'step': 0.032,\n",
    "     'freq_min': 0,\n",
    "     'freq_max': 25000,\n",
    "     'window_func': 'hamming',\n",
    "     'duration': 4\n",
    "    }\n",
    "\n",
    "spec2 = MagSpectrogram.from_wav(\n",
    "    path='/Volumes/BENITO/Pelagis - Données acoustiques ASI/Recordings 048 kHz/048_20180601_205959_933.wav',\n",
    "    offset=309.173, #- 0.5*spec_config['duration'],\n",
    "    **spec_config)\n",
    "spec2.plot()\n",
    "plt.show()"
   ]
  },
  {
   "cell_type": "markdown",
   "metadata": {},
   "source": [
    "<a id=section8></a>"
   ]
  },
  {
   "cell_type": "markdown",
   "metadata": {},
   "source": [
    "### 8. Creating the database\n",
    "\n",
    "Now we have to compute the spectrograms following the settings above for each selection in our selection tables and then save them in a database.\n",
    "\n",
    "All of this can be done with the ```dbi.create_database``` function in Ketos.\n",
    "\n",
    "We will start with the training dataset. We need to indicate the name for the database we want to create, where the audio files are, a name for the dataset, the selections table and, finally the audio representation. As specified in our ``spec_cfg``, this is a Magnitude spectrogram, but ketos can also create databases with Power, Mel and CQT spectrograms, as well as time-domain data (waveforms).\n"
   ]
  },
  {
   "cell_type": "code",
   "execution_count": 340,
   "metadata": {},
   "outputs": [
    {
     "name": "stderr",
     "output_type": "stream",
     "text": [
      "100%|██████████| 1086/1086 [02:07<00:00,  8.49it/s]\n"
     ]
    },
    {
     "name": "stdout",
     "output_type": "stream",
     "text": [
      "1086 items saved to database_01.h5\n"
     ]
    }
   ],
   "source": [
    "spec_config = {\n",
    "#     'channel': 1, #stereo channel (0 by default)\n",
    "    'type': 'MagSpectrogram',\n",
    "#      'rate': 1000, #None = use original rate\n",
    "     'window': 0.1,\n",
    "     'step': 0.032,\n",
    "     'freq_min': 0,\n",
    "     'freq_max': 25000,\n",
    "     'window_func': 'hamming',\n",
    "     'duration': 4\n",
    "    }\n",
    "#channel arg is shared with create_database method, that's why we move it there:\n",
    "dbi.create_database(output_file='database_01.h5', \n",
    "                    channel = 1,\n",
    "                    data_dir='data/train',\n",
    "                    dataset_name='train',\n",
    "                    selections=selections_train,\n",
    "                    audio_repres=spec_config\n",
    "                   )                             "
   ]
  },
  {
   "cell_type": "markdown",
   "metadata": {},
   "source": [
    "And we do the same thing for the test set. Note that, by specifying the same database name, we are telling ketos that we want to add the test set to the existing database."
   ]
  },
  {
   "cell_type": "code",
   "execution_count": 341,
   "metadata": {},
   "outputs": [
    {
     "name": "stderr",
     "output_type": "stream",
     "text": [
      "100%|██████████| 382/382 [00:44<00:00,  8.59it/s]"
     ]
    },
    {
     "name": "stdout",
     "output_type": "stream",
     "text": [
      "382 items saved to database_01.h5\n"
     ]
    },
    {
     "name": "stderr",
     "output_type": "stream",
     "text": [
      "\n"
     ]
    }
   ],
   "source": [
    "# channel arg is also added there in the same way as previously\n",
    "dbi.create_database(output_file='database_01.h5', \n",
    "                    channel = 1,\n",
    "                    data_dir='data/test',\n",
    "                    dataset_name='test',\n",
    "                    selections=selections_test,\n",
    "                    audio_repres=spec_config\n",
    "                   )                            "
   ]
  },
  {
   "cell_type": "markdown",
   "metadata": {},
   "source": [
    "Now we have our database with spectrograms representing audio segments with and without the North Atlantic Right Whale upcall. The data is divided into 'train' and 'test'. \n",
    "\n"
   ]
  },
  {
   "cell_type": "code",
   "execution_count": 346,
   "metadata": {},
   "outputs": [],
   "source": [
    "db = dbi.open_file(\"database_01.h5\", 'r')"
   ]
  },
  {
   "cell_type": "code",
   "execution_count": 347,
   "metadata": {},
   "outputs": [
    {
     "data": {
      "text/plain": [
       "File(filename=database_01.h5, title='', mode='r', root_uep='/', filters=Filters(complevel=0, shuffle=False, bitshuffle=False, fletcher32=False, least_significant_digit=None))\n",
       "/ (RootGroup) ''\n",
       "/test (Group) ''\n",
       "/test/data (Table(382,), fletcher32, shuffle, zlib(1)) ''\n",
       "  description := {\n",
       "  \"data\": Float32Col(shape=(125, 2401), dflt=0.0, pos=0),\n",
       "  \"filename\": StringCol(itemsize=100, shape=(), dflt=b'', pos=1),\n",
       "  \"id\": UInt32Col(shape=(), dflt=0, pos=2),\n",
       "  \"label\": UInt8Col(shape=(), dflt=0, pos=3),\n",
       "  \"offset\": Float64Col(shape=(), dflt=0.0, pos=4)}\n",
       "  byteorder := 'little'\n",
       "  chunkshape := (1,)\n",
       "/train (Group) ''\n",
       "/train/data (Table(1086,), fletcher32, shuffle, zlib(1)) ''\n",
       "  description := {\n",
       "  \"data\": Float32Col(shape=(125, 2401), dflt=0.0, pos=0),\n",
       "  \"filename\": StringCol(itemsize=100, shape=(), dflt=b'', pos=1),\n",
       "  \"id\": UInt32Col(shape=(), dflt=0, pos=2),\n",
       "  \"label\": UInt8Col(shape=(), dflt=0, pos=3),\n",
       "  \"offset\": Float64Col(shape=(), dflt=0.0, pos=4)}\n",
       "  byteorder := 'little'\n",
       "  chunkshape := (1,)"
      ]
     },
     "execution_count": 347,
     "metadata": {},
     "output_type": "execute_result"
    }
   ],
   "source": [
    "db"
   ]
  },
  {
   "cell_type": "markdown",
   "metadata": {},
   "source": [
    "Here we can see the data divided into 'train' and 'test' These are called 'groups' in HDF5 terms. Within each of them there's a dataset called 'data', which contains the spectrograms and respective labels."
   ]
  },
  {
   "cell_type": "code",
   "execution_count": null,
   "metadata": {},
   "outputs": [],
   "source": []
  },
  {
   "cell_type": "code",
   "execution_count": null,
   "metadata": {},
   "outputs": [],
   "source": []
  },
  {
   "cell_type": "code",
   "execution_count": 344,
   "metadata": {},
   "outputs": [],
   "source": [
    "db.close() #close the database connection"
   ]
  },
  {
   "cell_type": "markdown",
   "metadata": {},
   "source": [
    "You will likely not need to directly interact with the database. In a following tutorial, we will use Ketos to build a deep neural network and train it to recognize upcalls. Ketos handles the database interactions, so we won't really have to go into the details of it, but if you would like to learn more about how to get data from this database, take a look at the [database_interface](https://docs.meridian.cs.dal.ca/ketos/modules/data_handling/database_interface.html) module in ketos and the [pyTables](https://www.pytables.org/index.html) documentation."
   ]
  }
 ],
 "metadata": {
  "kernelspec": {
   "display_name": "Python 3",
   "language": "python",
   "name": "python3"
  },
  "language_info": {
   "codemirror_mode": {
    "name": "ipython",
    "version": 3
   },
   "file_extension": ".py",
   "mimetype": "text/x-python",
   "name": "python",
   "nbconvert_exporter": "python",
   "pygments_lexer": "ipython3",
   "version": "3.7.10"
  }
 },
 "nbformat": 4,
 "nbformat_minor": 2
}
